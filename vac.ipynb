{
 "cells": [
  {
   "cell_type": "code",
   "execution_count": null,
   "metadata": {
    "collapsed": false
   },
   "outputs": [],
   "source": []
  },
  {
   "cell_type": "markdown",
   "metadata": {
    "collapsed": false
   },
   "source": [
    "# We start off by importing the data"
   ]
  },
  {
   "cell_type": "code",
   "execution_count": null,
   "metadata": {
    "collapsed": false
   },
   "outputs": [],
   "source": [
    "import pandas as pd\n",
    "df = pd.read_csv('data/vac.csv', sep=',', index_col=0, parse_dates=True) # it's important to define index and parse_dates\n",
    "\n"
   ]
  },
  {
   "cell_type": "code",
   "source": [],
   "metadata": {
    "collapsed": false,
    "pycharm": {
     "name": "#%%\n"
    }
   },
   "execution_count": null,
   "outputs": []
  },
  {
   "cell_type": "markdown",
   "metadata": {
    "collapsed": false
   },
   "source": [
    "## We'll have a look at the column names"
   ]
  },
  {
   "cell_type": "code",
   "execution_count": null,
   "metadata": {
    "collapsed": false
   },
   "outputs": [],
   "source": [
    "# list(df.columns.values)"
   ]
  },
  {
   "cell_type": "markdown",
   "metadata": {
    "collapsed": false
   },
   "source": [
    "### Let's remove columns that don't interest us"
   ]
  },
  {
   "cell_type": "code",
   "execution_count": null,
   "metadata": {
    "collapsed": false
   },
   "outputs": [],
   "source": [
    "uninteresting = ['indikation_alter_dosen', 'indikation_alter_erst', 'indikation_alter_voll',\n",
    "                 'indikation_beruf_dosen', 'indikation_beruf_erst', 'indikation_beruf_voll',\n",
    "                 'indikation_medizinisch_dosen', 'indikation_medizinisch_erst', 'indikation_medizinisch_voll',\n",
    "                'indikation_pflegeheim_dosen', 'indikation_pflegeheim_erst', 'indikation_pflegeheim_voll']\n",
    "\n",
    "different_vaccines = ['dosen_biontech_kumulativ', 'dosen_erst_biontech_kumulativ', 'dosen_voll_biontech_kumulativ',\n",
    "                      'dosen_moderna_kumulativ', 'dosen_erst_moderna_kumulativ', 'dosen_voll_moderna_kumulativ',\n",
    "                      'dosen_astrazeneca_kumulativ', 'dosen_erst_astrazeneca_kumulativ', 'dosen_voll_astrazeneca_kumulativ']\n",
    "\n",
    "df = df.drop(uninteresting, axis=1)\n",
    "df = df.drop(different_vaccines, axis=1)\n",
    "list(df.columns.values)\n"
   ]
  },
  {
   "cell_type": "markdown",
   "metadata": {
    "collapsed": false
   },
   "source": [
    "### Or actually let's just pick the few columns that interest us"
   ]
  },
  {
   "cell_type": "code",
   "execution_count": null,
   "metadata": {
    "collapsed": false
   },
   "outputs": [],
   "source": [
    "df = df[['publication_date', 'dosen_kumulativ', 'impf_inzidenz_dosen']]"
   ]
  },
  {
   "cell_type": "markdown",
   "metadata": {
    "collapsed": false
   },
   "source": [
    "# Let's fix the data"
   ]
  },
  {
   "cell_type": "markdown",
   "metadata": {
    "collapsed": false
   },
   "source": [
    "### We'll first fill missing rows, Saturdays seem to be missing!"
   ]
  },
  {
   "cell_type": "code",
   "execution_count": null,
   "metadata": {
    "collapsed": false
   },
   "outputs": [],
   "source": [
    "df.head()"
   ]
  },
  {
   "cell_type": "code",
   "execution_count": null,
   "outputs": [],
   "source": [
    "idx = pd.date_range(df.index.min(), df.index.max())\n",
    "\n",
    "df = df.reindex(idx, method='ffill')\n",
    "\n",
    "# Create new index column because that's waay easier than having the date column be the index\n",
    "df = df.reset_index()\n",
    "df = df.rename(columns={'index': 'date'})\n",
    "#fill_value=0 \n",
    "# convert column \"a\" to int64 dtype and \"b\" to complex type\n",
    "# df = df.astype({'dosen_kumulativ': int})"
   ],
   "metadata": {
    "collapsed": false,
    "pycharm": {
     "name": "#%%\n"
    }
   }
  },
  {
   "cell_type": "code",
   "execution_count": null,
   "metadata": {
    "collapsed": false
   },
   "outputs": [],
   "source": [
    "# df['dosen_kumulativ'] = df['dosen_kumulativ'].fillna(method='ffill')\n",
    "# df['impf_inzidenz_dosen'] = df['impf_inzidenz_dosen'].fillna(0)\n",
    "# df.head(5)"
   ]
  },
  {
   "cell_type": "markdown",
   "metadata": {
    "collapsed": false
   },
   "source": [
    "### Let's fix errors in the data. There are two spikes, that just seem out of place"
   ]
  },
  {
   "cell_type": "code",
   "execution_count": null,
   "metadata": {
    "collapsed": false
   },
   "outputs": [],
   "source": [
    "df.dosen_kumulativ = df.dosen_kumulativ.replace(384311, 343668)\n",
    "df.dosen_kumulativ = df.dosen_kumulativ.replace(1150129, 1186228)\n",
    "# df.dosen_kumulativ.replace(343668, 384311)\n",
    "\n",
    "# df.at[29, 'dosen_kumulativ'] = 343668\n",
    "# df.at['2020-03-03', 'dosen_kumulativ'] = 1186228\n",
    "\n",
    "\n"
   ]
  },
  {
   "cell_type": "markdown",
   "metadata": {
    "collapsed": false
   },
   "source": [
    "# Let's add some new useful columns"
   ]
  },
  {
   "cell_type": "markdown",
   "metadata": {
    "collapsed": false
   },
   "source": [
    "## New column: Day of the week\n"
   ]
  },
  {
   "cell_type": "code",
   "execution_count": null,
   "outputs": [],
   "source": [
    "df.date\n"
   ],
   "metadata": {
    "collapsed": false,
    "pycharm": {
     "name": "#%%\n"
    }
   }
  },
  {
   "cell_type": "code",
   "execution_count": null,
   "outputs": [],
   "source": [
    "def week_day_string(weekday):\n",
    "    if weekday == 0:\n",
    "        return 'Mon'\n",
    "    elif weekday == 1:\n",
    "        return 'Tue'\n",
    "    elif weekday == 2:\n",
    "        return 'Wed'\n",
    "    elif weekday == 3:\n",
    "        return 'Thu'\n",
    "    elif weekday == 4:\n",
    "        return 'Fri'\n",
    "    elif weekday == 5:\n",
    "        return 'Sat'\n",
    "    elif weekday == 6:\n",
    "        return 'Sun'\n",
    "    else:\n",
    "        return 'other'\n",
    "\n",
    "def is_weekend(weekday):\n",
    "    if weekday == 5:\n",
    "        return True\n",
    "    elif weekday == 6:\n",
    "        return True\n",
    "    else:\n",
    "        return False\n",
    "\n",
    "df['weekday'] = df.date.dt.dayofweek\n",
    "df['is_weekend'] = df.apply(lambda x: is_weekend(x['weekday']), axis=1)\n",
    "df['weekday_name'] = df.apply(lambda x: week_day_string(x['weekday']), axis=1)\n",
    "df['calendar_week'] = df.date.dt.week"
   ],
   "metadata": {
    "collapsed": false,
    "pycharm": {
     "name": "#%%\n"
    }
   }
  },
  {
   "cell_type": "code",
   "execution_count": null,
   "outputs": [],
   "source": [
    "df.tail(25)"
   ],
   "metadata": {
    "collapsed": false,
    "pycharm": {
     "name": "#%%\n"
    }
   }
  },
  {
   "cell_type": "markdown",
   "source": [
    "### Let's fix the sunday value describing the whole weekend\n"
   ],
   "metadata": {
    "collapsed": false
   }
  },
  {
   "cell_type": "code",
   "execution_count": null,
   "outputs": [],
   "source": [
    "to_modify = []\n",
    "prev_value = -1\n",
    "\n",
    "for index, row in df.iterrows():\n",
    "    if row['dosen_kumulativ'] == prev_value and row['weekday'] == 5 :\n",
    "        to_modify.append(index)\n",
    "    prev_value = row['dosen_kumulativ']\n",
    "\n",
    "print(f'Saturdays with 0 {to_modify}')\n",
    "\n",
    "for i in to_modify:\n",
    "    try:\n",
    "        sunday_value = df.loc[df.index == i+1, 'dosen_kumulativ'].values[0]\n",
    "        dif = sunday_value - df.loc[df.index == i, 'dosen_kumulativ'].values[0]\n",
    "        add = int(dif / 2)\n",
    "        new_total = df.loc[df.index == i, 'dosen_kumulativ'].values[0] + add\n",
    "        df.loc[df.index == i, 'dosen_kumulativ'] = new_total\n",
    "        print(f'modifying dosen_kumu of {i} to {new_total} using {sunday_value} and half diff which is {add}')\n",
    "    except IndexError:\n",
    "        print(\"An exception occurred\")\n"
   ],
   "metadata": {
    "collapsed": false,
    "pycharm": {
     "name": "#%%\n"
    }
   }
  },
  {
   "cell_type": "markdown",
   "source": [
    "## New column Differenz in total doses"
   ],
   "metadata": {
    "collapsed": false
   }
  },
  {
   "cell_type": "code",
   "execution_count": null,
   "outputs": [],
   "source": [
    "df['vortag_dosen_dif'] = df.dosen_kumulativ - df.dosen_kumulativ.shift(1)\n",
    "df['vortag_dosen_dif'] = df['vortag_dosen_dif'].fillna(0)\n",
    "df = df.astype({'vortag_dosen_dif': 'int64'})\n",
    "\n"
   ],
   "metadata": {
    "collapsed": false,
    "pycharm": {
     "name": "#%%\n"
    }
   }
  },
  {
   "cell_type": "markdown",
   "metadata": {
    "collapsed": false
   },
   "source": [
    "## Let's take a look"
   ]
  },
  {
   "cell_type": "code",
   "execution_count": null,
   "metadata": {
    "collapsed": false
   },
   "outputs": [],
   "source": [
    "df.tail(2)"
   ]
  },
  {
   "cell_type": "code",
   "execution_count": null,
   "metadata": {
    "collapsed": false
   },
   "outputs": [],
   "source": [
    "current_official_doses = df.tail(1)['dosen_kumulativ']\n",
    "#current_official_doses.values[0]\n",
    "current_official_doses"
   ]
  },
  {
   "cell_type": "code",
   "execution_count": null,
   "metadata": {
    "collapsed": false
   },
   "outputs": [],
   "source": [
    "df.set_index('date')['dosen_kumulativ'].plot.line(figsize=(18,8), color='cornflowerblue', linewidth=3, title='Impfungen Bayern')\n"
   ]
  },
  {
   "cell_type": "code",
   "execution_count": null,
   "metadata": {
    "collapsed": false
   },
   "outputs": [],
   "source": [
    "print(df['vortag_dosen_dif'].max())\n",
    "print(df['vortag_dosen_dif'].min())\n"
   ]
  },
  {
   "cell_type": "code",
   "execution_count": null,
   "metadata": {
    "collapsed": false
   },
   "outputs": [],
   "source": [
    "int(df.tail(3)['vortag_dosen_dif'].values.mean())"
   ]
  },
  {
   "cell_type": "code",
   "execution_count": null,
   "outputs": [],
   "source": [
    "df['rolling_vortag_dosen_dif'] = df.vortag_dosen_dif.rolling(7).mean()\n",
    "df.set_index('date')['vortag_dosen_dif'].plot.line(x='date', figsize=(18,8), color='silver', linewidth=0.8)\n",
    "df.set_index('date')['rolling_vortag_dosen_dif'].plot.line(x='date', figsize=(18,8), color='cornflowerblue', linewidth=7, title='Rolling Impfdosen differenz zum Vortag - Bayern')\n"
   ],
   "metadata": {
    "collapsed": false,
    "pycharm": {
     "name": "#%%\n"
    }
   }
  },
  {
   "cell_type": "markdown",
   "source": [
    "## Vaccinations per weekday"
   ],
   "metadata": {
    "collapsed": false
   }
  },
  {
   "cell_type": "code",
   "execution_count": null,
   "outputs": [],
   "source": [
    "def avg_vacs_per_weekday_last_x_weeks(x):\n",
    "    df.tail(7*x).groupby([\"weekday_name\"])['vortag_dosen_dif'].mean().sort_values().plot.bar(x='weekday_name', figsize=(10,6), color='seagreen', title=f'Average vaccinations per weekday (last {x} weeks)')\n"
   ],
   "metadata": {
    "collapsed": false,
    "pycharm": {
     "name": "#%%\n"
    }
   }
  },
  {
   "cell_type": "code",
   "execution_count": null,
   "outputs": [],
   "source": [
    "avg_vacs_per_weekday_last_x_weeks(30)"
   ],
   "metadata": {
    "collapsed": false,
    "pycharm": {
     "name": "#%%\n"
    }
   }
  },
  {
   "cell_type": "code",
   "execution_count": null,
   "outputs": [],
   "source": [
    "avg_vacs_per_weekday_last_x_weeks(5)"
   ],
   "metadata": {
    "collapsed": false,
    "pycharm": {
     "name": "#%%\n"
    }
   }
  },
  {
   "cell_type": "markdown",
   "source": [
    "## Vaccinations per calendar week"
   ],
   "metadata": {
    "collapsed": false
   }
  },
  {
   "cell_type": "code",
   "execution_count": null,
   "outputs": [],
   "source": [
    "# tail(length - 5) removes 53 calendar week\n",
    "df.tail(len(df.index) - 8).groupby([\"calendar_week\"])['vortag_dosen_dif'].sum().plot.bar(x='weekday_name', figsize=(10,6), color='darksalmon', title=f'Total vaccinations per calendar week')\n"
   ],
   "metadata": {
    "collapsed": false,
    "pycharm": {
     "name": "#%%\n"
    }
   }
  },
  {
   "cell_type": "code",
   "execution_count": null,
   "outputs": [],
   "source": [
    "# tail(length - 5) removes 53 calendar week\n",
    "df.tail(len(df.index) - 8).groupby([\"calendar_week\"])['vortag_dosen_dif'].mean().plot.bar(x='weekday_name', figsize=(10,6), color='darksalmon', title=f'Average vaccinations per calendar week')\n"
   ],
   "metadata": {
    "collapsed": false,
    "pycharm": {
     "name": "#%%\n"
    }
   }
  }
 ],
 "metadata": {
  "kernelspec": {
   "display_name": "Python 3 (system-wide)",
   "language": "python",
   "metadata": {
    "cocalc": {
     "description": "Python 3 programming language",
     "priority": 100,
     "url": "https://www.python.org/"
    }
   },
   "name": "python3",
   "resource_dir": "/ext/jupyter/kernels/python3"
  },
  "language_info": {
   "codemirror_mode": {
    "name": "ipython",
    "version": 3
   },
   "file_extension": ".py",
   "mimetype": "text/x-python",
   "name": "python",
   "nbconvert_exporter": "python",
   "pygments_lexer": "ipython3",
   "version": "3.8.5"
  }
 },
 "nbformat": 4,
 "nbformat_minor": 4
}