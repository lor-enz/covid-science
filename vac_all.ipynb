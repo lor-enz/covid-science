{
 "cells": [
  {
   "cell_type": "markdown",
   "metadata": {},
   "source": [
    "# We start off by reading the data"
   ]
  },
  {
   "cell_type": "code",
   "execution_count": null,
   "metadata": {},
   "outputs": [],
   "source": [
    "import shared\n",
    "\n",
    "bl_dict = shared.bl_dict\n",
    "bl_kurzel = shared.bl_kurzel"
   ]
  },
  {
   "cell_type": "code",
   "execution_count": null,
   "metadata": {
    "pycharm": {
     "name": "#%%\n"
    }
   },
   "outputs": [],
   "source": [
    "from datetime import datetime\n",
    "import pandas as pd\n",
    "import plotly.graph_objects as go\n",
    "\n",
    "dfs = {}\n",
    "for kurzel in bl_kurzel:\n",
    "    dfs[kurzel] = pd.read_pickle(f'data/df_vac_{kurzel}.pkl')\n",
    "\n",
    "pd.options.plotting.backend = \"plotly\"\n",
    "pd.set_option('float_format', '{:,.1f}'.format)\n",
    "\n",
    "# colors\n",
    "import plotly.express as px\n",
    "from itertools import cycle\n",
    "\n",
    "palette = shared.get_palette()\n"
   ]
  },
  {
   "cell_type": "markdown",
   "metadata": {},
   "source": [
    "## Let's take a look"
   ]
  },
  {
   "cell_type": "code",
   "execution_count": null,
   "metadata": {
    "pycharm": {
     "name": "#%%\n"
    }
   },
   "outputs": [],
   "source": [
    "dfs['DE'].tail(5)"
   ]
  },
  {
   "cell_type": "code",
   "execution_count": null,
   "metadata": {
    "pycharm": {
     "name": "#%%\n"
    }
   },
   "outputs": [],
   "source": [
    "current_official_doses = dfs['DE'].tail(1)['dosen_kumulativ']\n",
    "#current_official_doses.values[0]\n",
    "current_official_doses"
   ]
  },
  {
   "cell_type": "markdown",
   "source": [
    "### Irgendwas mit Erst- Zweitimpfungen"
   ],
   "metadata": {
    "collapsed": false,
    "pycharm": {
     "name": "#%% md\n"
    }
   }
  },
  {
   "cell_type": "code",
   "execution_count": null,
   "outputs": [],
   "source": [
    "palette = shared.get_palette()\n",
    "to_plot = dfs['DE'].set_index('date')\n",
    "fig = go.Figure()\n",
    "fig.add_trace(go.Scatter(x = to_plot.index,\n",
    "                             y=to_plot['personen_erst_kumulativ'],\n",
    "                             mode='lines',\n",
    "                             name='Erst geimpft',\n",
    "                             marker_color=next(palette),\n",
    "                             line=dict(width=2.5)))\n",
    "fig.add_trace(go.Scatter(x = to_plot.index,\n",
    "                             y=to_plot['personen_voll_kumulativ'],\n",
    "                             mode='lines',\n",
    "                             name='Voll geimpft',\n",
    "                             marker_color=next(palette),\n",
    "                             line=dict(width=2.5)))\n",
    "fig.update_layout(\n",
    "        width=900,\n",
    "        height=600,\n",
    "        title='Erstimpfungen und Zweitimpfungen (Deutschland)'\n",
    "    )\n",
    "fig.show()"
   ],
   "metadata": {
    "collapsed": false,
    "pycharm": {
     "name": "#%%\n"
    }
   }
  },
  {
   "cell_type": "code",
   "execution_count": null,
   "metadata": {
    "pycharm": {
     "name": "#%%\n"
    }
   },
   "outputs": [],
   "source": [
    "to_plot = dfs['DE'].set_index('date')\n",
    "fig = go.Figure()\n",
    "def add_dosen_for_bl(kurzel):\n",
    "    to_plot = dfs[kurzel].set_index('date')\n",
    "    fig.add_trace(go.Scatter(x = to_plot.index,\n",
    "                             y=to_plot['shots_sum'],\n",
    "                             mode='lines',\n",
    "                             name=f'{bl_dict[kurzel]}',\n",
    "                             marker_color=next(palette),\n",
    "                             line=dict(width=2.5)))\n",
    "\n",
    "palette = shared.get_palette()\n",
    "for kurzel in bl_kurzel:\n",
    "    add_dosen_for_bl(kurzel)\n",
    "\n",
    "fig.update_layout(\n",
    "        width=1050,\n",
    "        height=600,\n",
    "        title='Absolute verteilte Impfdosen'\n",
    "    )\n",
    "shared.write_html(fig, 'vac_shots-bl-absolute')\n",
    "fig.show()"
   ]
  },
  {
   "cell_type": "code",
   "execution_count": null,
   "outputs": [],
   "source": [
    "to_plot = dfs['DE'].set_index('date')\n",
    "fig = go.Figure()\n",
    "def add_dosen_for_bl(kurzel):\n",
    "    to_plot = dfs[kurzel].set_index('date')\n",
    "    fig.add_trace(go.Scatter(x = to_plot.index,\n",
    "                             y=to_plot['shots_sum_100k'],\n",
    "                             mode='lines',\n",
    "                             name=f'{bl_dict[kurzel]}',\n",
    "                             marker_color=next(palette),\n",
    "                             line=dict(width=2.5)))\n",
    "\n",
    "palette = shared.get_palette()\n",
    "for kurzel in bl_kurzel:\n",
    "    add_dosen_for_bl(kurzel)\n",
    "\n",
    "fig.update_layout(\n",
    "        width=1050,\n",
    "        height=600,\n",
    "        title='Verteilte Impfdosen pro 100k Einwohner'\n",
    "    )\n",
    "shared.write_html(fig, 'vac_shots-bl-per-100k')\n",
    "fig.show()"
   ],
   "metadata": {
    "collapsed": false,
    "pycharm": {
     "name": "#%%\n"
    }
   }
  },
  {
   "cell_type": "markdown",
   "metadata": {
    "pycharm": {
     "is_executing": true,
     "name": "#%% md\n"
    }
   },
   "source": [
    "### Average doses of the last days"
   ]
  },
  {
   "cell_type": "code",
   "execution_count": null,
   "metadata": {
    "pycharm": {
     "name": "#%%\n"
    }
   },
   "outputs": [],
   "source": [
    "def avg_doses_of_last_x_days(last_days):\n",
    "    data = []\n",
    "    for i in range(1, last_days):\n",
    "        data.append([i, int(dfs['DE'].tail(i)['shots_today'].sum() /i)])\n",
    "\n",
    "    a = pd.DataFrame(columns=[\"Last x days\", \"Average vacs\"], data=data)\n",
    "\n",
    "    fig = go.Figure(data=[\n",
    "        go.Bar(name='Three',x=a['Last x days'], y=a['Average vacs'])\n",
    "\n",
    "    ])\n",
    "    fig.update_layout(\n",
    "        width=1000,\n",
    "        height=350,\n",
    "        title=f'Durchschnitt verteilte Impfdosen der letzten x Tage in Deutschland (Stand: {datetime.now().strftime(\"%Y-%m-%d\")})'\n",
    "    )\n",
    "    shared.write_html(fig, f'avg-shots-last-{last_days}-days')\n",
    "    fig.show()\n",
    "    return a\n"
   ]
  },
  {
   "cell_type": "code",
   "execution_count": null,
   "metadata": {
    "pycharm": {
     "name": "#%%\n"
    }
   },
   "outputs": [],
   "source": [
    "a = avg_doses_of_last_x_days(100)\n",
    "a.head(7)"
   ]
  },
  {
   "cell_type": "code",
   "execution_count": null,
   "metadata": {
    "pycharm": {
     "name": "#%%\n"
    }
   },
   "outputs": [],
   "source": [
    "a = avg_doses_of_last_x_days(365)\n",
    "\n"
   ]
  },
  {
   "cell_type": "code",
   "execution_count": null,
   "metadata": {
    "pycharm": {
     "name": "#%%\n"
    }
   },
   "outputs": [],
   "source": [
    "def add_rolling(fig, df, days, kurzel, column='shots_today_100k'):\n",
    "    try:\n",
    "        name = bl_dict[kurzel]\n",
    "    except KeyError:\n",
    "        name = kurzel\n",
    "    fig.add_trace(go.Scatter(x = df.index,\n",
    "                         y=df[column].rolling(days).mean(),\n",
    "                         mode='lines',\n",
    "                         name=name,\n",
    "                         marker_color=next(palette),\n",
    "                         line=dict( width=3)))\n",
    "\n",
    "def add_traces(fig, df, column='shots_today_100k'):\n",
    "    fig.add_trace(go.Scatter(x = df.index,\n",
    "                             y=df[column],\n",
    "                             mode='markers',\n",
    "                             name='Real',\n",
    "                             marker=dict(\n",
    "                                color='grey',\n",
    "                                size=4,\n",
    "                            ),\n",
    "                        ))\n",
    "\n",
    "palette = shared.get_palette()\n",
    "fig7 = go.Figure()\n",
    "for kurzel in bl_kurzel:\n",
    "    to_plot = dfs[kurzel].set_index('date')    \n",
    "    add_rolling(fig7, to_plot, 7, kurzel)\n",
    "\n",
    "\n",
    "palette = shared.get_palette()\n",
    "fig21 = go.Figure()\n",
    "for kurzel in bl_kurzel:\n",
    "    to_plot = dfs[kurzel].set_index('date')\n",
    "    add_rolling(fig21, to_plot, 21, kurzel)\n",
    "\n",
    "palette = shared.get_palette()\n",
    "fig_BY = go.Figure()\n",
    "to_plot = dfs['BY'].set_index('date')\n",
    "add_traces(fig_BY, to_plot, column='shots_today')\n",
    "add_rolling(fig_BY, to_plot, 7, '7 Tage', column='shots_today')\n",
    "add_rolling(fig_BY, to_plot, 14, '14 Tage', column='shots_today')\n",
    "add_rolling(fig_BY, to_plot, 21, '21 Tage', column='shots_today')\n",
    "\n",
    "palette = shared.get_palette()\n",
    "fig_DE = go.Figure()\n",
    "to_plot = dfs['DE'].set_index('date')\n",
    "add_traces(fig_DE, to_plot, column='shots_today')\n",
    "add_rolling(fig_DE, to_plot, 7, '7 Tage', column='shots_today')\n",
    "add_rolling(fig_DE, to_plot, 14, '14 Tage', column='shots_today')\n",
    "add_rolling(fig_DE, to_plot, 21, '21 Tage', column='shots_today')\n",
    "\n",
    "\n",
    "fig7.update_layout(\n",
    "    width=1000,\n",
    "    height=700,\n",
    "    # yaxis_range=[0,400_000],\n",
    "    title='Täglich verteilte Impfdosen (pro 100k) mit rollendem 7 Tage Fenster'\n",
    ")\n",
    "\n",
    "fig21.update_layout(\n",
    "    width=1000,\n",
    "    height=700,\n",
    "    # yaxis_range=[0,400_000],\n",
    "    title='Täglich verteilte Impfdosen (pro 100k) mit rollendem 21 Tage Fenster'\n",
    ")\n",
    "\n",
    "fig_BY.update_layout(\n",
    "    width=1000,\n",
    "    height=700,\n",
    "    # yaxis_range=[0,400_000],\n",
    "    title='Täglich verteilte Impfdosen mit verschiedenen rollenden Fenstern (Bayern)'\n",
    ")\n",
    "\n",
    "fig_DE.update_layout(\n",
    "    width=1000,\n",
    "    height=700,\n",
    "    # yaxis_range=[0,400_000],\n",
    "    title='Täglich verteilte Impfdosen mit verschiedenen rollenden Fenstern (Deutschland)'\n",
    ")\n",
    "\n",
    "shared.write_html(fig7, 'vac_daily-shots-7-day-window')\n",
    "shared.write_html(fig21, 'vac_daily-shots-21-day-window')\n",
    "shared.write_html(fig_BY, 'vac_daily-shots-BY')\n",
    "shared.write_html(fig_DE, 'vac_daily-shots-DE')\n",
    "\n",
    "fig7.show()\n",
    "fig21.show()\n",
    "fig_BY.show()\n",
    "fig_DE.show()"
   ]
  },
  {
   "cell_type": "markdown",
   "metadata": {},
   "source": [
    "## Vaccinations per weekday"
   ]
  },
  {
   "cell_type": "code",
   "execution_count": null,
   "metadata": {
    "pycharm": {
     "name": "#%%\n"
    }
   },
   "outputs": [],
   "source": [
    "\n",
    "to_plot_all = dfs['DE'].groupby([\"weekday_name\"])['shots_today'].mean().sort_values()\n",
    "to_plot_10 = dfs['DE'].tail(7*10).groupby([\"weekday_name\"])['shots_today'].mean().sort_values()\n",
    "to_plot_5 = dfs['DE'].tail(7*5).groupby([\"weekday_name\"])['shots_today'].mean().sort_values()\n",
    "to_plot_2 = dfs['DE'].tail(7*2).groupby([\"weekday_name\"])['shots_today'].mean().sort_values()\n",
    "to_plot_1 = dfs['DE'].tail(7*1).groupby([\"weekday_name\"])['shots_today'].mean().sort_values()\n",
    "\n",
    "palette = shared.get_palette()\n",
    "fig = go.Figure(data=[\n",
    "    go.Bar(name='Ganzer Zeitraum', y=to_plot_all, x=to_plot_all.index),\n",
    "    go.Bar(name='10 Wochen', y=to_plot_10, x=to_plot_10.index),\n",
    "    go.Bar(name='5 Wochen', y=to_plot_5, x=to_plot_5.index),\n",
    "    go.Bar(name='2 Wochen', y=to_plot_2, x=to_plot_2.index),\n",
    "    go.Bar(name='letzte Woche', y=to_plot_1, x=to_plot_1.index),\n",
    "])\n",
    "fig.update_layout(\n",
    "    width=1000,\n",
    "    height=500,\n",
    "    title='Verteilung der absoluten wöchentlichen Impfungen über die Wochentage',\n",
    ")\n",
    "fig.update_xaxes(categoryorder='array', categoryarray= ['Sat','Sun','Mon','Tue','Wed','Thu','Fri'])\n",
    "shared.write_html(fig, \"weekdays_total\")\n",
    "fig.show()"
   ]
  },
  {
   "cell_type": "code",
   "execution_count": null,
   "metadata": {},
   "outputs": [],
   "source": [
    "def helper(number, sum):\n",
    "    result = number / sum\n",
    "    # print(f\"Number is {number}, sum is {sum}, result is {result}\")\n",
    "    return result\n",
    "    \n",
    "def weekday_vac_proportion(df):\n",
    "    df = df.groupby([\"weekday_name\"]).mean()\n",
    "    df['shots_today']\n",
    "    sum = df['shots_today'].sum()\n",
    "    df['vac_proportion'] = df.apply(lambda x: helper(x['shots_today'], sum), axis=1)\n",
    "    return df"
   ]
  },
  {
   "cell_type": "code",
   "execution_count": null,
   "metadata": {},
   "outputs": [],
   "source": [
    "to_plot_all = weekday_vac_proportion(dfs['DE'])\n",
    "to_plot_10 = weekday_vac_proportion(dfs['DE'].tail(7*10))\n",
    "to_plot_5 = weekday_vac_proportion(dfs['DE'].tail(7*5))\n",
    "to_plot_2 = weekday_vac_proportion(dfs['DE'].tail(7*2))\n",
    "to_plot_1 = weekday_vac_proportion(dfs['DE'].tail(7*1))\n",
    "vor_hausarztimpfungen = weekday_vac_proportion(dfs['DE'].head(7*15))\n",
    "\n",
    "palette = shared.get_palette()\n",
    "fig = go.Figure(data=[\n",
    "    go.Bar(name='Ganzer Zeitraum', y=to_plot_all['vac_proportion'], x=to_plot_all.index),\n",
    "    go.Bar(name='10 Wochen', y=to_plot_10['vac_proportion'], x=to_plot_10.index),\n",
    "    go.Bar(name='5 Wochen', y=to_plot_5['vac_proportion'], x=to_plot_5.index),\n",
    "    go.Bar(name='2 Wochen', y=to_plot_2['vac_proportion'], x=to_plot_2.index),\n",
    "    go.Bar(name='1 Wochen', y=to_plot_1['vac_proportion'], x=to_plot_1.index),\n",
    "    go.Bar(name='vor Impfung in Praxen', y=vor_hausarztimpfungen['vac_proportion'], x=vor_hausarztimpfungen.index),\n",
    "\n",
    "])\n",
    "fig.update_layout(\n",
    "    width=1000,\n",
    "    height=500,\n",
    "    title='Verteilung der wöchentlichen Impfungen über die Wochentage in Prozent',\n",
    ")\n",
    "fig.update_xaxes(categoryorder='array', categoryarray= ['Sat','Sun','Mon','Tue','Wed','Thu','Fri'])\n",
    "shared.write_html(fig, \"weekdays_prop\")\n",
    "fig.show()"
   ]
  },
  {
   "cell_type": "markdown",
   "metadata": {},
   "source": [
    "## Vaccinations per calendar week"
   ]
  },
  {
   "cell_type": "code",
   "execution_count": null,
   "metadata": {},
   "outputs": [],
   "source": [
    "df = dfs['DE']\n",
    "to_plot_sum = df.groupby(['year_and_week']).sum()\n",
    "to_plot_sum['year_and_week'] = to_plot_sum.index\n"
   ]
  },
  {
   "cell_type": "code",
   "execution_count": null,
   "metadata": {},
   "outputs": [],
   "source": [
    "df = dfs['DE']\n",
    "to_plot_sum = df.groupby(['year_and_week']).sum()\n",
    "to_plot_sum.reindex()"
   ]
  },
  {
   "cell_type": "code",
   "execution_count": null,
   "metadata": {},
   "outputs": [],
   "source": []
  },
  {
   "cell_type": "code",
   "execution_count": null,
   "metadata": {
    "pycharm": {
     "name": "#%%\n"
    }
   },
   "outputs": [],
   "source": [
    "def vac_per_calendar_week(kurzel):\n",
    "    df = dfs[kurzel]\n",
    "    # tail(length - 5) removes 53rd calendar week\n",
    "    to_plot_sum = df.groupby(['year_and_week']).sum()\n",
    "    to_plot_mean = df.groupby(['year_and_week']).mean()\n",
    "    to_plot_sum['year_and_week'] = to_plot_sum.index\n",
    "    to_plot_mean['year_and_week'] = to_plot_mean.index\n",
    "    to_plot_mean.year_and_week = to_plot_mean.year_and_week.apply(str)\n",
    "    to_plot_sum.year_and_week = to_plot_sum.year_and_week.apply(str)\n",
    "\n",
    "\n",
    "    fig = go.Figure(data=[\n",
    "        go.Bar(name='Summe', y=to_plot_sum['shots_today'], x=to_plot_sum['year_and_week']),\n",
    "        go.Bar(name='Tages Ø', y=to_plot_mean['shots_today'], x=to_plot_mean['year_and_week']),\n",
    "    ])\n",
    "    fig.update_layout(\n",
    "        width=1000,\n",
    "        height=500,\n",
    "        title=f'Impfungen pro Kalender Woche ({bl_dict[kurzel]})'\n",
    "    )\n",
    "    shared.write_html(fig, f'vac-per-calendar-week-{kurzel}')\n",
    "    fig.show()\n",
    "\n",
    "vac_per_calendar_week('DE')\n",
    "vac_per_calendar_week('BY')\n",
    "vac_per_calendar_week('HE')"
   ]
  },
  {
   "cell_type": "code",
   "execution_count": null,
   "metadata": {},
   "outputs": [],
   "source": [
    "df = dfs['BY']\n",
    "to_plot_sum = df.tail(len(df.index) - 9).groupby([\"calendar_week\"])['shots_today'].sum()\n",
    "to_plot_sum.tail(20)\n",
    "df.head(10)\n",
    "df['date'].dt.year\n",
    "\n",
    "df_filtered = df.loc[lambda x: df['date'].dt.year >= 2021]\n",
    "df_filtered.head(10)\n"
   ]
  },
  {
   "cell_type": "code",
   "execution_count": null,
   "metadata": {},
   "outputs": [],
   "source": [
    "def is_next_day_weekend(df):\n",
    "    next_day = df.tail(1).date + pd.DateOffset(1)\n",
    "    if next_day.dt.dayofweek.values[0] > 4:\n",
    "        return True\n",
    "    else:\n",
    "        return False\n",
    "\n",
    "DAYS_TO_LOOK_BACK = 2\n",
    "\n",
    "import math\n",
    "\n",
    "def guess_next_days_vacs(df, is_weekend):\n",
    "    df_filtered = df[df['is_weekend']==is_weekend]\n",
    "    mean = df_filtered.tail(DAYS_TO_LOOK_BACK)['shots_today'].values.mean()\n",
    "    return math.ceil(mean)\n",
    "\n",
    "\n",
    "speed_list = []\n",
    "\n",
    "for kurzel in bl_kurzel:\n",
    "    df = dfs[kurzel]\n",
    "    weekdays = guess_next_days_vacs(df, False)\n",
    "    weekends = guess_next_days_vacs(df, True)\n",
    "    speed_list.append([bl_dict[kurzel], weekdays, weekends])\n",
    "    #print(f\"{kurzel} -> Last {DAYS_TO_LOOK_BACK} days mean for (Mon Tue Wed, Thu, Fri): {weekdays} and for (Sat, Sun): {weekends} \")\n",
    "\n",
    "speed_df = pd.DataFrame(speed_list,columns = ['bundesland', 'speed_weekday','speed_weekend'])\n",
    "speed_df = speed_df.sort_values('speed_weekday', ascending=False)\n",
    "\n",
    "fig = px.bar(speed_df, x='bundesland', y='speed_weekday',labels={\n",
    "                     \"bundesland\": \"Bundesland\",\n",
    "                     \"speed_weekday\": \"Tägliche Impfungen (Vermutung)\",\n",
    "        },)\n",
    "fig.update_layout(\n",
    "        width=700,\n",
    "        height=400,\n",
    "        title=f'Abschätzung täglicher Impfungen for Land und Bundesländer'\n",
    "    )\n",
    "fig.show()"
   ]
  },
  {
   "cell_type": "code",
   "execution_count": null,
   "outputs": [],
   "source": [
    "dfs['BY'].head(10)"
   ],
   "metadata": {
    "collapsed": false,
    "pycharm": {
     "name": "#%%\n"
    }
   }
  },
  {
   "cell_type": "code",
   "execution_count": null,
   "outputs": [],
   "source": [
    "dfs['BY'].tail(10)"
   ],
   "metadata": {
    "collapsed": false,
    "pycharm": {
     "name": "#%%\n"
    }
   }
  },
  {
   "cell_type": "code",
   "execution_count": null,
   "outputs": [],
   "source": [
    "def guess_thing(df):\n",
    "    total_rows = df.shape[0]\n",
    "    for i in range(5, total_rows):\n",
    "        is_weekend = df.iloc[i]['is_weekend']\n",
    "        guess_was = guess_next_days_vacs(df.head(i), is_weekend)\n",
    "        df.at[i, 'shots_guess'] = guess_was\n",
    "    df['guess_off'] = (df['shots_guess'] - df['shots_today'])\n",
    "\n",
    "def change_column_order(df):\n",
    "    df = df[['date', 'publication_date', 'shots_sum', 'shots_today', 'shots_guess', 'guess_off', 'is_weekend', 'weekday_name', 'year_and_week']]\n",
    "    return df\n",
    "\n",
    "guess_thing(dfs['BY'])\n",
    "\n",
    "path = f'data/df_LEARN_BY.pkl'\n",
    "dfs['BY'].to_pickle(path)\n",
    "\n",
    "dfs['BY'] = change_column_order(dfs['BY'])"
   ],
   "metadata": {
    "collapsed": false,
    "pycharm": {
     "name": "#%%\n"
    }
   }
  },
  {
   "cell_type": "code",
   "execution_count": null,
   "outputs": [],
   "source": [
    "dfs['BY'].tail(30)"
   ],
   "metadata": {
    "collapsed": false,
    "pycharm": {
     "name": "#%%\n"
    }
   }
  },
  {
   "cell_type": "code",
   "execution_count": null,
   "outputs": [],
   "source": [
    "df = dfs['BY']\n",
    "palette = shared.get_palette()\n",
    "fig = go.Figure()\n",
    "fig.add_trace(go.Scatter(x = df.date,\n",
    "                         y=df['guess_off'],\n",
    "                         mode='lines',\n",
    "                         name='Wrong',\n",
    "                         marker_color=next(palette),\n",
    "                         line=dict( width=2)))\n",
    "\n",
    "fig.add_trace(go.Scatter(x = df.date,\n",
    "                         y=df['shots_today'],\n",
    "                         mode='lines',\n",
    "                         name='Actual',\n",
    "                         marker_color=next(palette),\n",
    "                         line=dict( width=2)))\n",
    "\n",
    "fig.add_trace(go.Scatter(x = df.date,\n",
    "                         y=df['shots_guess'],\n",
    "                         mode='lines',\n",
    "                         name='Guess',\n",
    "                         marker_color=next(palette),\n",
    "                         line=dict( width=2)))\n",
    "\n",
    "fig.update_layout(\n",
    "        width=1050,\n",
    "        height=600,\n",
    "        title='Schätzung Abweichung'\n",
    "    )\n",
    "\n",
    "fig.show()"
   ],
   "metadata": {
    "collapsed": false,
    "pycharm": {
     "name": "#%%\n"
    }
   }
  },
  {
   "cell_type": "code",
   "execution_count": null,
   "outputs": [],
   "source": [
    "print(f'With days to look back = 1 it was 0996311')\n",
    "print(f'With days to look back = 2 it was 1127655')\n",
    "print(f'With days to look back = 3 it was 1206126')\n",
    "\n",
    "# with negativ values\n",
    "# 1  106914\n",
    "# 2 -163544\n",
    "# 3 -244306\n",
    "\n",
    "df = dfs['BY']\n",
    "df['guess_off'].sum()"
   ],
   "metadata": {
    "collapsed": false,
    "pycharm": {
     "name": "#%%\n"
    }
   }
  }
 ],
 "metadata": {
  "kernelspec": {
   "name": "python3",
   "language": "python",
   "display_name": "Python 3"
  },
  "language_info": {
   "codemirror_mode": {
    "name": "ipython",
    "version": 3
   },
   "file_extension": ".py",
   "mimetype": "text/x-python",
   "name": "python",
   "nbconvert_exporter": "python",
   "pygments_lexer": "ipython3",
   "version": "3.8.8"
  }
 },
 "nbformat": 4,
 "nbformat_minor": 4
}