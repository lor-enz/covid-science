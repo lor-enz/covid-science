{
 "cells": [
  {
   "cell_type": "markdown",
   "metadata": {},
   "source": [
    "# We start off by reading the data"
   ]
  },
  {
   "cell_type": "code",
   "execution_count": null,
   "metadata": {
    "pycharm": {
     "name": "#%%\n"
    }
   },
   "outputs": [],
   "source": [
    "import pandas as pd\n",
    "import plotly.graph_objects as go\n",
    "BL_KURZEL = ['BB', 'BE', 'BW', 'BY', 'DE', 'HB', 'HE', 'HH', 'MV', 'NI', 'NW', 'RP', 'SH', 'SL', 'SN', 'ST', 'TH']\n",
    "dfs = {}\n",
    "for kurzel in BL_KURZEL:\n",
    "    dfs[kurzel] = pd.read_pickle(f'data/df_vac_{kurzel}.pkl')\n",
    "\n",
    "pd.options.plotting.backend = \"plotly\"\n",
    "# colors\n",
    "import plotly.express as px\n",
    "from itertools import cycle\n",
    "palette = cycle(px.colors.qualitative.Safe)\n",
    "#palette = cycle(['black', 'grey', 'red', 'blue'])\n",
    "#palette = cycle(px.colors.sequential.PuBu)\n"
   ]
  },
  {
   "cell_type": "markdown",
   "metadata": {},
   "source": [
    "## Let's take a look"
   ]
  },
  {
   "cell_type": "code",
   "execution_count": null,
   "metadata": {
    "pycharm": {
     "name": "#%%\n"
    }
   },
   "outputs": [],
   "source": [
    "dfs['DE'].tail(5)"
   ]
  },
  {
   "cell_type": "code",
   "execution_count": null,
   "metadata": {
    "pycharm": {
     "name": "#%%\n"
    }
   },
   "outputs": [],
   "source": [
    "current_official_doses = dfs['DE'].tail(1)['dosen_kumulativ']\n",
    "#current_official_doses.values[0]\n",
    "current_official_doses\n"
   ]
  },
  {
   "cell_type": "code",
   "execution_count": null,
   "metadata": {
    "pycharm": {
     "name": "#%%\n"
    }
   },
   "outputs": [],
   "source": [
    "dfs['DE'].set_index('date')['dosen_kumulativ'].plot.line(width=1000, height=500, title='Impfungen Deutschland').show()\n"
   ]
  },
  {
   "cell_type": "code",
   "execution_count": null,
   "outputs": [],
   "source": [
    "to_plot = dfs['DE'].set_index('date')\n",
    "fig = go.Figure()\n",
    "def add_dosen_for_bl(kurzel):\n",
    "    to_plot = dfs[kurzel].set_index('date')\n",
    "    fig.add_trace(go.Scatter(x = to_plot.index,\n",
    "                             y=to_plot['dosen_kumulativ'],\n",
    "                             mode='lines',\n",
    "                             name=f'{kurzel}',\n",
    "                             marker_color=next(palette),\n",
    "                             line=dict( width=4)))\n",
    "\n",
    "for kurzel in BL_KURZEL:\n",
    "    add_dosen_for_bl(kurzel)\n",
    "\n",
    "fig.update_layout(\n",
    "        width=1200,\n",
    "        height=600,\n",
    "        title='Total doses'\n",
    "    )\n",
    "fig.show()"
   ],
   "metadata": {
    "collapsed": false,
    "pycharm": {
     "name": "#%%\n"
    }
   }
  },
  {
   "cell_type": "markdown",
   "metadata": {
    "pycharm": {
     "is_executing": true,
     "name": "#%% md\n"
    }
   },
   "source": [
    "### Average doses of the last days"
   ]
  },
  {
   "cell_type": "code",
   "execution_count": null,
   "metadata": {
    "pycharm": {
     "name": "#%%\n"
    }
   },
   "outputs": [],
   "source": [
    "def avg_doses_of_last_x_days(last_days):\n",
    "    data = []\n",
    "    for i in range(1, last_days):\n",
    "        data.append([i, int(dfs['DE'].tail(i)['vortag_dosen_dif'].sum() /i)])\n",
    "\n",
    "    a = pd.DataFrame(columns=[\"Last x days\", \"Average vacs\"], data=data)\n",
    "\n",
    "    fig = go.Figure(data=[\n",
    "        go.Bar(name='Three',x=a['Last x days'], y=a['Average vacs'])\n",
    "\n",
    "    ])\n",
    "    fig.update_layout(\n",
    "        width=1000,\n",
    "        height=350,\n",
    "        title='Average doses of the last x days'\n",
    "    )\n",
    "    fig.show()\n",
    "    return a\n"
   ]
  },
  {
   "cell_type": "code",
   "execution_count": null,
   "metadata": {
    "pycharm": {
     "name": "#%%\n"
    }
   },
   "outputs": [],
   "source": [
    "a = avg_doses_of_last_x_days(100)\n",
    "a.head(7)"
   ]
  },
  {
   "cell_type": "code",
   "execution_count": null,
   "metadata": {
    "pycharm": {
     "name": "#%%\n"
    }
   },
   "outputs": [],
   "source": [
    "a = avg_doses_of_last_x_days(365)\n",
    "\n"
   ]
  },
  {
   "cell_type": "code",
   "execution_count": null,
   "metadata": {
    "pycharm": {
     "name": "#%%\n"
    }
   },
   "outputs": [],
   "source": [
    "\n",
    "\n",
    "fig7 = go.Figure()\n",
    "fig21 = go.Figure()\n",
    "\n",
    "def add_rolling(fig, df, days, kurzel):\n",
    "    fig.add_trace(go.Scatter(x = df.index,\n",
    "                         y=df.vortag_dosen_dif.rolling(days).mean(),\n",
    "                         mode='lines',\n",
    "                         name=f'{kurzel}',\n",
    "                         marker_color=next(palette),\n",
    "                         line=dict( width=4)))\n",
    "\n",
    "def add_traces(fig, df):\n",
    "    fig.add_trace(go.Scatter(x = df.index,\n",
    "                             y=df.vortag_dosen_dif,\n",
    "                             mode='markers',\n",
    "                             name='Real',\n",
    "                             line=dict(color='grey', width=1)))\n",
    "\n",
    "\n",
    "for kurzel in BL_KURZEL:\n",
    "    to_plot = dfs[kurzel].set_index('date')\n",
    "\n",
    "    #add_traces(fig7, to_plot)\n",
    "    #add_traces(fig21, to_plot)\n",
    "    add_rolling(fig7, to_plot, 7, kurzel)\n",
    "    add_rolling(fig21, to_plot, 21, kurzel)\n",
    "\n",
    "\n",
    "\n",
    "fig7.update_layout(\n",
    "    width=1000,\n",
    "    height=500,\n",
    "    yaxis_range=[0,400_000],\n",
    "    title='Rolling 7 day window vaccinations'\n",
    ")\n",
    "\n",
    "fig21.update_layout(\n",
    "    width=1000,\n",
    "    height=500,\n",
    "    yaxis_range=[0,400_000],\n",
    "    title='Rolling 21 day window vaccinations'\n",
    ")\n",
    "fig7.show()\n",
    "fig21.show()"
   ]
  },
  {
   "cell_type": "markdown",
   "metadata": {},
   "source": [
    "## Vaccinations per weekday"
   ]
  },
  {
   "cell_type": "code",
   "execution_count": null,
   "metadata": {
    "pycharm": {
     "name": "#%%\n"
    }
   },
   "outputs": [],
   "source": [
    "\n",
    "to_plot_all = dfs['DE'].groupby([\"weekday_name\"])['vortag_dosen_dif'].mean().sort_values()\n",
    "to_plot_10 = dfs['DE'].tail(7*10).groupby([\"weekday_name\"])['vortag_dosen_dif'].mean().sort_values()\n",
    "to_plot_5 = dfs['DE'].tail(7*5).groupby([\"weekday_name\"])['vortag_dosen_dif'].mean().sort_values()\n",
    "to_plot_2 = dfs['DE'].tail(7*2).groupby([\"weekday_name\"])['vortag_dosen_dif'].mean().sort_values()\n",
    "\n",
    "\n",
    "fig = go.Figure(data=[\n",
    "    go.Bar(name='complete timeline', y=to_plot_all, x=to_plot_all.index),\n",
    "    go.Bar(name='10 weeks', y=to_plot_10, x=to_plot_all.index),\n",
    "    go.Bar(name='5 weeks', y=to_plot_5, x=to_plot_all.index),\n",
    "    go.Bar(name='2 weeks', y=to_plot_2, x=to_plot_all.index),\n",
    "])\n",
    "fig.update_layout(\n",
    "    width=1000,\n",
    "    height=500,\n",
    "    title='Average vaccinations per weekday'\n",
    ")\n",
    "fig.show()"
   ]
  },
  {
   "cell_type": "markdown",
   "metadata": {},
   "source": [
    "## Vaccinations per calendar week"
   ]
  },
  {
   "cell_type": "code",
   "execution_count": null,
   "metadata": {
    "pycharm": {
     "name": "#%%\n"
    }
   },
   "outputs": [],
   "source": [
    "def vac_per_calendar_week(df, where):\n",
    "    # tail(length - 5) removes 53rd calendar week\n",
    "    to_plot_sum = df.tail(len(df.index) - 8).groupby([\"calendar_week\"])['vortag_dosen_dif'].sum()\n",
    "    to_plot_mean = df.tail(len(df.index) - 8).groupby([\"calendar_week\"])['vortag_dosen_dif'].mean()\n",
    "\n",
    "    fig = go.Figure(data=[\n",
    "        go.Bar(name='Sum', y=to_plot_sum),\n",
    "        go.Bar(name='Mean', y=to_plot_mean),\n",
    "    ])\n",
    "    fig.update_layout(\n",
    "        width=1000,\n",
    "        height=500,\n",
    "        title=f'Vaccinations per calendar week ({where})'\n",
    "    )\n",
    "    fig.show()\n",
    "\n",
    "vac_per_calendar_week(dfs['DE'], 'Deutschland')\n",
    "vac_per_calendar_week(dfs['BY'], 'Bayern')\n",
    "\n"
   ]
  }
 ],
 "metadata": {
  "kernelspec": {
   "display_name": "Python 3",
   "language": "python",
   "name": "python3"
  },
  "language_info": {
   "codemirror_mode": {
    "name": "ipython",
    "version": 3
   },
   "file_extension": ".py",
   "mimetype": "text/x-python",
   "name": "python",
   "nbconvert_exporter": "python",
   "pygments_lexer": "ipython3",
   "version": "3.8.8"
  },
  "pycharm": {
   "stem_cell": {
    "cell_type": "raw",
    "source": [
     "\n"
    ],
    "metadata": {
     "collapsed": false
    }
   }
  }
 },
 "nbformat": 4,
 "nbformat_minor": 4
}