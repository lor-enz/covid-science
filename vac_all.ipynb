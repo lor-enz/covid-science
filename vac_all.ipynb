{
 "cells": [
  {
   "cell_type": "markdown",
   "metadata": {},
   "source": [
    "# We start off by reading the data"
   ]
  },
  {
   "cell_type": "code",
   "execution_count": null,
   "metadata": {},
   "outputs": [],
   "source": [
    "bl_dict = {\n",
    "    'BB': 'Brandenburg', \n",
    "    'BE': 'Berlin',\n",
    "    'BW': 'Baden-Württemberg', \n",
    "    'BY': 'Bayern', \n",
    "    'DE': 'Deutschland', \n",
    "    'HB': 'Bremen', \n",
    "    'HE': 'Hessen', \n",
    "    'HH': 'Hamburg', \n",
    "    'MV': 'Mecklenburg-Vorpommern', \n",
    "    'NI': 'Niedersachsen', \n",
    "    'NW': 'Nordrhein-Westfalen', \n",
    "    'RP': 'Rheinland-Pfalz', \n",
    "    'SH': 'Schleswig-Holstein', \n",
    "    'SL': 'Saarland', \n",
    "    'SN': 'Sachsen', \n",
    "    'ST': 'Sachsen-Anhalt', \n",
    "    'TH': 'Thüringen'\n",
    "}"
   ]
  },
  {
   "cell_type": "code",
   "execution_count": null,
   "metadata": {
    "pycharm": {
     "name": "#%%\n"
    }
   },
   "outputs": [],
   "source": [
    "from datetime import datetime\n",
    "import pandas as pd\n",
    "import plotly.graph_objects as go\n",
    "BL_KURZEL = ['BB', 'BE', 'BW', 'BY', 'DE', 'HB', 'HE', 'HH', 'MV', 'NI', 'NW', 'RP', 'SH', 'SL', 'SN', 'ST', 'TH']\n",
    "\n",
    "dfs = {}\n",
    "for kurzel in BL_KURZEL:\n",
    "    dfs[kurzel] = pd.read_pickle(f'data/df_vac_{kurzel}.pkl')\n",
    "\n",
    "pd.options.plotting.backend = \"plotly\"\n",
    "\n",
    "\n",
    "# colors\n",
    "import plotly.express as px\n",
    "from itertools import cycle\n",
    "\n",
    "def get_palette():\n",
    "    return cycle(px.colors.qualitative.Safe)\n",
    "    \n",
    "\n",
    "palette = get_palette()\n",
    "#palette = cycle(['black', 'grey', 'red', 'blue'])\n",
    "#palette = cycle(px.colors.sequential.PuBu)"
   ]
  },
  {
   "cell_type": "markdown",
   "metadata": {},
   "source": [
    "## Let's take a look"
   ]
  },
  {
   "cell_type": "code",
   "execution_count": null,
   "metadata": {
    "pycharm": {
     "name": "#%%\n"
    }
   },
   "outputs": [],
   "source": [
    "dfs['DE'].tail(5)"
   ]
  },
  {
   "cell_type": "code",
   "execution_count": null,
   "metadata": {
    "pycharm": {
     "name": "#%%\n"
    }
   },
   "outputs": [],
   "source": [
    "current_official_doses = dfs['DE'].tail(1)['dosen_kumulativ']\n",
    "#current_official_doses.values[0]\n",
    "current_official_doses"
   ]
  },
  {
   "cell_type": "code",
   "execution_count": null,
   "metadata": {
    "pycharm": {
     "name": "#%%\n"
    }
   },
   "outputs": [],
   "source": [
    "to_plot = dfs['DE'].set_index('date')\n",
    "fig = go.Figure()\n",
    "def add_dosen_for_bl(kurzel):\n",
    "    to_plot = dfs[kurzel].set_index('date')\n",
    "    fig.add_trace(go.Scatter(x = to_plot.index,\n",
    "                             y=to_plot['shots_sum'],\n",
    "                             mode='lines',\n",
    "                             name=f'{bl_dict[kurzel]}',\n",
    "                             marker_color=next(palette),\n",
    "                             line=dict(width=2.5)))\n",
    "\n",
    "for kurzel in BL_KURZEL:\n",
    "    add_dosen_for_bl(kurzel)\n",
    "palette = get_palette()\n",
    "fig.update_layout(\n",
    "        width=1200,\n",
    "        height=600,\n",
    "        title='Absolute verteilte Impfdosen'\n",
    "    )\n",
    "fig.show()"
   ]
  },
  {
   "cell_type": "markdown",
   "metadata": {
    "pycharm": {
     "is_executing": true,
     "name": "#%% md\n"
    }
   },
   "source": [
    "### Average doses of the last days"
   ]
  },
  {
   "cell_type": "code",
   "execution_count": null,
   "metadata": {
    "pycharm": {
     "name": "#%%\n"
    }
   },
   "outputs": [],
   "source": [
    "def avg_doses_of_last_x_days(last_days):\n",
    "    data = []\n",
    "    for i in range(1, last_days):\n",
    "        data.append([i, int(dfs['DE'].tail(i)['shots_today'].sum() /i)])\n",
    "\n",
    "    a = pd.DataFrame(columns=[\"Last x days\", \"Average vacs\"], data=data)\n",
    "\n",
    "    fig = go.Figure(data=[\n",
    "        go.Bar(name='Three',x=a['Last x days'], y=a['Average vacs'])\n",
    "\n",
    "    ])\n",
    "    fig.update_layout(\n",
    "        width=1000,\n",
    "        height=350,\n",
    "        title=f'Durchschnitt verteilte Impfdosen der letzten x Tage (Stand: {datetime.now().strftime(\"%Y-%m-%d\")})'\n",
    "    )\n",
    "    fig.show()\n",
    "    return a\n"
   ]
  },
  {
   "cell_type": "code",
   "execution_count": null,
   "metadata": {
    "pycharm": {
     "name": "#%%\n"
    }
   },
   "outputs": [],
   "source": [
    "a = avg_doses_of_last_x_days(100)\n",
    "a.head(7)"
   ]
  },
  {
   "cell_type": "code",
   "execution_count": null,
   "metadata": {
    "pycharm": {
     "name": "#%%\n"
    }
   },
   "outputs": [],
   "source": [
    "a = avg_doses_of_last_x_days(365)\n",
    "\n"
   ]
  },
  {
   "cell_type": "code",
   "execution_count": null,
   "metadata": {
    "pycharm": {
     "name": "#%%\n"
    }
   },
   "outputs": [],
   "source": [
    "def add_rolling(fig, df, days, kurzel):\n",
    "    try:\n",
    "        name = bl_dict[kurzel]\n",
    "    except KeyError:\n",
    "        name = kurzel\n",
    "    fig.add_trace(go.Scatter(x = df.index,\n",
    "                         y=df.shots_today.rolling(days).mean(),\n",
    "                         mode='lines',\n",
    "                         name=name,\n",
    "                         marker_color=next(palette),\n",
    "                         line=dict( width=4)))\n",
    "\n",
    "def add_traces(fig, df):\n",
    "    fig.add_trace(go.Scatter(x = df.index,\n",
    "                             y=df.shots_today,\n",
    "                             mode='markers',\n",
    "                             name='Real',\n",
    "                             line=dict(color='grey', width=1)))\n",
    "\n",
    "palette = get_palette()\n",
    "fig7 = go.Figure()\n",
    "for kurzel in BL_KURZEL:\n",
    "    to_plot = dfs[kurzel].set_index('date')    \n",
    "    add_rolling(fig7, to_plot, 7, kurzel)\n",
    "\n",
    "\n",
    "palette = get_palette()\n",
    "fig21 = go.Figure()\n",
    "for kurzel in BL_KURZEL:\n",
    "    to_plot = dfs[kurzel].set_index('date')\n",
    "    add_rolling(fig21, to_plot, 21, kurzel)\n",
    "\n",
    "palette = get_palette()\n",
    "fig_BY = go.Figure()\n",
    "to_plot = dfs['BY'].set_index('date')\n",
    "add_rolling(fig_BY, to_plot, 7, '7 Tage')\n",
    "add_rolling(fig_BY, to_plot, 14, '14 Tage')\n",
    "add_rolling(fig_BY, to_plot, 21, '21 Tage')\n",
    "\n",
    "palette = get_palette()\n",
    "fig_DE = go.Figure()\n",
    "to_plot = dfs['DE'].set_index('date')\n",
    "add_rolling(fig_DE, to_plot, 7, '7 Tage')\n",
    "add_rolling(fig_DE, to_plot, 14, '14 Tage')\n",
    "add_rolling(fig_DE, to_plot, 21, '21 Tage')\n",
    "\n",
    "\n",
    "fig7.update_layout(\n",
    "    width=1000,\n",
    "    height=700,\n",
    "    # yaxis_range=[0,400_000],\n",
    "    title='Täglich verteilte Impfdosen mit rollendem 7 Tage Fenster'\n",
    ")\n",
    "\n",
    "fig21.update_layout(\n",
    "    width=1000,\n",
    "    height=700,\n",
    "    # yaxis_range=[0,400_000],\n",
    "    title='Täglich verteilte Impfdosen mit rollendem 21 Tage Fenster'\n",
    ")\n",
    "\n",
    "fig_BY.update_layout(\n",
    "    width=1000,\n",
    "    height=700,\n",
    "    # yaxis_range=[0,400_000],\n",
    "    title='Täglich verteilte Impfdosen mit verschiedenen rollenden Fenstern (Bayern)'\n",
    ")\n",
    "\n",
    "fig_DE.update_layout(\n",
    "    width=1000,\n",
    "    height=700,\n",
    "    # yaxis_range=[0,400_000],\n",
    "    title='Täglich verteilte Impfdosen mit verschiedenen rollenden Fenstern (Deutschland)'\n",
    ")\n",
    "\n",
    "fig7.show()\n",
    "fig21.show()\n",
    "fig_BY.show()\n",
    "fig_DE.show()"
   ]
  },
  {
   "cell_type": "markdown",
   "metadata": {},
   "source": [
    "## Vaccinations per weekday"
   ]
  },
  {
   "cell_type": "code",
   "execution_count": null,
   "metadata": {
    "pycharm": {
     "name": "#%%\n"
    }
   },
   "outputs": [],
   "source": [
    "\n",
    "to_plot_all = dfs['DE'].groupby([\"weekday_name\"])['shots_today'].mean().sort_values()\n",
    "to_plot_10 = dfs['DE'].tail(7*10).groupby([\"weekday_name\"])['shots_today'].mean().sort_values()\n",
    "to_plot_5 = dfs['DE'].tail(7*5).groupby([\"weekday_name\"])['shots_today'].mean().sort_values()\n",
    "to_plot_2 = dfs['DE'].tail(7*2).groupby([\"weekday_name\"])['shots_today'].mean().sort_values()\n",
    "to_plot_1 = dfs['DE'].tail(7*1).groupby([\"weekday_name\"])['shots_today'].mean().sort_values()\n",
    "\n",
    "palette = get_palette()\n",
    "fig = go.Figure(data=[\n",
    "    go.Bar(name='complete timeline', y=to_plot_all, x=to_plot_all.index),\n",
    "    go.Bar(name='10 weeks', y=to_plot_10, x=to_plot_10.index),\n",
    "    go.Bar(name='5 weeks', y=to_plot_5, x=to_plot_5.index),\n",
    "    go.Bar(name='2 weeks', y=to_plot_2, x=to_plot_2.index),\n",
    "    go.Bar(name='last week', y=to_plot_1, x=to_plot_1.index),\n",
    "])\n",
    "fig.update_layout(\n",
    "    width=1000,\n",
    "    height=500,\n",
    "    title='Verteilung der absoluten wöchentlichen Impfungen über die Wochentage',\n",
    ")\n",
    "fig.update_xaxes(categoryorder='array', categoryarray= ['Sat','Sun','Mon','Tue','Wed','Thu','Fri'])\n",
    "fig.write_html(\"plots/covid-plot-weekdays_total.html\")\n",
    "fig.show()"
   ]
  },
  {
   "cell_type": "code",
   "execution_count": null,
   "metadata": {},
   "outputs": [],
   "source": [
    "def helper(number, sum):\n",
    "    result = number / sum\n",
    "    # print(f\"Number is {number}, sum is {sum}, result is {result}\")\n",
    "    return result\n",
    "    \n",
    "def weekday_vac_proportion(df):\n",
    "    df = df.groupby([\"weekday_name\"]).mean()\n",
    "    df['shots_today']\n",
    "    sum = df['shots_today'].sum()\n",
    "    df['vac_proportion'] = df.apply(lambda x: helper(x['shots_today'], sum), axis=1)\n",
    "    return df"
   ]
  },
  {
   "cell_type": "code",
   "execution_count": null,
   "metadata": {},
   "outputs": [],
   "source": [
    "to_plot_all = weekday_vac_proportion(dfs['DE'])\n",
    "to_plot_10 = weekday_vac_proportion(dfs['DE'].tail(7*10))\n",
    "to_plot_5 = weekday_vac_proportion(dfs['DE'].tail(7*5))\n",
    "to_plot_2 = weekday_vac_proportion(dfs['DE'].tail(7*2))\n",
    "to_plot_1 = weekday_vac_proportion(dfs['DE'].tail(7*1))\n",
    "\n",
    "palette = get_palette()\n",
    "fig = go.Figure(data=[\n",
    "    go.Bar(name='complete timeline', y=to_plot_all['vac_proportion'], x=to_plot_all.index),\n",
    "    go.Bar(name='10 weeks', y=to_plot_10['vac_proportion'], x=to_plot_10.index),\n",
    "    go.Bar(name='5 weeks', y=to_plot_5['vac_proportion'], x=to_plot_5.index),\n",
    "    go.Bar(name='2 weeks', y=to_plot_2['vac_proportion'], x=to_plot_2.index),\n",
    "    go.Bar(name='1 weeks', y=to_plot_1['vac_proportion'], x=to_plot_1.index),\n",
    "\n",
    "])\n",
    "fig.update_layout(\n",
    "    width=1000,\n",
    "    height=500,\n",
    "    title='Verteilung der wöchentlichen Impfungen über die Wochentage in Prozent',\n",
    ")\n",
    "fig.update_xaxes(categoryorder='array', categoryarray= ['Sat','Sun','Mon','Tue','Wed','Thu','Fri'])\n",
    "fig.write_html(\"plots/covid-plot-weekdays_prop.html\")\n",
    "fig.show()"
   ]
  },
  {
   "cell_type": "markdown",
   "metadata": {},
   "source": [
    "## Vaccinations per calendar week"
   ]
  },
  {
   "cell_type": "code",
   "execution_count": null,
   "metadata": {},
   "outputs": [],
   "source": [
    "df = dfs['DE']\n",
    "to_plot_sum = df.groupby(['year_and_week']).sum()\n",
    "to_plot_sum['year_and_week'] = to_plot_sum.index\n"
   ]
  },
  {
   "cell_type": "code",
   "execution_count": null,
   "metadata": {},
   "outputs": [],
   "source": [
    "df = dfs['DE']\n",
    "to_plot_sum = df.groupby(['year_and_week']).sum()\n",
    "to_plot_sum.reindex()"
   ]
  },
  {
   "cell_type": "code",
   "execution_count": null,
   "metadata": {},
   "outputs": [],
   "source": []
  },
  {
   "cell_type": "code",
   "execution_count": null,
   "metadata": {
    "pycharm": {
     "name": "#%%\n"
    }
   },
   "outputs": [],
   "source": [
    "def vac_per_calendar_week(df, where):\n",
    "    # tail(length - 5) removes 53rd calendar week\n",
    "    to_plot_sum = df.groupby(['year_and_week']).sum()\n",
    "    to_plot_mean = df.groupby(['year_and_week']).mean()\n",
    "    to_plot_sum['year_and_week'] = to_plot_sum.index\n",
    "    to_plot_mean['year_and_week'] = to_plot_mean.index\n",
    "    to_plot_mean.year_and_week = to_plot_mean.year_and_week.apply(str)\n",
    "    to_plot_sum.year_and_week = to_plot_sum.year_and_week.apply(str)\n",
    "\n",
    "\n",
    "    fig = go.Figure(data=[\n",
    "        go.Bar(name='Summe', y=to_plot_sum['shots_today'], x=to_plot_sum['year_and_week']),\n",
    "        go.Bar(name='Durchschnitt', y=to_plot_mean['shots_today'], x=to_plot_mean['year_and_week']),\n",
    "    ])\n",
    "    fig.update_layout(\n",
    "        width=1000,\n",
    "        height=500,\n",
    "        title=f'Impfungen pro Kalender Woche ({where})'\n",
    "    )\n",
    "    fig.show()\n",
    "\n",
    "vac_per_calendar_week(dfs['DE'], 'Deutschland')\n",
    "vac_per_calendar_week(dfs['BY'], 'Bayern')\n",
    "vac_per_calendar_week(dfs['HE'], 'Hessen')"
   ]
  },
  {
   "cell_type": "code",
   "execution_count": null,
   "metadata": {},
   "outputs": [],
   "source": [
    "df = dfs['BY']\n",
    "to_plot_sum = df.tail(len(df.index) - 9).groupby([\"calendar_week\"])['shots_today'].sum()\n",
    "to_plot_sum.tail(20)\n",
    "df.head(10)\n",
    "df['date'].dt.year\n",
    "\n",
    "df_filtered = df.loc[lambda x: df['date'].dt.year >= 2021]\n",
    "df_filtered.head(10)\n"
   ]
  },
  {
   "cell_type": "code",
   "execution_count": null,
   "metadata": {},
   "outputs": [],
   "source": [
    "def is_next_day_weekend(df):\n",
    "    next_day = df.tail(1).date + pd.DateOffset(1)\n",
    "    if next_day.dt.dayofweek.values[0] > 4:\n",
    "        return True\n",
    "    else:\n",
    "        return False\n",
    "\n",
    "DAYS_TO_LOOK_BACK = 2\n",
    "\n",
    "import math\n",
    "\n",
    "def guess_next_days_vacs(df, is_weekend):\n",
    "    df_filtered = df[df['is_weekend']==is_weekend]\n",
    "    mean = df_filtered.tail(DAYS_TO_LOOK_BACK)['shots_today'].values.mean()\n",
    "    return math.ceil(mean)\n",
    "\n",
    "\n",
    "speed_list = []\n",
    "\n",
    "for kurzel in BL_KURZEL:\n",
    "    df = dfs[kurzel]\n",
    "    weekdays = guess_next_days_vacs(df, False)\n",
    "    weekends = guess_next_days_vacs(df, True)\n",
    "    speed_list.append([bl_dict[kurzel], weekdays, weekends])\n",
    "    #print(f\"{kurzel} -> Last {DAYS_TO_LOOK_BACK} days mean for (Mon Tue Wed, Thu, Fri): {weekdays} and for (Sat, Sun): {weekends} \")\n",
    "\n",
    "speed_df = pd.DataFrame(speed_list,columns = ['bundesland', 'speed_weekday','speed_weekend'])\n",
    "speed_df = speed_df.sort_values('speed_weekday', ascending=False)\n",
    "\n",
    "fig = px.bar(speed_df, x='bundesland', y='speed_weekday',labels={\n",
    "                     \"bundesland\": \"Bundesland\",\n",
    "                     \"speed_weekday\": \"Tägliche Impfungen (Vermutung)\",\n",
    "        },)\n",
    "fig.update_layout(\n",
    "        width=700,\n",
    "        height=400,\n",
    "        title=f'Abschätzung täglicher Impfungen for Land und Bundesländer'\n",
    "    )\n",
    "fig.show()"
   ]
  }
 ],
 "metadata": {
  "kernelspec": {
   "display_name": "Python 3",
   "language": "python",
   "name": "python3"
  },
  "language_info": {
   "codemirror_mode": {
    "name": "ipython",
    "version": 3
   },
   "file_extension": ".py",
   "mimetype": "text/x-python",
   "name": "python",
   "nbconvert_exporter": "python",
   "pygments_lexer": "ipython3",
   "version": "3.8.8"
  },
  "pycharm": {
   "stem_cell": {
    "cell_type": "raw",
    "source": [
     "\n"
    ],
    "metadata": {
     "collapsed": false
    }
   }
  }
 },
 "nbformat": 4,
 "nbformat_minor": 4
}