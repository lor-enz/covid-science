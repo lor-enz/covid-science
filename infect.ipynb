{
 "cells": [
  {
   "cell_type": "code",
   "execution_count": 1,
   "metadata": {
    "collapsed": false
   },
   "outputs": [],
   "source": []
  },
  {
   "cell_type": "markdown",
   "metadata": {
    "collapsed": false
   },
   "source": [
    "## We start off by importing the data"
   ]
  },
  {
   "cell_type": "code",
   "execution_count": 2,
   "metadata": {
    "collapsed": false
   },
   "outputs": [],
   "source": [
    "import pandas as pd\n",
    "\n",
    "df = pd.read_csv('data/arcgisinf.csv', sep=',', index_col=0, parse_dates=True) # it's important to define index and parse_dates"
   ]
  },
  {
   "cell_type": "code",
   "execution_count": 3,
   "metadata": {
    "collapsed": false
   },
   "outputs": [
    {
     "data": {
      "text/plain": "          ADE  GF  BSG     RS  AGS  SDV_RS                              GEN  \\\nOBJECTID                                                                      \n406       NaN NaN  NaN  11009  NaN     NaN          Berlin Treptow-Köpenick   \n407       NaN NaN  NaN  11003  NaN     NaN                    Berlin Pankow   \n408       NaN NaN  NaN  11008  NaN     NaN                  Berlin Neukölln   \n409       NaN NaN  NaN  11011  NaN     NaN               Berlin Lichtenberg   \n410       NaN NaN  NaN  11010  NaN     NaN       Berlin Marzahn-Hellersdorf   \n411       NaN NaN  NaN  11005  NaN     NaN                   Berlin Spandau   \n412       NaN NaN  NaN  11006  NaN     NaN       Berlin Steglitz-Zehlendorf   \n413       NaN NaN  NaN  11001  NaN     NaN                     Berlin Mitte   \n414       NaN NaN  NaN  11002  NaN     NaN  Berlin Friedrichshain-Kreuzberg   \n415       NaN NaN  NaN  11007  NaN     NaN      Berlin Tempelhof-Schöneberg   \n\n             BEZ  IBZ  BEM  NBD  SN_L  SN_R  SN_K  SN_V1  SN_V2  SN_G FK_S3  \\\nOBJECTID                                                                      \n406       Bezirk  NaN  NaN  NaN   NaN   NaN   NaN    NaN    NaN   NaN   NaN   \n407       Bezirk  NaN  NaN  NaN   NaN   NaN   NaN    NaN    NaN   NaN   NaN   \n408       Bezirk  NaN  NaN  NaN   NaN   NaN   NaN    NaN    NaN   NaN   NaN   \n409       Bezirk  NaN  NaN  NaN   NaN   NaN   NaN    NaN    NaN   NaN   NaN   \n410       Bezirk  NaN  NaN  NaN   NaN   NaN   NaN    NaN    NaN   NaN   NaN   \n411       Bezirk  NaN  NaN  NaN   NaN   NaN   NaN    NaN    NaN   NaN   NaN   \n412       Bezirk  NaN  NaN  NaN   NaN   NaN   NaN    NaN    NaN   NaN   NaN   \n413       Bezirk  NaN  NaN  NaN   NaN   NaN   NaN    NaN    NaN   NaN   NaN   \n414       Bezirk  NaN  NaN  NaN   NaN   NaN   NaN    NaN    NaN   NaN   NaN   \n415       Bezirk  NaN  NaN  NaN   NaN   NaN   NaN    NaN    NaN   NaN   NaN   \n\n         NUTS  RS_0  AGS_0  WSK     EWZ  KFL DEBKG_ID  death_rate  cases  \\\nOBJECTID                                                                   \n406       NaN   NaN    NaN  NaN  266488  NaN      NaN    2.251289   7951   \n407       NaN   NaN    NaN  NaN  398036  NaN      NaN    1.579715  12344   \n408       NaN   NaN    NaN  NaN  321123  NaN      NaN    2.227854  16967   \n409       NaN   NaN    NaN  NaN  286522  NaN      NaN    2.547630   9028   \n410       NaN   NaN    NaN  NaN  262967  NaN      NaN    2.694251   8314   \n411       NaN   NaN    NaN  NaN  239019  NaN      NaN    2.115813  10776   \n412       NaN   NaN    NaN  NaN  302177  NaN      NaN    2.097047  10634   \n413       NaN   NaN    NaN  NaN  375238  NaN      NaN    1.557941  18165   \n414       NaN   NaN    NaN  NaN  282059  NaN      NaN    1.175285  11912   \n415       NaN   NaN    NaN  NaN  341772  NaN      NaN    3.041083  14337   \n\n          deaths  cases_per_100k  cases_per_population      BL  BL_ID  \\\nOBJECTID                                                                \n406          179     2983.624028              2.983624  Berlin     11   \n407          195     3101.227025              3.101227  Berlin     11   \n408          378     5283.645208              5.283645  Berlin     11   \n409          230     3150.892427              3.150892  Berlin     11   \n410          224     3161.613434              3.161613  Berlin     11   \n411          228     4508.428200              4.508428  Berlin     11   \n412          223     3519.129517              3.519130  Berlin     11   \n413          283     4840.927625              4.840928  Berlin     11   \n414          140     4223.229892              4.223230  Berlin     11   \n415          436     4194.901864              4.194902  Berlin     11   \n\n                                      county           last_update  \\\nOBJECTID                                                             \n406               SK Berlin Treptow-Köpenick  28.03.2021_00:00 Uhr   \n407                         SK Berlin Pankow  28.03.2021_00:00 Uhr   \n408                       SK Berlin Neukölln  28.03.2021_00:00 Uhr   \n409                    SK Berlin Lichtenberg  28.03.2021_00:00 Uhr   \n410            SK Berlin Marzahn-Hellersdorf  28.03.2021_00:00 Uhr   \n411                        SK Berlin Spandau  28.03.2021_00:00 Uhr   \n412            SK Berlin Steglitz-Zehlendorf  28.03.2021_00:00 Uhr   \n413                          SK Berlin Mitte  28.03.2021_00:00 Uhr   \n414       SK Berlin Friedrichshain-Kreuzberg  28.03.2021_00:00 Uhr   \n415           SK Berlin Tempelhof-Schöneberg  28.03.2021_00:00 Uhr   \n\n          cases7_per_100k  recovered   EWZ_BL  cases7_bl_per_100k  cases7_bl  \\\nOBJECTID                                                                       \n406            134.715259        NaN  3669491          140.237433       5146   \n407            107.527962        NaN  3669491          140.237433       5146   \n408            212.068273        NaN  3669491          140.237433       5146   \n409            145.887576        NaN  3669491          140.237433       5146   \n410            167.701651        NaN  3669491          140.237433       5146   \n411            157.309670        NaN  3669491          140.237433       5146   \n412            124.430384        NaN  3669491          140.237433       5146   \n413            178.020350        NaN  3669491          140.237433       5146   \n414            112.742370        NaN  3669491          140.237433       5146   \n415            110.892642        NaN  3669491          140.237433       5146   \n\n          death7_bl  cases7_lk  death7_lk  cases7_per_100k_txt  AdmUnitId  \\\nOBJECTID                                                                    \n406               4        359          0                134.7      11009   \n407               4        428          0                107.5      11003   \n408               4        681          0                212.1      11008   \n409               4        418          0                145.9      11011   \n410               4        441          0                167.7      11010   \n411               4        376          0                157.3      11005   \n412               4        376          1                124.4      11006   \n413               4        668          0                178.0      11001   \n414               4        318          0                112.7      11002   \n415               4        379          1                110.9      11007   \n\n          SHAPE_Length  SHAPE_Area  \nOBJECTID                            \n406           1.111521    0.022161  \n407           0.784894    0.013689  \n408           0.482223    0.005938  \n409           0.545924    0.006902  \n410           0.487570    0.008184  \n411           0.719318    0.012292  \n412           0.791122    0.013552  \n413           0.438594    0.005218  \n414           0.404632    0.002700  \n415           0.534689    0.007011  ",
      "text/html": "<div>\n<style scoped>\n    .dataframe tbody tr th:only-of-type {\n        vertical-align: middle;\n    }\n\n    .dataframe tbody tr th {\n        vertical-align: top;\n    }\n\n    .dataframe thead th {\n        text-align: right;\n    }\n</style>\n<table border=\"1\" class=\"dataframe\">\n  <thead>\n    <tr style=\"text-align: right;\">\n      <th></th>\n      <th>ADE</th>\n      <th>GF</th>\n      <th>BSG</th>\n      <th>RS</th>\n      <th>AGS</th>\n      <th>SDV_RS</th>\n      <th>GEN</th>\n      <th>BEZ</th>\n      <th>IBZ</th>\n      <th>BEM</th>\n      <th>NBD</th>\n      <th>SN_L</th>\n      <th>SN_R</th>\n      <th>SN_K</th>\n      <th>SN_V1</th>\n      <th>SN_V2</th>\n      <th>SN_G</th>\n      <th>FK_S3</th>\n      <th>NUTS</th>\n      <th>RS_0</th>\n      <th>AGS_0</th>\n      <th>WSK</th>\n      <th>EWZ</th>\n      <th>KFL</th>\n      <th>DEBKG_ID</th>\n      <th>death_rate</th>\n      <th>cases</th>\n      <th>deaths</th>\n      <th>cases_per_100k</th>\n      <th>cases_per_population</th>\n      <th>BL</th>\n      <th>BL_ID</th>\n      <th>county</th>\n      <th>last_update</th>\n      <th>cases7_per_100k</th>\n      <th>recovered</th>\n      <th>EWZ_BL</th>\n      <th>cases7_bl_per_100k</th>\n      <th>cases7_bl</th>\n      <th>death7_bl</th>\n      <th>cases7_lk</th>\n      <th>death7_lk</th>\n      <th>cases7_per_100k_txt</th>\n      <th>AdmUnitId</th>\n      <th>SHAPE_Length</th>\n      <th>SHAPE_Area</th>\n    </tr>\n    <tr>\n      <th>OBJECTID</th>\n      <th></th>\n      <th></th>\n      <th></th>\n      <th></th>\n      <th></th>\n      <th></th>\n      <th></th>\n      <th></th>\n      <th></th>\n      <th></th>\n      <th></th>\n      <th></th>\n      <th></th>\n      <th></th>\n      <th></th>\n      <th></th>\n      <th></th>\n      <th></th>\n      <th></th>\n      <th></th>\n      <th></th>\n      <th></th>\n      <th></th>\n      <th></th>\n      <th></th>\n      <th></th>\n      <th></th>\n      <th></th>\n      <th></th>\n      <th></th>\n      <th></th>\n      <th></th>\n      <th></th>\n      <th></th>\n      <th></th>\n      <th></th>\n      <th></th>\n      <th></th>\n      <th></th>\n      <th></th>\n      <th></th>\n      <th></th>\n      <th></th>\n      <th></th>\n      <th></th>\n      <th></th>\n    </tr>\n  </thead>\n  <tbody>\n    <tr>\n      <th>406</th>\n      <td>NaN</td>\n      <td>NaN</td>\n      <td>NaN</td>\n      <td>11009</td>\n      <td>NaN</td>\n      <td>NaN</td>\n      <td>Berlin Treptow-Köpenick</td>\n      <td>Bezirk</td>\n      <td>NaN</td>\n      <td>NaN</td>\n      <td>NaN</td>\n      <td>NaN</td>\n      <td>NaN</td>\n      <td>NaN</td>\n      <td>NaN</td>\n      <td>NaN</td>\n      <td>NaN</td>\n      <td>NaN</td>\n      <td>NaN</td>\n      <td>NaN</td>\n      <td>NaN</td>\n      <td>NaN</td>\n      <td>266488</td>\n      <td>NaN</td>\n      <td>NaN</td>\n      <td>2.251289</td>\n      <td>7951</td>\n      <td>179</td>\n      <td>2983.624028</td>\n      <td>2.983624</td>\n      <td>Berlin</td>\n      <td>11</td>\n      <td>SK Berlin Treptow-Köpenick</td>\n      <td>28.03.2021_00:00 Uhr</td>\n      <td>134.715259</td>\n      <td>NaN</td>\n      <td>3669491</td>\n      <td>140.237433</td>\n      <td>5146</td>\n      <td>4</td>\n      <td>359</td>\n      <td>0</td>\n      <td>134.7</td>\n      <td>11009</td>\n      <td>1.111521</td>\n      <td>0.022161</td>\n    </tr>\n    <tr>\n      <th>407</th>\n      <td>NaN</td>\n      <td>NaN</td>\n      <td>NaN</td>\n      <td>11003</td>\n      <td>NaN</td>\n      <td>NaN</td>\n      <td>Berlin Pankow</td>\n      <td>Bezirk</td>\n      <td>NaN</td>\n      <td>NaN</td>\n      <td>NaN</td>\n      <td>NaN</td>\n      <td>NaN</td>\n      <td>NaN</td>\n      <td>NaN</td>\n      <td>NaN</td>\n      <td>NaN</td>\n      <td>NaN</td>\n      <td>NaN</td>\n      <td>NaN</td>\n      <td>NaN</td>\n      <td>NaN</td>\n      <td>398036</td>\n      <td>NaN</td>\n      <td>NaN</td>\n      <td>1.579715</td>\n      <td>12344</td>\n      <td>195</td>\n      <td>3101.227025</td>\n      <td>3.101227</td>\n      <td>Berlin</td>\n      <td>11</td>\n      <td>SK Berlin Pankow</td>\n      <td>28.03.2021_00:00 Uhr</td>\n      <td>107.527962</td>\n      <td>NaN</td>\n      <td>3669491</td>\n      <td>140.237433</td>\n      <td>5146</td>\n      <td>4</td>\n      <td>428</td>\n      <td>0</td>\n      <td>107.5</td>\n      <td>11003</td>\n      <td>0.784894</td>\n      <td>0.013689</td>\n    </tr>\n    <tr>\n      <th>408</th>\n      <td>NaN</td>\n      <td>NaN</td>\n      <td>NaN</td>\n      <td>11008</td>\n      <td>NaN</td>\n      <td>NaN</td>\n      <td>Berlin Neukölln</td>\n      <td>Bezirk</td>\n      <td>NaN</td>\n      <td>NaN</td>\n      <td>NaN</td>\n      <td>NaN</td>\n      <td>NaN</td>\n      <td>NaN</td>\n      <td>NaN</td>\n      <td>NaN</td>\n      <td>NaN</td>\n      <td>NaN</td>\n      <td>NaN</td>\n      <td>NaN</td>\n      <td>NaN</td>\n      <td>NaN</td>\n      <td>321123</td>\n      <td>NaN</td>\n      <td>NaN</td>\n      <td>2.227854</td>\n      <td>16967</td>\n      <td>378</td>\n      <td>5283.645208</td>\n      <td>5.283645</td>\n      <td>Berlin</td>\n      <td>11</td>\n      <td>SK Berlin Neukölln</td>\n      <td>28.03.2021_00:00 Uhr</td>\n      <td>212.068273</td>\n      <td>NaN</td>\n      <td>3669491</td>\n      <td>140.237433</td>\n      <td>5146</td>\n      <td>4</td>\n      <td>681</td>\n      <td>0</td>\n      <td>212.1</td>\n      <td>11008</td>\n      <td>0.482223</td>\n      <td>0.005938</td>\n    </tr>\n    <tr>\n      <th>409</th>\n      <td>NaN</td>\n      <td>NaN</td>\n      <td>NaN</td>\n      <td>11011</td>\n      <td>NaN</td>\n      <td>NaN</td>\n      <td>Berlin Lichtenberg</td>\n      <td>Bezirk</td>\n      <td>NaN</td>\n      <td>NaN</td>\n      <td>NaN</td>\n      <td>NaN</td>\n      <td>NaN</td>\n      <td>NaN</td>\n      <td>NaN</td>\n      <td>NaN</td>\n      <td>NaN</td>\n      <td>NaN</td>\n      <td>NaN</td>\n      <td>NaN</td>\n      <td>NaN</td>\n      <td>NaN</td>\n      <td>286522</td>\n      <td>NaN</td>\n      <td>NaN</td>\n      <td>2.547630</td>\n      <td>9028</td>\n      <td>230</td>\n      <td>3150.892427</td>\n      <td>3.150892</td>\n      <td>Berlin</td>\n      <td>11</td>\n      <td>SK Berlin Lichtenberg</td>\n      <td>28.03.2021_00:00 Uhr</td>\n      <td>145.887576</td>\n      <td>NaN</td>\n      <td>3669491</td>\n      <td>140.237433</td>\n      <td>5146</td>\n      <td>4</td>\n      <td>418</td>\n      <td>0</td>\n      <td>145.9</td>\n      <td>11011</td>\n      <td>0.545924</td>\n      <td>0.006902</td>\n    </tr>\n    <tr>\n      <th>410</th>\n      <td>NaN</td>\n      <td>NaN</td>\n      <td>NaN</td>\n      <td>11010</td>\n      <td>NaN</td>\n      <td>NaN</td>\n      <td>Berlin Marzahn-Hellersdorf</td>\n      <td>Bezirk</td>\n      <td>NaN</td>\n      <td>NaN</td>\n      <td>NaN</td>\n      <td>NaN</td>\n      <td>NaN</td>\n      <td>NaN</td>\n      <td>NaN</td>\n      <td>NaN</td>\n      <td>NaN</td>\n      <td>NaN</td>\n      <td>NaN</td>\n      <td>NaN</td>\n      <td>NaN</td>\n      <td>NaN</td>\n      <td>262967</td>\n      <td>NaN</td>\n      <td>NaN</td>\n      <td>2.694251</td>\n      <td>8314</td>\n      <td>224</td>\n      <td>3161.613434</td>\n      <td>3.161613</td>\n      <td>Berlin</td>\n      <td>11</td>\n      <td>SK Berlin Marzahn-Hellersdorf</td>\n      <td>28.03.2021_00:00 Uhr</td>\n      <td>167.701651</td>\n      <td>NaN</td>\n      <td>3669491</td>\n      <td>140.237433</td>\n      <td>5146</td>\n      <td>4</td>\n      <td>441</td>\n      <td>0</td>\n      <td>167.7</td>\n      <td>11010</td>\n      <td>0.487570</td>\n      <td>0.008184</td>\n    </tr>\n    <tr>\n      <th>411</th>\n      <td>NaN</td>\n      <td>NaN</td>\n      <td>NaN</td>\n      <td>11005</td>\n      <td>NaN</td>\n      <td>NaN</td>\n      <td>Berlin Spandau</td>\n      <td>Bezirk</td>\n      <td>NaN</td>\n      <td>NaN</td>\n      <td>NaN</td>\n      <td>NaN</td>\n      <td>NaN</td>\n      <td>NaN</td>\n      <td>NaN</td>\n      <td>NaN</td>\n      <td>NaN</td>\n      <td>NaN</td>\n      <td>NaN</td>\n      <td>NaN</td>\n      <td>NaN</td>\n      <td>NaN</td>\n      <td>239019</td>\n      <td>NaN</td>\n      <td>NaN</td>\n      <td>2.115813</td>\n      <td>10776</td>\n      <td>228</td>\n      <td>4508.428200</td>\n      <td>4.508428</td>\n      <td>Berlin</td>\n      <td>11</td>\n      <td>SK Berlin Spandau</td>\n      <td>28.03.2021_00:00 Uhr</td>\n      <td>157.309670</td>\n      <td>NaN</td>\n      <td>3669491</td>\n      <td>140.237433</td>\n      <td>5146</td>\n      <td>4</td>\n      <td>376</td>\n      <td>0</td>\n      <td>157.3</td>\n      <td>11005</td>\n      <td>0.719318</td>\n      <td>0.012292</td>\n    </tr>\n    <tr>\n      <th>412</th>\n      <td>NaN</td>\n      <td>NaN</td>\n      <td>NaN</td>\n      <td>11006</td>\n      <td>NaN</td>\n      <td>NaN</td>\n      <td>Berlin Steglitz-Zehlendorf</td>\n      <td>Bezirk</td>\n      <td>NaN</td>\n      <td>NaN</td>\n      <td>NaN</td>\n      <td>NaN</td>\n      <td>NaN</td>\n      <td>NaN</td>\n      <td>NaN</td>\n      <td>NaN</td>\n      <td>NaN</td>\n      <td>NaN</td>\n      <td>NaN</td>\n      <td>NaN</td>\n      <td>NaN</td>\n      <td>NaN</td>\n      <td>302177</td>\n      <td>NaN</td>\n      <td>NaN</td>\n      <td>2.097047</td>\n      <td>10634</td>\n      <td>223</td>\n      <td>3519.129517</td>\n      <td>3.519130</td>\n      <td>Berlin</td>\n      <td>11</td>\n      <td>SK Berlin Steglitz-Zehlendorf</td>\n      <td>28.03.2021_00:00 Uhr</td>\n      <td>124.430384</td>\n      <td>NaN</td>\n      <td>3669491</td>\n      <td>140.237433</td>\n      <td>5146</td>\n      <td>4</td>\n      <td>376</td>\n      <td>1</td>\n      <td>124.4</td>\n      <td>11006</td>\n      <td>0.791122</td>\n      <td>0.013552</td>\n    </tr>\n    <tr>\n      <th>413</th>\n      <td>NaN</td>\n      <td>NaN</td>\n      <td>NaN</td>\n      <td>11001</td>\n      <td>NaN</td>\n      <td>NaN</td>\n      <td>Berlin Mitte</td>\n      <td>Bezirk</td>\n      <td>NaN</td>\n      <td>NaN</td>\n      <td>NaN</td>\n      <td>NaN</td>\n      <td>NaN</td>\n      <td>NaN</td>\n      <td>NaN</td>\n      <td>NaN</td>\n      <td>NaN</td>\n      <td>NaN</td>\n      <td>NaN</td>\n      <td>NaN</td>\n      <td>NaN</td>\n      <td>NaN</td>\n      <td>375238</td>\n      <td>NaN</td>\n      <td>NaN</td>\n      <td>1.557941</td>\n      <td>18165</td>\n      <td>283</td>\n      <td>4840.927625</td>\n      <td>4.840928</td>\n      <td>Berlin</td>\n      <td>11</td>\n      <td>SK Berlin Mitte</td>\n      <td>28.03.2021_00:00 Uhr</td>\n      <td>178.020350</td>\n      <td>NaN</td>\n      <td>3669491</td>\n      <td>140.237433</td>\n      <td>5146</td>\n      <td>4</td>\n      <td>668</td>\n      <td>0</td>\n      <td>178.0</td>\n      <td>11001</td>\n      <td>0.438594</td>\n      <td>0.005218</td>\n    </tr>\n    <tr>\n      <th>414</th>\n      <td>NaN</td>\n      <td>NaN</td>\n      <td>NaN</td>\n      <td>11002</td>\n      <td>NaN</td>\n      <td>NaN</td>\n      <td>Berlin Friedrichshain-Kreuzberg</td>\n      <td>Bezirk</td>\n      <td>NaN</td>\n      <td>NaN</td>\n      <td>NaN</td>\n      <td>NaN</td>\n      <td>NaN</td>\n      <td>NaN</td>\n      <td>NaN</td>\n      <td>NaN</td>\n      <td>NaN</td>\n      <td>NaN</td>\n      <td>NaN</td>\n      <td>NaN</td>\n      <td>NaN</td>\n      <td>NaN</td>\n      <td>282059</td>\n      <td>NaN</td>\n      <td>NaN</td>\n      <td>1.175285</td>\n      <td>11912</td>\n      <td>140</td>\n      <td>4223.229892</td>\n      <td>4.223230</td>\n      <td>Berlin</td>\n      <td>11</td>\n      <td>SK Berlin Friedrichshain-Kreuzberg</td>\n      <td>28.03.2021_00:00 Uhr</td>\n      <td>112.742370</td>\n      <td>NaN</td>\n      <td>3669491</td>\n      <td>140.237433</td>\n      <td>5146</td>\n      <td>4</td>\n      <td>318</td>\n      <td>0</td>\n      <td>112.7</td>\n      <td>11002</td>\n      <td>0.404632</td>\n      <td>0.002700</td>\n    </tr>\n    <tr>\n      <th>415</th>\n      <td>NaN</td>\n      <td>NaN</td>\n      <td>NaN</td>\n      <td>11007</td>\n      <td>NaN</td>\n      <td>NaN</td>\n      <td>Berlin Tempelhof-Schöneberg</td>\n      <td>Bezirk</td>\n      <td>NaN</td>\n      <td>NaN</td>\n      <td>NaN</td>\n      <td>NaN</td>\n      <td>NaN</td>\n      <td>NaN</td>\n      <td>NaN</td>\n      <td>NaN</td>\n      <td>NaN</td>\n      <td>NaN</td>\n      <td>NaN</td>\n      <td>NaN</td>\n      <td>NaN</td>\n      <td>NaN</td>\n      <td>341772</td>\n      <td>NaN</td>\n      <td>NaN</td>\n      <td>3.041083</td>\n      <td>14337</td>\n      <td>436</td>\n      <td>4194.901864</td>\n      <td>4.194902</td>\n      <td>Berlin</td>\n      <td>11</td>\n      <td>SK Berlin Tempelhof-Schöneberg</td>\n      <td>28.03.2021_00:00 Uhr</td>\n      <td>110.892642</td>\n      <td>NaN</td>\n      <td>3669491</td>\n      <td>140.237433</td>\n      <td>5146</td>\n      <td>4</td>\n      <td>379</td>\n      <td>1</td>\n      <td>110.9</td>\n      <td>11007</td>\n      <td>0.534689</td>\n      <td>0.007011</td>\n    </tr>\n  </tbody>\n</table>\n</div>"
     },
     "execution_count": 3,
     "metadata": {},
     "output_type": "execute_result"
    }
   ],
   "source": [
    "pd.set_option('display.max_columns', None)\n",
    "df.tail(10)"
   ]
  },
  {
   "cell_type": "markdown",
   "metadata": {
    "collapsed": false
   },
   "source": [
    "## We'll have a look at the column names"
   ]
  },
  {
   "cell_type": "code",
   "execution_count": 4,
   "metadata": {
    "collapsed": false
   },
   "outputs": [
    {
     "data": {
      "text/plain": "['ADE',\n 'GF',\n 'BSG',\n 'RS',\n 'AGS',\n 'SDV_RS',\n 'GEN',\n 'BEZ',\n 'IBZ',\n 'BEM',\n 'NBD',\n 'SN_L',\n 'SN_R',\n 'SN_K',\n 'SN_V1',\n 'SN_V2',\n 'SN_G',\n 'FK_S3',\n 'NUTS',\n 'RS_0',\n 'AGS_0',\n 'WSK',\n 'EWZ',\n 'KFL',\n 'DEBKG_ID',\n 'death_rate',\n 'cases',\n 'deaths',\n 'cases_per_100k',\n 'cases_per_population',\n 'BL',\n 'BL_ID',\n 'county',\n 'last_update',\n 'cases7_per_100k',\n 'recovered',\n 'EWZ_BL',\n 'cases7_bl_per_100k',\n 'cases7_bl',\n 'death7_bl',\n 'cases7_lk',\n 'death7_lk',\n 'cases7_per_100k_txt',\n 'AdmUnitId',\n 'SHAPE_Length',\n 'SHAPE_Area']"
     },
     "execution_count": 4,
     "metadata": {},
     "output_type": "execute_result"
    }
   ],
   "source": [
    "list(df.columns.values)"
   ]
  },
  {
   "cell_type": "markdown",
   "metadata": {
    "collapsed": false
   },
   "source": [
    "### Let's just pick the few columns that interest us"
   ]
  },
  {
   "cell_type": "code",
   "execution_count": 5,
   "metadata": {
    "collapsed": false
   },
   "outputs": [
    {
     "data": {
      "text/plain": "                   last_update      BL      GEN      county  cases7_per_100k  \\\nOBJECTID                                                                       \n224       28.03.2021_00:00 Uhr  Bayern  München  SK München         98.77202   \n\n          cases7_bl_per_100k  \nOBJECTID                      \n224                135.76653  ",
      "text/html": "<div>\n<style scoped>\n    .dataframe tbody tr th:only-of-type {\n        vertical-align: middle;\n    }\n\n    .dataframe tbody tr th {\n        vertical-align: top;\n    }\n\n    .dataframe thead th {\n        text-align: right;\n    }\n</style>\n<table border=\"1\" class=\"dataframe\">\n  <thead>\n    <tr style=\"text-align: right;\">\n      <th></th>\n      <th>last_update</th>\n      <th>BL</th>\n      <th>GEN</th>\n      <th>county</th>\n      <th>cases7_per_100k</th>\n      <th>cases7_bl_per_100k</th>\n    </tr>\n    <tr>\n      <th>OBJECTID</th>\n      <th></th>\n      <th></th>\n      <th></th>\n      <th></th>\n      <th></th>\n      <th></th>\n    </tr>\n  </thead>\n  <tbody>\n    <tr>\n      <th>224</th>\n      <td>28.03.2021_00:00 Uhr</td>\n      <td>Bayern</td>\n      <td>München</td>\n      <td>SK München</td>\n      <td>98.77202</td>\n      <td>135.76653</td>\n    </tr>\n  </tbody>\n</table>\n</div>"
     },
     "execution_count": 5,
     "metadata": {},
     "output_type": "execute_result"
    }
   ],
   "source": [
    "df = df[['last_update', 'BL', 'GEN', 'county', 'cases7_per_100k', 'cases7_bl_per_100k']]\n",
    "df[df[\"county\"] == 'SK München']"
   ]
  },
  {
   "cell_type": "code",
   "execution_count": 6,
   "metadata": {
    "collapsed": false
   },
   "outputs": [
    {
     "data": {
      "text/plain": "98.7720198945444"
     },
     "execution_count": 6,
     "metadata": {},
     "output_type": "execute_result"
    }
   ],
   "source": [
    "the_one_row = df[df[\"county\"] == 'SK München']\n",
    "the_one_row['cases7_per_100k'].values[0]"
   ]
  },
  {
   "cell_type": "code",
   "execution_count": null,
   "metadata": {
    "collapsed": false
   },
   "outputs": [],
   "source": []
  }
 ],
 "metadata": {
  "kernelspec": {
   "display_name": "Python 3 (system-wide)",
   "language": "python",
   "metadata": {
    "cocalc": {
     "description": "Python 3 programming language",
     "priority": 100,
     "url": "https://www.python.org/"
    }
   },
   "name": "python3",
   "resource_dir": "/ext/jupyter/kernels/python3"
  },
  "language_info": {
   "codemirror_mode": {
    "name": "ipython",
    "version": 3
   },
   "file_extension": ".py",
   "mimetype": "text/x-python",
   "name": "python",
   "nbconvert_exporter": "python",
   "pygments_lexer": "ipython3",
   "version": "3.8.5"
  }
 },
 "nbformat": 4,
 "nbformat_minor": 4
}