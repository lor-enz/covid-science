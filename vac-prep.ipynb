{
 "cells": [
  {
   "cell_type": "markdown",
   "metadata": {
    "collapsed": false
   },
   "source": [
    "# We start off by importing the data"
   ]
  },
  {
   "cell_type": "code",
   "execution_count": 51,
   "metadata": {
    "collapsed": false
   },
   "outputs": [],
   "source": [
    "import math\n",
    "import pandas as pd\n",
    "import shared\n",
    "pd.reset_option('precision')\n",
    "#pd.set_option('float_format', '{:f}'.format)\n",
    "pd.set_option('float_format', '{:,.1f}'.format)\n",
    "\n",
    "bl_kurzel = shared.bl_kurzel\n",
    "\n",
    "dfs = {}\n",
    "for kurzel in shared.bl_kurzel:\n",
    "    dfs[kurzel] = pd.read_csv(f'data/vac_{kurzel}.csv', sep=',', index_col=0, parse_dates=True)\n",
    "    # it's important to define index and parse_dates\n",
    "\n"
   ]
  },
  {
   "cell_type": "code",
   "execution_count": 52,
   "outputs": [
    {
     "data": {
      "text/plain": "['publication_date',\n 'dosen_kumulativ',\n 'personen_erst_kumulativ',\n 'personen_voll_kumulativ',\n 'personen_min1_kumulativ',\n 'personen_zweit_kumulativ',\n 'personen_auffr_kumulativ',\n 'dosen_biontech_kumulativ',\n 'personen_erst_biontech_kumulativ',\n 'personen_voll_biontech_kumulativ',\n 'personen_min1_biontech_kumulativ',\n 'personen_zweit_biontech_kumulativ',\n 'personen_auffr_biontech_kumulativ',\n 'dosen_moderna_kumulativ',\n 'personen_erst_moderna_kumulativ',\n 'personen_voll_moderna_kumulativ',\n 'personen_min1_moderna_kumulativ',\n 'personen_zweit_moderna_kumulativ',\n 'personen_auffr_moderna_kumulativ',\n 'dosen_astrazeneca_kumulativ',\n 'personen_erst_astrazeneca_kumulativ',\n 'personen_voll_astrazeneca_kumulativ',\n 'personen_min1_astrazeneca_kumulativ',\n 'personen_zweit_astrazeneca_kumulativ',\n 'personen_auffr_astrazeneca_kumulativ',\n 'dosen_janssen_kumulativ',\n 'personen_erst_janssen_kumulativ',\n 'personen_voll_janssen_kumulativ',\n 'personen_min1_janssen_kumulativ',\n 'personen_zweit_janssen_kumulativ',\n 'personen_auffr_janssen_kumulativ',\n 'dosen_novavax_kumulativ',\n 'personen_erst_novavax_kumulativ',\n 'personen_voll_novavax_kumulativ',\n 'personen_min1_novavax_kumulativ',\n 'personen_zweit_novavax_kumulativ',\n 'personen_auffr_novavax_kumulativ',\n 'indikation_alter_dosen',\n 'indikation_alter_erst',\n 'indikation_alter_voll',\n 'indikation_alter_min1',\n 'indikation_alter_zweit',\n 'indikation_alter_auffr',\n 'indikation_beruf_dosen',\n 'indikation_beruf_erst',\n 'indikation_beruf_voll',\n 'indikation_beruf_min1',\n 'indikation_beruf_zweit',\n 'indikation_beruf_auffr',\n 'indikation_medizinisch_dosen',\n 'indikation_medizinisch_erst',\n 'indikation_medizinisch_voll',\n 'indikation_medizinisch_min1',\n 'indikation_medizinisch_zweit',\n 'indikation_medizinisch_auffr',\n 'indikation_pflegeheim_dosen',\n 'indikation_pflegeheim_erst',\n 'indikation_pflegeheim_voll',\n 'indikation_pflegeheim_min1',\n 'indikation_pflegeheim_zweit',\n 'indikation_pflegeheim_auffr',\n 'dosen_differenz_zum_vortag',\n 'personen_erst_differenz_zum_vortag',\n 'personen_voll_differenz_zum_vortag',\n 'personen_min1_differenz_zum_vortag',\n 'personen_zweit_differenz_zum_vortag',\n 'personen_auffr_differenz_zum_vortag',\n 'impf_quote_dosen',\n 'impf_quote_erst',\n 'impf_quote_voll',\n 'impf_quote_min1',\n 'impf_quote_zweit',\n 'impf_quote_auffr',\n 'impf_inzidenz_dosen',\n 'impf_inzidenz_erst',\n 'impf_inzidenz_voll',\n 'impf_inzidenz_min1',\n 'impf_inzidenz_zweit',\n 'impf_inzidenz_auffr',\n 'dosen_kumulativ_alter_5bis11',\n 'personen_erst_kumulativ_alter_5bis11',\n 'personen_voll_kumulativ_alter_5bis11',\n 'personen_min1_kumulativ_alter_5bis11',\n 'personen_zweit_kumulativ_alter_5bis11',\n 'personen_auffr_kumulativ_alter_5bis11',\n 'impf_quote_dosen_alter_5bis11',\n 'impf_quote_erst_alter_5bis11',\n 'impf_quote_voll_alter_5bis11',\n 'impf_quote_min1_alter_5bis11',\n 'impf_quote_zweit_alter_5bis11',\n 'impf_quote_auffr_alter_5bis11',\n 'impf_inzidenz_dosen_alter_5bis11',\n 'impf_inzidenz_erst_alter_5bis11',\n 'impf_inzidenz_voll_alter_5bis11',\n 'impf_inzidenz_min1_alter_5bis11',\n 'impf_inzidenz_zweit_alter_5bis11',\n 'impf_inzidenz_auffr_alter_5bis11',\n 'dosen_kumulativ_alter_5bis17',\n 'personen_erst_kumulativ_alter_5bis17',\n 'personen_voll_kumulativ_alter_5bis17',\n 'personen_min1_kumulativ_alter_5bis17',\n 'personen_zweit_kumulativ_alter_5bis17',\n 'personen_auffr_kumulativ_alter_5bis17',\n 'impf_quote_dosen_alter_5bis17',\n 'impf_quote_erst_alter_5bis17',\n 'impf_quote_voll_alter_5bis17',\n 'impf_quote_min1_alter_5bis17',\n 'impf_quote_zweit_alter_5bis17',\n 'impf_quote_auffr_alter_5bis17',\n 'impf_inzidenz_dosen_alter_5bis17',\n 'impf_inzidenz_erst_alter_5bis17',\n 'impf_inzidenz_voll_alter_5bis17',\n 'impf_inzidenz_min1_alter_5bis17',\n 'impf_inzidenz_zweit_alter_5bis17',\n 'impf_inzidenz_auffr_alter_5bis17',\n 'dosen_kumulativ_alter_12bis17',\n 'personen_erst_kumulativ_alter_12bis17',\n 'personen_voll_kumulativ_alter_12bis17',\n 'personen_min1_kumulativ_alter_12bis17',\n 'personen_zweit_kumulativ_alter_12bis17',\n 'personen_auffr_kumulativ_alter_12bis17',\n 'impf_quote_dosen_alter_12bis17',\n 'impf_quote_erst_alter_12bis17',\n 'impf_quote_voll_alter_12bis17',\n 'impf_quote_min1_alter_12bis17',\n 'impf_quote_zweit_alter_12bis17',\n 'impf_quote_auffr_alter_12bis17',\n 'impf_inzidenz_dosen_alter_12bis17',\n 'impf_inzidenz_erst_alter_12bis17',\n 'impf_inzidenz_voll_alter_12bis17',\n 'impf_inzidenz_min1_alter_12bis17',\n 'impf_inzidenz_zweit_alter_12bis17',\n 'impf_inzidenz_auffr_alter_12bis17',\n 'dosen_kumulativ_alter_18plus',\n 'personen_erst_kumulativ_alter_18plus',\n 'personen_voll_kumulativ_alter_18plus',\n 'personen_min1_kumulativ_alter_18plus',\n 'personen_zweit_kumulativ_alter_18plus',\n 'personen_auffr_kumulativ_alter_18plus',\n 'impf_quote_dosen_alter_18plus',\n 'impf_quote_erst_alter_18plus',\n 'impf_quote_voll_alter_18plus',\n 'impf_quote_min1_alter_18plus',\n 'impf_quote_zweit_alter_18plus',\n 'impf_quote_auffr_alter_18plus',\n 'impf_inzidenz_dosen_alter_18plus',\n 'impf_inzidenz_erst_alter_18plus',\n 'impf_inzidenz_voll_alter_18plus',\n 'impf_inzidenz_min1_alter_18plus',\n 'impf_inzidenz_zweit_alter_18plus',\n 'impf_inzidenz_auffr_alter_18plus',\n 'dosen_kumulativ_alter_18bis59',\n 'personen_erst_kumulativ_alter_18bis59',\n 'personen_voll_kumulativ_alter_18bis59',\n 'personen_min1_kumulativ_alter_18bis59',\n 'personen_zweit_kumulativ_alter_18bis59',\n 'personen_auffr_kumulativ_alter_18bis59',\n 'impf_quote_dosen_alter_18bis59',\n 'impf_quote_erst_alter_18bis59',\n 'impf_quote_voll_alter_18bis59',\n 'impf_quote_min1_alter_18bis59',\n 'impf_quote_zweit_alter_18bis59',\n 'impf_quote_auffr_alter_18bis59',\n 'impf_inzidenz_dosen_alter_18bis59',\n 'impf_inzidenz_erst_alter_18bis59',\n 'impf_inzidenz_voll_alter_18bis59',\n 'impf_inzidenz_min1_alter_18bis59',\n 'impf_inzidenz_zweit_alter_18bis59',\n 'impf_inzidenz_auffr_alter_18bis59',\n 'dosen_kumulativ_alter_60plus',\n 'personen_erst_kumulativ_alter_60plus',\n 'personen_voll_kumulativ_alter_60plus',\n 'personen_min1_kumulativ_alter_60plus',\n 'personen_zweit_kumulativ_alter_60plus',\n 'personen_auffr_kumulativ_alter_60plus',\n 'impf_quote_dosen_alter_60plus',\n 'impf_quote_erst_alter_60plus',\n 'impf_quote_voll_alter_60plus',\n 'impf_quote_min1_alter_60plus',\n 'impf_quote_zweit_alter_60plus',\n 'impf_quote_auffr_alter_60plus',\n 'impf_inzidenz_dosen_alter_60plus',\n 'impf_inzidenz_erst_alter_60plus',\n 'impf_inzidenz_voll_alter_60plus',\n 'impf_inzidenz_min1_alter_60plus',\n 'impf_inzidenz_zweit_alter_60plus',\n 'impf_inzidenz_auffr_alter_60plus']"
     },
     "execution_count": 52,
     "metadata": {},
     "output_type": "execute_result"
    }
   ],
   "source": [
    "list(dfs['BY'].columns)"
   ],
   "metadata": {
    "collapsed": false,
    "pycharm": {
     "name": "#%%\n"
    }
   }
  },
  {
   "cell_type": "markdown",
   "metadata": {
    "collapsed": false
   },
   "source": [
    "### Let' pick the few columns that interest us"
   ]
  },
  {
   "cell_type": "code",
   "execution_count": 53,
   "metadata": {
    "collapsed": false
   },
   "outputs": [],
   "source": [
    "for kurzel in bl_kurzel:\n",
    "    dfs[kurzel] = dfs[kurzel][['publication_date', 'dosen_kumulativ', 'personen_erst_kumulativ', 'personen_voll_kumulativ']]"
   ]
  },
  {
   "cell_type": "markdown",
   "source": [],
   "metadata": {
    "collapsed": false,
    "pycharm": {
     "name": "#%% md\n"
    }
   }
  },
  {
   "cell_type": "markdown",
   "metadata": {
    "collapsed": false
   },
   "source": [
    "# Let's fix the data"
   ]
  },
  {
   "cell_type": "markdown",
   "source": [
    "## From April 28th the data is just wrong. I'll make a cutoff there. it isn't relevant anyway."
   ],
   "metadata": {
    "collapsed": false,
    "pycharm": {
     "name": "#%% md\n"
    }
   }
  },
  {
   "cell_type": "code",
   "execution_count": 54,
   "outputs": [
    {
     "name": "stdout",
     "output_type": "stream",
     "text": [
      "378\n",
      "378\n",
      "378\n",
      "378\n",
      "378\n",
      "378\n",
      "378\n",
      "378\n",
      "378\n",
      "378\n",
      "378\n",
      "378\n",
      "378\n",
      "378\n",
      "378\n",
      "378\n",
      "378\n"
     ]
    }
   ],
   "source": [
    "for kurzel in bl_kurzel:\n",
    "    print(len(dfs[kurzel].index))"
   ],
   "metadata": {
    "collapsed": false,
    "pycharm": {
     "name": "#%%\n"
    }
   }
  },
  {
   "cell_type": "code",
   "execution_count": 55,
   "outputs": [],
   "source": [
    "length = len(dfs['BY'].index)\n",
    "for kurzel in bl_kurzel:\n",
    "    dfs[kurzel] = dfs[kurzel].head(length - 19)"
   ],
   "metadata": {
    "collapsed": false,
    "pycharm": {
     "name": "#%%\n"
    }
   }
  },
  {
   "cell_type": "code",
   "execution_count": 56,
   "outputs": [
    {
     "data": {
      "text/plain": "            publication_date  dosen_kumulativ  personen_erst_kumulativ  \\\ndate                                                                     \n2022-04-11  2022-04-12 08:00         26471410              9,227,229.0   \n2022-04-12  2022-04-13 08:00         26476263              9,227,618.0   \n2022-04-13  2022-04-14 08:00         26480745              9,227,996.0   \n2022-04-18  2022-04-19 08:00         26487269              9,228,591.0   \n2022-04-19  2022-04-20 08:00         26490860              9,228,933.0   \n\n            personen_voll_kumulativ  \ndate                                 \n2022-04-11                  9834378  \n2022-04-12                  9835329  \n2022-04-13                  9836261  \n2022-04-18                  9837826  \n2022-04-19                  9838665  ",
      "text/html": "<div>\n<style scoped>\n    .dataframe tbody tr th:only-of-type {\n        vertical-align: middle;\n    }\n\n    .dataframe tbody tr th {\n        vertical-align: top;\n    }\n\n    .dataframe thead th {\n        text-align: right;\n    }\n</style>\n<table border=\"1\" class=\"dataframe\">\n  <thead>\n    <tr style=\"text-align: right;\">\n      <th></th>\n      <th>publication_date</th>\n      <th>dosen_kumulativ</th>\n      <th>personen_erst_kumulativ</th>\n      <th>personen_voll_kumulativ</th>\n    </tr>\n    <tr>\n      <th>date</th>\n      <th></th>\n      <th></th>\n      <th></th>\n      <th></th>\n    </tr>\n  </thead>\n  <tbody>\n    <tr>\n      <th>2022-04-11</th>\n      <td>2022-04-12 08:00</td>\n      <td>26471410</td>\n      <td>9,227,229.0</td>\n      <td>9834378</td>\n    </tr>\n    <tr>\n      <th>2022-04-12</th>\n      <td>2022-04-13 08:00</td>\n      <td>26476263</td>\n      <td>9,227,618.0</td>\n      <td>9835329</td>\n    </tr>\n    <tr>\n      <th>2022-04-13</th>\n      <td>2022-04-14 08:00</td>\n      <td>26480745</td>\n      <td>9,227,996.0</td>\n      <td>9836261</td>\n    </tr>\n    <tr>\n      <th>2022-04-18</th>\n      <td>2022-04-19 08:00</td>\n      <td>26487269</td>\n      <td>9,228,591.0</td>\n      <td>9837826</td>\n    </tr>\n    <tr>\n      <th>2022-04-19</th>\n      <td>2022-04-20 08:00</td>\n      <td>26490860</td>\n      <td>9,228,933.0</td>\n      <td>9838665</td>\n    </tr>\n  </tbody>\n</table>\n</div>"
     },
     "execution_count": 56,
     "metadata": {},
     "output_type": "execute_result"
    }
   ],
   "source": [
    "dfs['BY'].tail(5)"
   ],
   "metadata": {
    "collapsed": false,
    "pycharm": {
     "name": "#%%\n"
    }
   }
  },
  {
   "cell_type": "markdown",
   "source": [
    "### There are two spikes, those are just wrong data, let's fix them manually"
   ],
   "metadata": {
    "collapsed": false
   }
  },
  {
   "cell_type": "code",
   "execution_count": 57,
   "outputs": [],
   "source": [
    "dfs['BY'].dosen_kumulativ = dfs['BY'].dosen_kumulativ.replace(384311, 343668)\n",
    "dfs['BY'].dosen_kumulativ = dfs['BY'].dosen_kumulativ.replace(1150129, 1186228)\n",
    "\n",
    "\n"
   ],
   "metadata": {
    "collapsed": false,
    "pycharm": {
     "name": "#%%\n"
    }
   }
  },
  {
   "cell_type": "markdown",
   "source": [
    "### New column shots_today instead of total doses til now (dosen_kumulativ)\n",
    "\n",
    "Each row is seen as it's own entry, the value of a day should not depend on the previous value.\n",
    "But that is the case for the dosen_kumulativ column.\n",
    "Instead we will add a new column 'heutige_dosen' and recreate the dosen_kumulativ column"
   ],
   "metadata": {
    "collapsed": false
   }
  },
  {
   "cell_type": "code",
   "execution_count": 58,
   "outputs": [
    {
     "data": {
      "text/plain": "            publication_date  dosen_kumulativ  personen_erst_kumulativ  \\\ndate                                                                     \n2020-12-27  2020-12-28 16:15             3389                  3,389.0   \n2020-12-28  2020-12-29 08:00             5219                  5,219.0   \n2020-12-30  2020-12-31 08:30            28206                 28,206.0   \n2020-12-31  2021-01-01 12:30            37955                 37,955.0   \n2021-01-01  2021-01-02 08:00            39005                 39,005.0   \n\n            personen_voll_kumulativ  \ndate                                 \n2020-12-27                        0  \n2020-12-28                        0  \n2020-12-30                        0  \n2020-12-31                        0  \n2021-01-01                        0  ",
      "text/html": "<div>\n<style scoped>\n    .dataframe tbody tr th:only-of-type {\n        vertical-align: middle;\n    }\n\n    .dataframe tbody tr th {\n        vertical-align: top;\n    }\n\n    .dataframe thead th {\n        text-align: right;\n    }\n</style>\n<table border=\"1\" class=\"dataframe\">\n  <thead>\n    <tr style=\"text-align: right;\">\n      <th></th>\n      <th>publication_date</th>\n      <th>dosen_kumulativ</th>\n      <th>personen_erst_kumulativ</th>\n      <th>personen_voll_kumulativ</th>\n    </tr>\n    <tr>\n      <th>date</th>\n      <th></th>\n      <th></th>\n      <th></th>\n      <th></th>\n    </tr>\n  </thead>\n  <tbody>\n    <tr>\n      <th>2020-12-27</th>\n      <td>2020-12-28 16:15</td>\n      <td>3389</td>\n      <td>3,389.0</td>\n      <td>0</td>\n    </tr>\n    <tr>\n      <th>2020-12-28</th>\n      <td>2020-12-29 08:00</td>\n      <td>5219</td>\n      <td>5,219.0</td>\n      <td>0</td>\n    </tr>\n    <tr>\n      <th>2020-12-30</th>\n      <td>2020-12-31 08:30</td>\n      <td>28206</td>\n      <td>28,206.0</td>\n      <td>0</td>\n    </tr>\n    <tr>\n      <th>2020-12-31</th>\n      <td>2021-01-01 12:30</td>\n      <td>37955</td>\n      <td>37,955.0</td>\n      <td>0</td>\n    </tr>\n    <tr>\n      <th>2021-01-01</th>\n      <td>2021-01-02 08:00</td>\n      <td>39005</td>\n      <td>39,005.0</td>\n      <td>0</td>\n    </tr>\n  </tbody>\n</table>\n</div>"
     },
     "execution_count": 58,
     "metadata": {},
     "output_type": "execute_result"
    }
   ],
   "source": [
    "dfs['BY'].head(5)"
   ],
   "metadata": {
    "collapsed": false,
    "pycharm": {
     "name": "#%%\n"
    }
   }
  },
  {
   "cell_type": "code",
   "execution_count": 59,
   "outputs": [],
   "source": [
    "def add_dif_column(df):\n",
    "    df['shots_today'] = df.dosen_kumulativ - df.dosen_kumulativ.shift(1)\n",
    "    df['shots_today'] = df['shots_today'].fillna(0)\n",
    "    return df.astype({'shots_today': 'int64'})\n",
    "\n",
    "for kurzel in bl_kurzel:\n",
    "    dfs[kurzel] = add_dif_column(dfs[kurzel])"
   ],
   "metadata": {
    "collapsed": false,
    "pycharm": {
     "name": "#%%\n"
    }
   }
  },
  {
   "cell_type": "markdown",
   "source": [
    "### Add missing rows with empty values"
   ],
   "metadata": {
    "collapsed": false
   }
  },
  {
   "cell_type": "code",
   "execution_count": 60,
   "outputs": [
    {
     "data": {
      "text/plain": "            publication_date  dosen_kumulativ  personen_erst_kumulativ  \\\ndate                                                                     \n2020-12-27  2020-12-28 16:15            21566                 21,566.0   \n2020-12-28  2020-12-29 08:00            41962                 41,962.0   \n2020-12-30  2020-12-31 08:30           131626                131,626.0   \n2020-12-31  2021-01-01 12:30           165575                165,575.0   \n2021-01-01  2021-01-02 08:00           188553                188,553.0   \n2021-01-02  2021-01-03 08:00           238809                238,809.0   \n2021-01-03  2021-01-04 12:00           265986                265,986.0   \n2021-01-04  2021-01-05 12:00           316962                316,962.0   \n2021-01-05  2021-01-06 11:00           367331                367,331.0   \n2021-01-06  2021-01-07 11:00           417060                417,060.0   \n\n            personen_voll_kumulativ  shots_today  \ndate                                              \n2020-12-27                        0            0  \n2020-12-28                        0        20396  \n2020-12-30                        0        89664  \n2020-12-31                        0        33949  \n2021-01-01                        0        22978  \n2021-01-02                        0        50256  \n2021-01-03                        0        27177  \n2021-01-04                        0        50976  \n2021-01-05                        0        50369  \n2021-01-06                        0        49729  ",
      "text/html": "<div>\n<style scoped>\n    .dataframe tbody tr th:only-of-type {\n        vertical-align: middle;\n    }\n\n    .dataframe tbody tr th {\n        vertical-align: top;\n    }\n\n    .dataframe thead th {\n        text-align: right;\n    }\n</style>\n<table border=\"1\" class=\"dataframe\">\n  <thead>\n    <tr style=\"text-align: right;\">\n      <th></th>\n      <th>publication_date</th>\n      <th>dosen_kumulativ</th>\n      <th>personen_erst_kumulativ</th>\n      <th>personen_voll_kumulativ</th>\n      <th>shots_today</th>\n    </tr>\n    <tr>\n      <th>date</th>\n      <th></th>\n      <th></th>\n      <th></th>\n      <th></th>\n      <th></th>\n    </tr>\n  </thead>\n  <tbody>\n    <tr>\n      <th>2020-12-27</th>\n      <td>2020-12-28 16:15</td>\n      <td>21566</td>\n      <td>21,566.0</td>\n      <td>0</td>\n      <td>0</td>\n    </tr>\n    <tr>\n      <th>2020-12-28</th>\n      <td>2020-12-29 08:00</td>\n      <td>41962</td>\n      <td>41,962.0</td>\n      <td>0</td>\n      <td>20396</td>\n    </tr>\n    <tr>\n      <th>2020-12-30</th>\n      <td>2020-12-31 08:30</td>\n      <td>131626</td>\n      <td>131,626.0</td>\n      <td>0</td>\n      <td>89664</td>\n    </tr>\n    <tr>\n      <th>2020-12-31</th>\n      <td>2021-01-01 12:30</td>\n      <td>165575</td>\n      <td>165,575.0</td>\n      <td>0</td>\n      <td>33949</td>\n    </tr>\n    <tr>\n      <th>2021-01-01</th>\n      <td>2021-01-02 08:00</td>\n      <td>188553</td>\n      <td>188,553.0</td>\n      <td>0</td>\n      <td>22978</td>\n    </tr>\n    <tr>\n      <th>2021-01-02</th>\n      <td>2021-01-03 08:00</td>\n      <td>238809</td>\n      <td>238,809.0</td>\n      <td>0</td>\n      <td>50256</td>\n    </tr>\n    <tr>\n      <th>2021-01-03</th>\n      <td>2021-01-04 12:00</td>\n      <td>265986</td>\n      <td>265,986.0</td>\n      <td>0</td>\n      <td>27177</td>\n    </tr>\n    <tr>\n      <th>2021-01-04</th>\n      <td>2021-01-05 12:00</td>\n      <td>316962</td>\n      <td>316,962.0</td>\n      <td>0</td>\n      <td>50976</td>\n    </tr>\n    <tr>\n      <th>2021-01-05</th>\n      <td>2021-01-06 11:00</td>\n      <td>367331</td>\n      <td>367,331.0</td>\n      <td>0</td>\n      <td>50369</td>\n    </tr>\n    <tr>\n      <th>2021-01-06</th>\n      <td>2021-01-07 11:00</td>\n      <td>417060</td>\n      <td>417,060.0</td>\n      <td>0</td>\n      <td>49729</td>\n    </tr>\n  </tbody>\n</table>\n</div>"
     },
     "execution_count": 60,
     "metadata": {},
     "output_type": "execute_result"
    }
   ],
   "source": [
    "dfs['DE'].head(10)"
   ],
   "metadata": {
    "collapsed": false,
    "pycharm": {
     "name": "#%%\n"
    }
   }
  },
  {
   "cell_type": "code",
   "execution_count": 61,
   "outputs": [
    {
     "data": {
      "text/plain": "            publication_date  dosen_kumulativ  personen_erst_kumulativ  \\\ndate                                                                     \n2022-04-04  2022-04-05 08:00        172175901             60,081,679.0   \n2022-04-05  2022-04-06 08:00        172224482             60,086,537.0   \n2022-04-06  2022-04-07 08:00        172279700             60,092,314.0   \n2022-04-07  2022-04-08 08:00        172332148             60,096,699.0   \n2022-04-10  2022-04-11 08:00        172395880             60,103,214.0   \n2022-04-11  2022-04-12 08:00        172420421             60,105,540.0   \n2022-04-12  2022-04-13 08:00        172459530             60,109,484.0   \n2022-04-13  2022-04-14 08:00        172495179             60,114,114.0   \n2022-04-18  2022-04-19 08:00        172536857             60,118,591.0   \n2022-04-19  2022-04-20 08:00        172566113             60,123,492.0   \n\n            personen_voll_kumulativ  shots_today  \ndate                                              \n2022-04-04                 63193985        32805  \n2022-04-05                 63203579        48581  \n2022-04-06                 63215379        55218  \n2022-04-07                 63225075        52448  \n2022-04-10                 63238599        63732  \n2022-04-11                 63243601        24541  \n2022-04-12                 63250855        39109  \n2022-04-13                 63256538        35649  \n2022-04-18                 63265523        41678  \n2022-04-19                 63270874        29256  ",
      "text/html": "<div>\n<style scoped>\n    .dataframe tbody tr th:only-of-type {\n        vertical-align: middle;\n    }\n\n    .dataframe tbody tr th {\n        vertical-align: top;\n    }\n\n    .dataframe thead th {\n        text-align: right;\n    }\n</style>\n<table border=\"1\" class=\"dataframe\">\n  <thead>\n    <tr style=\"text-align: right;\">\n      <th></th>\n      <th>publication_date</th>\n      <th>dosen_kumulativ</th>\n      <th>personen_erst_kumulativ</th>\n      <th>personen_voll_kumulativ</th>\n      <th>shots_today</th>\n    </tr>\n    <tr>\n      <th>date</th>\n      <th></th>\n      <th></th>\n      <th></th>\n      <th></th>\n      <th></th>\n    </tr>\n  </thead>\n  <tbody>\n    <tr>\n      <th>2022-04-04</th>\n      <td>2022-04-05 08:00</td>\n      <td>172175901</td>\n      <td>60,081,679.0</td>\n      <td>63193985</td>\n      <td>32805</td>\n    </tr>\n    <tr>\n      <th>2022-04-05</th>\n      <td>2022-04-06 08:00</td>\n      <td>172224482</td>\n      <td>60,086,537.0</td>\n      <td>63203579</td>\n      <td>48581</td>\n    </tr>\n    <tr>\n      <th>2022-04-06</th>\n      <td>2022-04-07 08:00</td>\n      <td>172279700</td>\n      <td>60,092,314.0</td>\n      <td>63215379</td>\n      <td>55218</td>\n    </tr>\n    <tr>\n      <th>2022-04-07</th>\n      <td>2022-04-08 08:00</td>\n      <td>172332148</td>\n      <td>60,096,699.0</td>\n      <td>63225075</td>\n      <td>52448</td>\n    </tr>\n    <tr>\n      <th>2022-04-10</th>\n      <td>2022-04-11 08:00</td>\n      <td>172395880</td>\n      <td>60,103,214.0</td>\n      <td>63238599</td>\n      <td>63732</td>\n    </tr>\n    <tr>\n      <th>2022-04-11</th>\n      <td>2022-04-12 08:00</td>\n      <td>172420421</td>\n      <td>60,105,540.0</td>\n      <td>63243601</td>\n      <td>24541</td>\n    </tr>\n    <tr>\n      <th>2022-04-12</th>\n      <td>2022-04-13 08:00</td>\n      <td>172459530</td>\n      <td>60,109,484.0</td>\n      <td>63250855</td>\n      <td>39109</td>\n    </tr>\n    <tr>\n      <th>2022-04-13</th>\n      <td>2022-04-14 08:00</td>\n      <td>172495179</td>\n      <td>60,114,114.0</td>\n      <td>63256538</td>\n      <td>35649</td>\n    </tr>\n    <tr>\n      <th>2022-04-18</th>\n      <td>2022-04-19 08:00</td>\n      <td>172536857</td>\n      <td>60,118,591.0</td>\n      <td>63265523</td>\n      <td>41678</td>\n    </tr>\n    <tr>\n      <th>2022-04-19</th>\n      <td>2022-04-20 08:00</td>\n      <td>172566113</td>\n      <td>60,123,492.0</td>\n      <td>63270874</td>\n      <td>29256</td>\n    </tr>\n  </tbody>\n</table>\n</div>"
     },
     "execution_count": 61,
     "metadata": {},
     "output_type": "execute_result"
    }
   ],
   "source": [
    "dfs['DE'].tail(10)"
   ],
   "metadata": {
    "collapsed": false,
    "pycharm": {
     "name": "#%%\n"
    }
   }
  },
  {
   "cell_type": "code",
   "execution_count": 62,
   "outputs": [],
   "source": [
    "def fix_missing_days(df):\n",
    "    # fill in the dates\n",
    "    idx = pd.date_range(start='2020-12-26', end=df.index.max())\n",
    "\n",
    "    df = df.reindex(idx)\n",
    "\n",
    "    # Create new index column because that's waay easier than having the date column be the index\n",
    "    df = df.reset_index()\n",
    "    df.at[0,'dosen_kumulativ'] = 0\n",
    "    df.at[0,'shots_today'] = 0\n",
    "    df.at[0,'personen_erst_kumulativ'] = 0\n",
    "    df.at[0,'personen_voll_kumulativ'] = 0\n",
    "    df.at[1,'shots_today'] =  df.iloc[1, :]['dosen_kumulativ']\n",
    "\n",
    "    return df.rename(columns={'index': 'date'})\n",
    "\n",
    "for kurzel in bl_kurzel:\n",
    "    dfs[kurzel] = fix_missing_days(dfs[kurzel])\n"
   ],
   "metadata": {
    "collapsed": false,
    "pycharm": {
     "name": "#%%\n"
    }
   }
  },
  {
   "cell_type": "markdown",
   "source": [
    "### Fix NaN values in shots_today"
   ],
   "metadata": {
    "collapsed": false,
    "pycharm": {
     "name": "#%% md\n"
    }
   }
  },
  {
   "cell_type": "code",
   "execution_count": 63,
   "outputs": [],
   "source": [
    "def fix_NaN_dosen(df, column):\n",
    "    i = 0\n",
    "    while i < len(df.index):\n",
    "        row = df.iloc[i, :]\n",
    "        if pd.isnull(row[column]):\n",
    "            j = 1\n",
    "            new_row = df.iloc[i+j, :]\n",
    "            while pd.isnull(new_row[column]):\n",
    "                j = j + 1\n",
    "                new_row = df.iloc[i+j, :]\n",
    "            next_valid_row = df.iloc[i+j, :]\n",
    "            quotient = next_valid_row[column] / (j+1)\n",
    "            df.at[i+j,column] = quotient\n",
    "            for to_change in range(i, i+j):\n",
    "                df.at[to_change,column] = quotient\n",
    "            i = i+j\n",
    "        else:\n",
    "            i = i + 1\n",
    "\n",
    "for kurzel in bl_kurzel:\n",
    "    fix_NaN_dosen(dfs[kurzel], 'shots_today')\n",
    "\n"
   ],
   "metadata": {
    "collapsed": false,
    "pycharm": {
     "name": "#%%\n"
    }
   }
  },
  {
   "cell_type": "markdown",
   "source": [
    "### New shots_sum column"
   ],
   "metadata": {
    "collapsed": false,
    "pycharm": {
     "name": "#%% md\n"
    }
   }
  },
  {
   "cell_type": "code",
   "execution_count": 64,
   "outputs": [],
   "source": [
    "def add_shots_sum(df):\n",
    "    df['shots_sum'] = 0\n",
    "    df['shots_sum'] = df['shots_today'].cumsum().round()\n",
    "    df.shots_sum = df.shots_sum.astype(int)\n",
    "    return df\n",
    "\n",
    "for kurzel in bl_kurzel:\n",
    "    dfs[kurzel] = add_shots_sum(dfs[kurzel])"
   ],
   "metadata": {
    "collapsed": false,
    "pycharm": {
     "name": "#%%\n"
    }
   }
  },
  {
   "cell_type": "code",
   "execution_count": 65,
   "outputs": [
    {
     "data": {
      "text/plain": "        date  publication_date  dosen_kumulativ  personen_erst_kumulativ  \\\n0 2020-12-26               NaN              0.0                      0.0   \n1 2020-12-27  2020-12-28 16:15          3,389.0                  3,389.0   \n2 2020-12-28  2020-12-29 08:00          5,219.0                  5,219.0   \n3 2020-12-29               NaN              NaN                      NaN   \n4 2020-12-30  2020-12-31 08:30         28,206.0                 28,206.0   \n5 2020-12-31  2021-01-01 12:30         37,955.0                 37,955.0   \n\n   personen_voll_kumulativ  shots_today  shots_sum  \n0                      0.0          0.0          0  \n1                      0.0      3,389.0       3389  \n2                      0.0      1,830.0       5219  \n3                      NaN     11,493.5      16712  \n4                      0.0     11,493.5      28206  \n5                      0.0      9,749.0      37955  ",
      "text/html": "<div>\n<style scoped>\n    .dataframe tbody tr th:only-of-type {\n        vertical-align: middle;\n    }\n\n    .dataframe tbody tr th {\n        vertical-align: top;\n    }\n\n    .dataframe thead th {\n        text-align: right;\n    }\n</style>\n<table border=\"1\" class=\"dataframe\">\n  <thead>\n    <tr style=\"text-align: right;\">\n      <th></th>\n      <th>date</th>\n      <th>publication_date</th>\n      <th>dosen_kumulativ</th>\n      <th>personen_erst_kumulativ</th>\n      <th>personen_voll_kumulativ</th>\n      <th>shots_today</th>\n      <th>shots_sum</th>\n    </tr>\n  </thead>\n  <tbody>\n    <tr>\n      <th>0</th>\n      <td>2020-12-26</td>\n      <td>NaN</td>\n      <td>0.0</td>\n      <td>0.0</td>\n      <td>0.0</td>\n      <td>0.0</td>\n      <td>0</td>\n    </tr>\n    <tr>\n      <th>1</th>\n      <td>2020-12-27</td>\n      <td>2020-12-28 16:15</td>\n      <td>3,389.0</td>\n      <td>3,389.0</td>\n      <td>0.0</td>\n      <td>3,389.0</td>\n      <td>3389</td>\n    </tr>\n    <tr>\n      <th>2</th>\n      <td>2020-12-28</td>\n      <td>2020-12-29 08:00</td>\n      <td>5,219.0</td>\n      <td>5,219.0</td>\n      <td>0.0</td>\n      <td>1,830.0</td>\n      <td>5219</td>\n    </tr>\n    <tr>\n      <th>3</th>\n      <td>2020-12-29</td>\n      <td>NaN</td>\n      <td>NaN</td>\n      <td>NaN</td>\n      <td>NaN</td>\n      <td>11,493.5</td>\n      <td>16712</td>\n    </tr>\n    <tr>\n      <th>4</th>\n      <td>2020-12-30</td>\n      <td>2020-12-31 08:30</td>\n      <td>28,206.0</td>\n      <td>28,206.0</td>\n      <td>0.0</td>\n      <td>11,493.5</td>\n      <td>28206</td>\n    </tr>\n    <tr>\n      <th>5</th>\n      <td>2020-12-31</td>\n      <td>2021-01-01 12:30</td>\n      <td>37,955.0</td>\n      <td>37,955.0</td>\n      <td>0.0</td>\n      <td>9,749.0</td>\n      <td>37955</td>\n    </tr>\n  </tbody>\n</table>\n</div>"
     },
     "execution_count": 65,
     "metadata": {},
     "output_type": "execute_result"
    }
   ],
   "source": [
    "dfs['BY'].head(6)"
   ],
   "metadata": {
    "collapsed": false,
    "pycharm": {
     "name": "#%%\n"
    }
   }
  },
  {
   "cell_type": "markdown",
   "metadata": {
    "collapsed": false
   },
   "source": [
    "### New column: Day of the week"
   ]
  },
  {
   "cell_type": "code",
   "execution_count": 66,
   "outputs": [],
   "source": [
    "for kurzel in bl_kurzel:\n",
    "    dfs[kurzel] = shared.add_weekday_stuff(dfs[kurzel], 'date')"
   ],
   "metadata": {
    "collapsed": false,
    "pycharm": {
     "name": "#%%\n"
    }
   }
  },
  {
   "cell_type": "markdown",
   "source": [
    "## Add columns 'per 100k Pop'"
   ],
   "metadata": {
    "collapsed": false,
    "pycharm": {
     "name": "#%% md\n"
    }
   }
  },
  {
   "cell_type": "code",
   "execution_count": 67,
   "outputs": [],
   "source": [
    "def add_pop_relative_stuff(kurzel):\n",
    "    pop = shared.get_land_pop(kurzel)\n",
    "    dfs[kurzel]['shots_sum_100k'] = dfs[kurzel]['shots_sum'] / pop * 100_000\n",
    "    dfs[kurzel]['shots_today_100k'] = dfs[kurzel]['shots_today'] / pop * 100_000\n",
    "\n",
    "\n",
    "\n",
    "for kurzel in bl_kurzel:\n",
    "    add_pop_relative_stuff(kurzel)"
   ],
   "metadata": {
    "collapsed": false,
    "pycharm": {
     "name": "#%%\n"
    }
   }
  },
  {
   "cell_type": "markdown",
   "source": [
    "## Let's take a look"
   ],
   "metadata": {
    "collapsed": false,
    "pycharm": {
     "name": "#%% md\n"
    }
   }
  },
  {
   "cell_type": "code",
   "execution_count": 68,
   "outputs": [
    {
     "data": {
      "text/plain": "         date  publication_date  dosen_kumulativ  personen_erst_kumulativ  \\\n0  2020-12-26               NaN              0.0                      0.0   \n1  2020-12-27  2020-12-28 16:15         21,566.0                 21,566.0   \n2  2020-12-28  2020-12-29 08:00         41,962.0                 41,962.0   \n3  2020-12-29               NaN              NaN                      NaN   \n4  2020-12-30  2020-12-31 08:30        131,626.0                131,626.0   \n5  2020-12-31  2021-01-01 12:30        165,575.0                165,575.0   \n6  2021-01-01  2021-01-02 08:00        188,553.0                188,553.0   \n7  2021-01-02  2021-01-03 08:00        238,809.0                238,809.0   \n8  2021-01-03  2021-01-04 12:00        265,986.0                265,986.0   \n9  2021-01-04  2021-01-05 12:00        316,962.0                316,962.0   \n10 2021-01-05  2021-01-06 11:00        367,331.0                367,331.0   \n11 2021-01-06  2021-01-07 11:00        417,060.0                417,060.0   \n12 2021-01-07  2021-01-08 11:00        476,959.0                476,959.0   \n13 2021-01-08  2021-01-09 11:00        532,878.0                532,878.0   \n14 2021-01-09               NaN              NaN                      NaN   \n\n    personen_voll_kumulativ  shots_today  shots_sum  is_weekend weekday_name  \\\n0                       0.0          0.0          0        True          Sat   \n1                       0.0     21,566.0      21566        True          Sun   \n2                       0.0     20,396.0      41962       False          Mon   \n3                       NaN     44,832.0      86794       False          Tue   \n4                       0.0     44,832.0     131626       False          Wed   \n5                       0.0     33,949.0     165575       False          Thu   \n6                       0.0     22,978.0     188553       False          Fri   \n7                       0.0     50,256.0     238809        True          Sat   \n8                       0.0     27,177.0     265986        True          Sun   \n9                       0.0     50,976.0     316962       False          Mon   \n10                      0.0     50,369.0     367331       False          Tue   \n11                      0.0     49,729.0     417060       False          Wed   \n12                      0.0     59,899.0     476959       False          Thu   \n13                      0.0     55,919.0     532878       False          Fri   \n14                      NaN     40,234.5     573112        True          Sat   \n\n    calendar_week year_and_week  shots_sum_100k  shots_today_100k  \n0              52       2020_52             0.0               0.0  \n1              52       2020_52            25.9              25.9  \n2              53       2020_53            50.4              24.5  \n3              53       2020_53           104.3              53.9  \n4              53       2020_53           158.2              53.9  \n5              53       2020_53           199.0              40.8  \n6              53       2020_53           226.7              27.6  \n7              53       2020_53           287.1              60.4  \n8              53       2020_53           319.7              32.7  \n9               1       2021_01           381.0              61.3  \n10              1       2021_01           441.6              60.5  \n11              1       2021_01           501.3              59.8  \n12              1       2021_01           573.3              72.0  \n13              1       2021_01           640.6              67.2  \n14              1       2021_01           688.9              48.4  ",
      "text/html": "<div>\n<style scoped>\n    .dataframe tbody tr th:only-of-type {\n        vertical-align: middle;\n    }\n\n    .dataframe tbody tr th {\n        vertical-align: top;\n    }\n\n    .dataframe thead th {\n        text-align: right;\n    }\n</style>\n<table border=\"1\" class=\"dataframe\">\n  <thead>\n    <tr style=\"text-align: right;\">\n      <th></th>\n      <th>date</th>\n      <th>publication_date</th>\n      <th>dosen_kumulativ</th>\n      <th>personen_erst_kumulativ</th>\n      <th>personen_voll_kumulativ</th>\n      <th>shots_today</th>\n      <th>shots_sum</th>\n      <th>is_weekend</th>\n      <th>weekday_name</th>\n      <th>calendar_week</th>\n      <th>year_and_week</th>\n      <th>shots_sum_100k</th>\n      <th>shots_today_100k</th>\n    </tr>\n  </thead>\n  <tbody>\n    <tr>\n      <th>0</th>\n      <td>2020-12-26</td>\n      <td>NaN</td>\n      <td>0.0</td>\n      <td>0.0</td>\n      <td>0.0</td>\n      <td>0.0</td>\n      <td>0</td>\n      <td>True</td>\n      <td>Sat</td>\n      <td>52</td>\n      <td>2020_52</td>\n      <td>0.0</td>\n      <td>0.0</td>\n    </tr>\n    <tr>\n      <th>1</th>\n      <td>2020-12-27</td>\n      <td>2020-12-28 16:15</td>\n      <td>21,566.0</td>\n      <td>21,566.0</td>\n      <td>0.0</td>\n      <td>21,566.0</td>\n      <td>21566</td>\n      <td>True</td>\n      <td>Sun</td>\n      <td>52</td>\n      <td>2020_52</td>\n      <td>25.9</td>\n      <td>25.9</td>\n    </tr>\n    <tr>\n      <th>2</th>\n      <td>2020-12-28</td>\n      <td>2020-12-29 08:00</td>\n      <td>41,962.0</td>\n      <td>41,962.0</td>\n      <td>0.0</td>\n      <td>20,396.0</td>\n      <td>41962</td>\n      <td>False</td>\n      <td>Mon</td>\n      <td>53</td>\n      <td>2020_53</td>\n      <td>50.4</td>\n      <td>24.5</td>\n    </tr>\n    <tr>\n      <th>3</th>\n      <td>2020-12-29</td>\n      <td>NaN</td>\n      <td>NaN</td>\n      <td>NaN</td>\n      <td>NaN</td>\n      <td>44,832.0</td>\n      <td>86794</td>\n      <td>False</td>\n      <td>Tue</td>\n      <td>53</td>\n      <td>2020_53</td>\n      <td>104.3</td>\n      <td>53.9</td>\n    </tr>\n    <tr>\n      <th>4</th>\n      <td>2020-12-30</td>\n      <td>2020-12-31 08:30</td>\n      <td>131,626.0</td>\n      <td>131,626.0</td>\n      <td>0.0</td>\n      <td>44,832.0</td>\n      <td>131626</td>\n      <td>False</td>\n      <td>Wed</td>\n      <td>53</td>\n      <td>2020_53</td>\n      <td>158.2</td>\n      <td>53.9</td>\n    </tr>\n    <tr>\n      <th>5</th>\n      <td>2020-12-31</td>\n      <td>2021-01-01 12:30</td>\n      <td>165,575.0</td>\n      <td>165,575.0</td>\n      <td>0.0</td>\n      <td>33,949.0</td>\n      <td>165575</td>\n      <td>False</td>\n      <td>Thu</td>\n      <td>53</td>\n      <td>2020_53</td>\n      <td>199.0</td>\n      <td>40.8</td>\n    </tr>\n    <tr>\n      <th>6</th>\n      <td>2021-01-01</td>\n      <td>2021-01-02 08:00</td>\n      <td>188,553.0</td>\n      <td>188,553.0</td>\n      <td>0.0</td>\n      <td>22,978.0</td>\n      <td>188553</td>\n      <td>False</td>\n      <td>Fri</td>\n      <td>53</td>\n      <td>2020_53</td>\n      <td>226.7</td>\n      <td>27.6</td>\n    </tr>\n    <tr>\n      <th>7</th>\n      <td>2021-01-02</td>\n      <td>2021-01-03 08:00</td>\n      <td>238,809.0</td>\n      <td>238,809.0</td>\n      <td>0.0</td>\n      <td>50,256.0</td>\n      <td>238809</td>\n      <td>True</td>\n      <td>Sat</td>\n      <td>53</td>\n      <td>2020_53</td>\n      <td>287.1</td>\n      <td>60.4</td>\n    </tr>\n    <tr>\n      <th>8</th>\n      <td>2021-01-03</td>\n      <td>2021-01-04 12:00</td>\n      <td>265,986.0</td>\n      <td>265,986.0</td>\n      <td>0.0</td>\n      <td>27,177.0</td>\n      <td>265986</td>\n      <td>True</td>\n      <td>Sun</td>\n      <td>53</td>\n      <td>2020_53</td>\n      <td>319.7</td>\n      <td>32.7</td>\n    </tr>\n    <tr>\n      <th>9</th>\n      <td>2021-01-04</td>\n      <td>2021-01-05 12:00</td>\n      <td>316,962.0</td>\n      <td>316,962.0</td>\n      <td>0.0</td>\n      <td>50,976.0</td>\n      <td>316962</td>\n      <td>False</td>\n      <td>Mon</td>\n      <td>1</td>\n      <td>2021_01</td>\n      <td>381.0</td>\n      <td>61.3</td>\n    </tr>\n    <tr>\n      <th>10</th>\n      <td>2021-01-05</td>\n      <td>2021-01-06 11:00</td>\n      <td>367,331.0</td>\n      <td>367,331.0</td>\n      <td>0.0</td>\n      <td>50,369.0</td>\n      <td>367331</td>\n      <td>False</td>\n      <td>Tue</td>\n      <td>1</td>\n      <td>2021_01</td>\n      <td>441.6</td>\n      <td>60.5</td>\n    </tr>\n    <tr>\n      <th>11</th>\n      <td>2021-01-06</td>\n      <td>2021-01-07 11:00</td>\n      <td>417,060.0</td>\n      <td>417,060.0</td>\n      <td>0.0</td>\n      <td>49,729.0</td>\n      <td>417060</td>\n      <td>False</td>\n      <td>Wed</td>\n      <td>1</td>\n      <td>2021_01</td>\n      <td>501.3</td>\n      <td>59.8</td>\n    </tr>\n    <tr>\n      <th>12</th>\n      <td>2021-01-07</td>\n      <td>2021-01-08 11:00</td>\n      <td>476,959.0</td>\n      <td>476,959.0</td>\n      <td>0.0</td>\n      <td>59,899.0</td>\n      <td>476959</td>\n      <td>False</td>\n      <td>Thu</td>\n      <td>1</td>\n      <td>2021_01</td>\n      <td>573.3</td>\n      <td>72.0</td>\n    </tr>\n    <tr>\n      <th>13</th>\n      <td>2021-01-08</td>\n      <td>2021-01-09 11:00</td>\n      <td>532,878.0</td>\n      <td>532,878.0</td>\n      <td>0.0</td>\n      <td>55,919.0</td>\n      <td>532878</td>\n      <td>False</td>\n      <td>Fri</td>\n      <td>1</td>\n      <td>2021_01</td>\n      <td>640.6</td>\n      <td>67.2</td>\n    </tr>\n    <tr>\n      <th>14</th>\n      <td>2021-01-09</td>\n      <td>NaN</td>\n      <td>NaN</td>\n      <td>NaN</td>\n      <td>NaN</td>\n      <td>40,234.5</td>\n      <td>573112</td>\n      <td>True</td>\n      <td>Sat</td>\n      <td>1</td>\n      <td>2021_01</td>\n      <td>688.9</td>\n      <td>48.4</td>\n    </tr>\n  </tbody>\n</table>\n</div>"
     },
     "execution_count": 68,
     "metadata": {},
     "output_type": "execute_result"
    }
   ],
   "source": [
    "dfs['DE'].head(15)"
   ],
   "metadata": {
    "collapsed": false,
    "pycharm": {
     "name": "#%%\n"
    }
   }
  },
  {
   "cell_type": "code",
   "execution_count": 69,
   "outputs": [
    {
     "data": {
      "text/plain": "          date  publication_date  dosen_kumulativ  personen_erst_kumulativ  \\\n470 2022-04-10  2022-04-11 08:00    172,395,880.0             60,103,214.0   \n471 2022-04-11  2022-04-12 08:00    172,420,421.0             60,105,540.0   \n472 2022-04-12  2022-04-13 08:00    172,459,530.0             60,109,484.0   \n473 2022-04-13  2022-04-14 08:00    172,495,179.0             60,114,114.0   \n474 2022-04-14               NaN              NaN                      NaN   \n475 2022-04-15               NaN              NaN                      NaN   \n476 2022-04-16               NaN              NaN                      NaN   \n477 2022-04-17               NaN              NaN                      NaN   \n478 2022-04-18  2022-04-19 08:00    172,536,857.0             60,118,591.0   \n479 2022-04-19  2022-04-20 08:00    172,566,113.0             60,123,492.0   \n\n     personen_voll_kumulativ  shots_today  shots_sum  is_weekend weekday_name  \\\n470             63,238,599.0     21,244.0  172395880        True          Sun   \n471             63,243,601.0     24,541.0  172420421       False          Mon   \n472             63,250,855.0     39,109.0  172459530       False          Tue   \n473             63,256,538.0     35,649.0  172495179       False          Wed   \n474                      NaN      8,335.6  172503515       False          Thu   \n475                      NaN      8,335.6  172511850       False          Fri   \n476                      NaN      8,335.6  172520186        True          Sat   \n477                      NaN      8,335.6  172528521        True          Sun   \n478             63,265,523.0      8,335.6  172536857       False          Mon   \n479             63,270,874.0     29,256.0  172566113       False          Tue   \n\n     calendar_week year_and_week  shots_sum_100k  shots_today_100k  \n470             14       2022_14       207,230.1              25.5  \n471             15       2022_15       207,259.6              29.5  \n472             15       2022_15       207,306.6              47.0  \n473             15       2022_15       207,349.5              42.9  \n474             15       2022_15       207,359.5              10.0  \n475             15       2022_15       207,369.5              10.0  \n476             15       2022_15       207,379.5              10.0  \n477             15       2022_15       207,389.6              10.0  \n478             16       2022_16       207,399.6              10.0  \n479             16       2022_16       207,434.7              35.2  ",
      "text/html": "<div>\n<style scoped>\n    .dataframe tbody tr th:only-of-type {\n        vertical-align: middle;\n    }\n\n    .dataframe tbody tr th {\n        vertical-align: top;\n    }\n\n    .dataframe thead th {\n        text-align: right;\n    }\n</style>\n<table border=\"1\" class=\"dataframe\">\n  <thead>\n    <tr style=\"text-align: right;\">\n      <th></th>\n      <th>date</th>\n      <th>publication_date</th>\n      <th>dosen_kumulativ</th>\n      <th>personen_erst_kumulativ</th>\n      <th>personen_voll_kumulativ</th>\n      <th>shots_today</th>\n      <th>shots_sum</th>\n      <th>is_weekend</th>\n      <th>weekday_name</th>\n      <th>calendar_week</th>\n      <th>year_and_week</th>\n      <th>shots_sum_100k</th>\n      <th>shots_today_100k</th>\n    </tr>\n  </thead>\n  <tbody>\n    <tr>\n      <th>470</th>\n      <td>2022-04-10</td>\n      <td>2022-04-11 08:00</td>\n      <td>172,395,880.0</td>\n      <td>60,103,214.0</td>\n      <td>63,238,599.0</td>\n      <td>21,244.0</td>\n      <td>172395880</td>\n      <td>True</td>\n      <td>Sun</td>\n      <td>14</td>\n      <td>2022_14</td>\n      <td>207,230.1</td>\n      <td>25.5</td>\n    </tr>\n    <tr>\n      <th>471</th>\n      <td>2022-04-11</td>\n      <td>2022-04-12 08:00</td>\n      <td>172,420,421.0</td>\n      <td>60,105,540.0</td>\n      <td>63,243,601.0</td>\n      <td>24,541.0</td>\n      <td>172420421</td>\n      <td>False</td>\n      <td>Mon</td>\n      <td>15</td>\n      <td>2022_15</td>\n      <td>207,259.6</td>\n      <td>29.5</td>\n    </tr>\n    <tr>\n      <th>472</th>\n      <td>2022-04-12</td>\n      <td>2022-04-13 08:00</td>\n      <td>172,459,530.0</td>\n      <td>60,109,484.0</td>\n      <td>63,250,855.0</td>\n      <td>39,109.0</td>\n      <td>172459530</td>\n      <td>False</td>\n      <td>Tue</td>\n      <td>15</td>\n      <td>2022_15</td>\n      <td>207,306.6</td>\n      <td>47.0</td>\n    </tr>\n    <tr>\n      <th>473</th>\n      <td>2022-04-13</td>\n      <td>2022-04-14 08:00</td>\n      <td>172,495,179.0</td>\n      <td>60,114,114.0</td>\n      <td>63,256,538.0</td>\n      <td>35,649.0</td>\n      <td>172495179</td>\n      <td>False</td>\n      <td>Wed</td>\n      <td>15</td>\n      <td>2022_15</td>\n      <td>207,349.5</td>\n      <td>42.9</td>\n    </tr>\n    <tr>\n      <th>474</th>\n      <td>2022-04-14</td>\n      <td>NaN</td>\n      <td>NaN</td>\n      <td>NaN</td>\n      <td>NaN</td>\n      <td>8,335.6</td>\n      <td>172503515</td>\n      <td>False</td>\n      <td>Thu</td>\n      <td>15</td>\n      <td>2022_15</td>\n      <td>207,359.5</td>\n      <td>10.0</td>\n    </tr>\n    <tr>\n      <th>475</th>\n      <td>2022-04-15</td>\n      <td>NaN</td>\n      <td>NaN</td>\n      <td>NaN</td>\n      <td>NaN</td>\n      <td>8,335.6</td>\n      <td>172511850</td>\n      <td>False</td>\n      <td>Fri</td>\n      <td>15</td>\n      <td>2022_15</td>\n      <td>207,369.5</td>\n      <td>10.0</td>\n    </tr>\n    <tr>\n      <th>476</th>\n      <td>2022-04-16</td>\n      <td>NaN</td>\n      <td>NaN</td>\n      <td>NaN</td>\n      <td>NaN</td>\n      <td>8,335.6</td>\n      <td>172520186</td>\n      <td>True</td>\n      <td>Sat</td>\n      <td>15</td>\n      <td>2022_15</td>\n      <td>207,379.5</td>\n      <td>10.0</td>\n    </tr>\n    <tr>\n      <th>477</th>\n      <td>2022-04-17</td>\n      <td>NaN</td>\n      <td>NaN</td>\n      <td>NaN</td>\n      <td>NaN</td>\n      <td>8,335.6</td>\n      <td>172528521</td>\n      <td>True</td>\n      <td>Sun</td>\n      <td>15</td>\n      <td>2022_15</td>\n      <td>207,389.6</td>\n      <td>10.0</td>\n    </tr>\n    <tr>\n      <th>478</th>\n      <td>2022-04-18</td>\n      <td>2022-04-19 08:00</td>\n      <td>172,536,857.0</td>\n      <td>60,118,591.0</td>\n      <td>63,265,523.0</td>\n      <td>8,335.6</td>\n      <td>172536857</td>\n      <td>False</td>\n      <td>Mon</td>\n      <td>16</td>\n      <td>2022_16</td>\n      <td>207,399.6</td>\n      <td>10.0</td>\n    </tr>\n    <tr>\n      <th>479</th>\n      <td>2022-04-19</td>\n      <td>2022-04-20 08:00</td>\n      <td>172,566,113.0</td>\n      <td>60,123,492.0</td>\n      <td>63,270,874.0</td>\n      <td>29,256.0</td>\n      <td>172566113</td>\n      <td>False</td>\n      <td>Tue</td>\n      <td>16</td>\n      <td>2022_16</td>\n      <td>207,434.7</td>\n      <td>35.2</td>\n    </tr>\n  </tbody>\n</table>\n</div>"
     },
     "execution_count": 69,
     "metadata": {},
     "output_type": "execute_result"
    }
   ],
   "source": [
    "dfs['DE'].tail(10)\n"
   ],
   "metadata": {
    "collapsed": false,
    "pycharm": {
     "name": "#%%\n"
    }
   }
  },
  {
   "cell_type": "markdown",
   "source": [
    "## Save to pickle"
   ],
   "metadata": {
    "collapsed": false,
    "pycharm": {
     "name": "#%% md\n"
    }
   }
  },
  {
   "cell_type": "code",
   "execution_count": 70,
   "outputs": [
    {
     "name": "stdout",
     "output_type": "stream",
     "text": [
      "2022-05-17 23:32:35.020980\n",
      "Saved pickle to data/df_vac_BB.pkl\n",
      "Saved pickle to data/df_vac_BE.pkl\n",
      "Saved pickle to data/df_vac_BW.pkl\n",
      "Saved pickle to data/df_vac_BY.pkl\n",
      "Saved pickle to data/df_vac_DE.pkl\n",
      "Saved pickle to data/df_vac_HB.pkl\n",
      "Saved pickle to data/df_vac_HE.pkl\n",
      "Saved pickle to data/df_vac_HH.pkl\n",
      "Saved pickle to data/df_vac_MV.pkl\n",
      "Saved pickle to data/df_vac_NI.pkl\n",
      "Saved pickle to data/df_vac_NW.pkl\n",
      "Saved pickle to data/df_vac_RP.pkl\n",
      "Saved pickle to data/df_vac_SH.pkl\n",
      "Saved pickle to data/df_vac_SL.pkl\n",
      "Saved pickle to data/df_vac_SN.pkl\n",
      "Saved pickle to data/df_vac_ST.pkl\n",
      "Saved pickle to data/df_vac_TH.pkl\n"
     ]
    }
   ],
   "source": [
    "from datetime import datetime\n",
    "print(f\"{datetime.now()}\")\n",
    "\n",
    "for kurzel in bl_kurzel:\n",
    "    path = f'data/df_vac_{kurzel}.pkl'\n",
    "    dfs[kurzel].to_pickle(path)\n",
    "    print(f'Saved pickle to {path}')\n"
   ],
   "metadata": {
    "collapsed": false,
    "pycharm": {
     "name": "#%% \n"
    }
   }
  }
 ],
 "metadata": {
  "kernelspec": {
   "name": "python3",
   "language": "python",
   "display_name": "Python 3"
  },
  "language_info": {
   "codemirror_mode": {
    "name": "ipython",
    "version": 3
   },
   "file_extension": ".py",
   "mimetype": "text/x-python",
   "name": "python",
   "nbconvert_exporter": "python",
   "pygments_lexer": "ipython3",
   "version": "3.8.8"
  }
 },
 "nbformat": 4,
 "nbformat_minor": 4
}