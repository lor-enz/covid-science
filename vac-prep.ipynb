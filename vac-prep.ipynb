{
 "cells": [
  {
   "cell_type": "markdown",
   "metadata": {
    "collapsed": false
   },
   "source": [
    "# We start off by importing the data"
   ]
  },
  {
   "cell_type": "code",
   "execution_count": 1,
   "metadata": {
    "collapsed": false
   },
   "outputs": [],
   "source": [
    "import math\n",
    "import pandas as pd\n",
    "import shared\n",
    "pd.reset_option('precision')\n",
    "#pd.set_option('float_format', '{:f}'.format)\n",
    "pd.set_option('float_format', '{:,.1f}'.format)\n",
    "\n",
    "bl_kurzel = shared.bl_kurzel\n",
    "\n",
    "dfs = {}\n",
    "for kurzel in shared.bl_kurzel:\n",
    "    dfs[kurzel] = pd.read_csv(f'data/vac_{kurzel}.csv', sep=',', index_col=0, parse_dates=True)\n",
    "    # it's important to define index and parse_dates\n",
    "\n"
   ]
  },
  {
   "cell_type": "code",
   "execution_count": 2,
   "outputs": [
    {
     "data": {
      "text/plain": "['publication_date',\n 'dosen_kumulativ',\n 'personen_erst_kumulativ',\n 'personen_voll_kumulativ',\n 'personen_min1_kumulativ',\n 'personen_zweit_kumulativ',\n 'personen_auffr_kumulativ',\n 'dosen_biontech_kumulativ',\n 'personen_erst_biontech_kumulativ',\n 'personen_voll_biontech_kumulativ',\n 'personen_min1_biontech_kumulativ',\n 'personen_zweit_biontech_kumulativ',\n 'personen_auffr_biontech_kumulativ',\n 'dosen_moderna_kumulativ',\n 'personen_erst_moderna_kumulativ',\n 'personen_voll_moderna_kumulativ',\n 'personen_min1_moderna_kumulativ',\n 'personen_zweit_moderna_kumulativ',\n 'personen_auffr_moderna_kumulativ',\n 'dosen_astrazeneca_kumulativ',\n 'personen_erst_astrazeneca_kumulativ',\n 'personen_voll_astrazeneca_kumulativ',\n 'personen_min1_astrazeneca_kumulativ',\n 'personen_zweit_astrazeneca_kumulativ',\n 'personen_auffr_astrazeneca_kumulativ',\n 'dosen_janssen_kumulativ',\n 'personen_erst_janssen_kumulativ',\n 'personen_voll_janssen_kumulativ',\n 'personen_min1_janssen_kumulativ',\n 'personen_zweit_janssen_kumulativ',\n 'personen_auffr_janssen_kumulativ',\n 'indikation_alter_dosen',\n 'indikation_alter_erst',\n 'indikation_alter_voll',\n 'indikation_alter_min1',\n 'indikation_alter_zweit',\n 'indikation_alter_auffr',\n 'indikation_beruf_dosen',\n 'indikation_beruf_erst',\n 'indikation_beruf_voll',\n 'indikation_beruf_min1',\n 'indikation_beruf_zweit',\n 'indikation_beruf_auffr',\n 'indikation_medizinisch_dosen',\n 'indikation_medizinisch_erst',\n 'indikation_medizinisch_voll',\n 'indikation_medizinisch_min1',\n 'indikation_medizinisch_zweit',\n 'indikation_medizinisch_auffr',\n 'indikation_pflegeheim_dosen',\n 'indikation_pflegeheim_erst',\n 'indikation_pflegeheim_voll',\n 'indikation_pflegeheim_min1',\n 'indikation_pflegeheim_zweit',\n 'indikation_pflegeheim_auffr',\n 'dosen_differenz_zum_vortag',\n 'personen_erst_differenz_zum_vortag',\n 'personen_voll_differenz_zum_vortag',\n 'personen_min1_differenz_zum_vortag',\n 'personen_zweit_differenz_zum_vortag',\n 'personen_auffr_differenz_zum_vortag',\n 'impf_quote_dosen',\n 'impf_quote_erst',\n 'impf_quote_voll',\n 'impf_quote_min1',\n 'impf_quote_zweit',\n 'impf_quote_auffr',\n 'impf_inzidenz_dosen',\n 'impf_inzidenz_erst',\n 'impf_inzidenz_voll',\n 'impf_inzidenz_min1',\n 'impf_inzidenz_zweit',\n 'impf_inzidenz_auffr',\n 'dosen_kumulativ_alter_5bis11',\n 'personen_erst_kumulativ_alter_5bis11',\n 'personen_voll_kumulativ_alter_5bis11',\n 'personen_min1_kumulativ_alter_5bis11',\n 'personen_zweit_kumulativ_alter_5bis11',\n 'personen_auffr_kumulativ_alter_5bis11',\n 'impf_quote_dosen_alter_5bis11',\n 'impf_quote_erst_alter_5bis11',\n 'impf_quote_voll_alter_5bis11',\n 'impf_quote_min1_alter_5bis11',\n 'impf_quote_zweit_alter_5bis11',\n 'impf_quote_auffr_alter_5bis11',\n 'impf_inzidenz_dosen_alter_5bis11',\n 'impf_inzidenz_erst_alter_5bis11',\n 'impf_inzidenz_voll_alter_5bis11',\n 'impf_inzidenz_min1_alter_5bis11',\n 'impf_inzidenz_zweit_alter_5bis11',\n 'impf_inzidenz_auffr_alter_5bis11',\n 'dosen_kumulativ_alter_12bis17',\n 'personen_erst_kumulativ_alter_12bis17',\n 'personen_voll_kumulativ_alter_12bis17',\n 'personen_min1_kumulativ_alter_12bis17',\n 'personen_zweit_kumulativ_alter_12bis17',\n 'personen_auffr_kumulativ_alter_12bis17',\n 'impf_quote_dosen_alter_12bis17',\n 'impf_quote_erst_alter_12bis17',\n 'impf_quote_voll_alter_12bis17',\n 'impf_quote_min1_alter_12bis17',\n 'impf_quote_zweit_alter_12bis17',\n 'impf_quote_auffr_alter_12bis17',\n 'impf_inzidenz_dosen_alter_12bis17',\n 'impf_inzidenz_erst_alter_12bis17',\n 'impf_inzidenz_voll_alter_12bis17',\n 'impf_inzidenz_min1_alter_12bis17',\n 'impf_inzidenz_zweit_alter_12bis17',\n 'impf_inzidenz_auffr_alter_12bis17',\n 'dosen_kumulativ_alter_18plus',\n 'personen_erst_kumulativ_alter_18plus',\n 'personen_voll_kumulativ_alter_18plus',\n 'personen_min1_kumulativ_alter_18plus',\n 'personen_zweit_kumulativ_alter_18plus',\n 'personen_auffr_kumulativ_alter_18plus',\n 'impf_quote_dosen_alter_18plus',\n 'impf_quote_erst_alter_18plus',\n 'impf_quote_voll_alter_18plus',\n 'impf_quote_min1_alter_18plus',\n 'impf_quote_zweit_alter_18plus',\n 'impf_quote_auffr_alter_18plus',\n 'impf_inzidenz_dosen_alter_18plus',\n 'impf_inzidenz_erst_alter_18plus',\n 'impf_inzidenz_voll_alter_18plus',\n 'impf_inzidenz_min1_alter_18plus',\n 'impf_inzidenz_zweit_alter_18plus',\n 'impf_inzidenz_auffr_alter_18plus',\n 'dosen_kumulativ_alter_18bis59',\n 'personen_erst_kumulativ_alter_18bis59',\n 'personen_voll_kumulativ_alter_18bis59',\n 'personen_min1_kumulativ_alter_18bis59',\n 'personen_zweit_kumulativ_alter_18bis59',\n 'personen_auffr_kumulativ_alter_18bis59',\n 'impf_quote_dosen_alter_18bis59',\n 'impf_quote_erst_alter_18bis59',\n 'impf_quote_voll_alter_18bis59',\n 'impf_quote_min1_alter_18bis59',\n 'impf_quote_zweit_alter_18bis59',\n 'impf_quote_auffr_alter_18bis59',\n 'impf_inzidenz_dosen_alter_18bis59',\n 'impf_inzidenz_erst_alter_18bis59',\n 'impf_inzidenz_voll_alter_18bis59',\n 'impf_inzidenz_min1_alter_18bis59',\n 'impf_inzidenz_zweit_alter_18bis59',\n 'impf_inzidenz_auffr_alter_18bis59',\n 'dosen_kumulativ_alter_60plus',\n 'personen_erst_kumulativ_alter_60plus',\n 'personen_voll_kumulativ_alter_60plus',\n 'personen_min1_kumulativ_alter_60plus',\n 'personen_zweit_kumulativ_alter_60plus',\n 'personen_auffr_kumulativ_alter_60plus',\n 'impf_quote_dosen_alter_60plus',\n 'impf_quote_erst_alter_60plus',\n 'impf_quote_voll_alter_60plus',\n 'impf_quote_min1_alter_60plus',\n 'impf_quote_zweit_alter_60plus',\n 'impf_quote_auffr_alter_60plus',\n 'impf_inzidenz_dosen_alter_60plus',\n 'impf_inzidenz_erst_alter_60plus',\n 'impf_inzidenz_voll_alter_60plus',\n 'impf_inzidenz_min1_alter_60plus',\n 'impf_inzidenz_zweit_alter_60plus',\n 'impf_inzidenz_auffr_alter_60plus']"
     },
     "execution_count": 2,
     "metadata": {},
     "output_type": "execute_result"
    }
   ],
   "source": [
    "list(dfs['BY'].columns)"
   ],
   "metadata": {
    "collapsed": false,
    "pycharm": {
     "name": "#%%\n"
    }
   }
  },
  {
   "cell_type": "markdown",
   "metadata": {
    "collapsed": false
   },
   "source": [
    "### Let' pick the few columns that interest us"
   ]
  },
  {
   "cell_type": "code",
   "execution_count": 3,
   "metadata": {
    "collapsed": false
   },
   "outputs": [],
   "source": [
    "for kurzel in bl_kurzel:\n",
    "    dfs[kurzel] = dfs[kurzel][['publication_date', 'dosen_kumulativ', 'personen_erst_kumulativ', 'personen_voll_kumulativ']]"
   ]
  },
  {
   "cell_type": "markdown",
   "metadata": {
    "collapsed": false
   },
   "source": [
    "# Let's fix the data"
   ]
  },
  {
   "cell_type": "markdown",
   "source": [
    "### There are two spikes, those are just wrong data, let's fix them manually"
   ],
   "metadata": {
    "collapsed": false
   }
  },
  {
   "cell_type": "code",
   "execution_count": 4,
   "outputs": [],
   "source": [
    "dfs['BY'].dosen_kumulativ = dfs['BY'].dosen_kumulativ.replace(384311, 343668)\n",
    "dfs['BY'].dosen_kumulativ = dfs['BY'].dosen_kumulativ.replace(1150129, 1186228)\n",
    "\n",
    "\n"
   ],
   "metadata": {
    "collapsed": false,
    "pycharm": {
     "name": "#%%\n"
    }
   }
  },
  {
   "cell_type": "markdown",
   "source": [
    "### New column shots_today instead of total doses til now (dosen_kumulativ)\n",
    "\n",
    "Each row is seen as it's own entry, the value of a day should not depend on the previous value.\n",
    "But that is the case for the dosen_kumulativ column.\n",
    "Instead we will add a new column 'heutige_dosen' and recreate the dosen_kumulativ column"
   ],
   "metadata": {
    "collapsed": false
   }
  },
  {
   "cell_type": "code",
   "execution_count": 5,
   "outputs": [
    {
     "data": {
      "text/plain": "            publication_date  dosen_kumulativ  personen_erst_kumulativ  \\\ndate                                                                     \n2020-12-27  2020-12-28 16:15             3389                     3389   \n2020-12-28  2020-12-29 08:00             5219                     5219   \n2020-12-30  2020-12-31 08:30            28206                    28206   \n2020-12-31  2021-01-01 12:30            37955                    37955   \n2021-01-01  2021-01-02 08:00            39005                    39005   \n\n            personen_voll_kumulativ  \ndate                                 \n2020-12-27                        0  \n2020-12-28                        0  \n2020-12-30                        0  \n2020-12-31                        0  \n2021-01-01                        0  ",
      "text/html": "<div>\n<style scoped>\n    .dataframe tbody tr th:only-of-type {\n        vertical-align: middle;\n    }\n\n    .dataframe tbody tr th {\n        vertical-align: top;\n    }\n\n    .dataframe thead th {\n        text-align: right;\n    }\n</style>\n<table border=\"1\" class=\"dataframe\">\n  <thead>\n    <tr style=\"text-align: right;\">\n      <th></th>\n      <th>publication_date</th>\n      <th>dosen_kumulativ</th>\n      <th>personen_erst_kumulativ</th>\n      <th>personen_voll_kumulativ</th>\n    </tr>\n    <tr>\n      <th>date</th>\n      <th></th>\n      <th></th>\n      <th></th>\n      <th></th>\n    </tr>\n  </thead>\n  <tbody>\n    <tr>\n      <th>2020-12-27</th>\n      <td>2020-12-28 16:15</td>\n      <td>3389</td>\n      <td>3389</td>\n      <td>0</td>\n    </tr>\n    <tr>\n      <th>2020-12-28</th>\n      <td>2020-12-29 08:00</td>\n      <td>5219</td>\n      <td>5219</td>\n      <td>0</td>\n    </tr>\n    <tr>\n      <th>2020-12-30</th>\n      <td>2020-12-31 08:30</td>\n      <td>28206</td>\n      <td>28206</td>\n      <td>0</td>\n    </tr>\n    <tr>\n      <th>2020-12-31</th>\n      <td>2021-01-01 12:30</td>\n      <td>37955</td>\n      <td>37955</td>\n      <td>0</td>\n    </tr>\n    <tr>\n      <th>2021-01-01</th>\n      <td>2021-01-02 08:00</td>\n      <td>39005</td>\n      <td>39005</td>\n      <td>0</td>\n    </tr>\n  </tbody>\n</table>\n</div>"
     },
     "execution_count": 5,
     "metadata": {},
     "output_type": "execute_result"
    }
   ],
   "source": [
    "dfs['BY'].head(5)"
   ],
   "metadata": {
    "collapsed": false,
    "pycharm": {
     "name": "#%%\n"
    }
   }
  },
  {
   "cell_type": "code",
   "execution_count": 6,
   "outputs": [],
   "source": [
    "def add_dif_column(df):\n",
    "    df['shots_today'] = df.dosen_kumulativ - df.dosen_kumulativ.shift(1)\n",
    "    df['shots_today'] = df['shots_today'].fillna(0)\n",
    "    return df.astype({'shots_today': 'int64'})\n",
    "\n",
    "for kurzel in bl_kurzel:\n",
    "    dfs[kurzel] = add_dif_column(dfs[kurzel])"
   ],
   "metadata": {
    "collapsed": false,
    "pycharm": {
     "name": "#%%\n"
    }
   }
  },
  {
   "cell_type": "markdown",
   "source": [
    "### Add missing rows with empty values"
   ],
   "metadata": {
    "collapsed": false
   }
  },
  {
   "cell_type": "code",
   "execution_count": 7,
   "outputs": [
    {
     "data": {
      "text/plain": "            publication_date  dosen_kumulativ  personen_erst_kumulativ  \\\ndate                                                                     \n2020-12-27  2020-12-28 16:15            21566                    21566   \n2020-12-28  2020-12-29 08:00            41962                    41962   \n2020-12-30  2020-12-31 08:30           131626                   131626   \n2020-12-31  2021-01-01 12:30           165575                   165575   \n2021-01-01  2021-01-02 08:00           188553                   188553   \n2021-01-02  2021-01-03 08:00           238809                   238809   \n2021-01-03  2021-01-04 12:00           265986                   265986   \n2021-01-04  2021-01-05 12:00           316962                   316962   \n2021-01-05  2021-01-06 11:00           367331                   367331   \n2021-01-06  2021-01-07 11:00           417060                   417060   \n\n            personen_voll_kumulativ  shots_today  \ndate                                              \n2020-12-27                        0            0  \n2020-12-28                        0        20396  \n2020-12-30                        0        89664  \n2020-12-31                        0        33949  \n2021-01-01                        0        22978  \n2021-01-02                        0        50256  \n2021-01-03                        0        27177  \n2021-01-04                        0        50976  \n2021-01-05                        0        50369  \n2021-01-06                        0        49729  ",
      "text/html": "<div>\n<style scoped>\n    .dataframe tbody tr th:only-of-type {\n        vertical-align: middle;\n    }\n\n    .dataframe tbody tr th {\n        vertical-align: top;\n    }\n\n    .dataframe thead th {\n        text-align: right;\n    }\n</style>\n<table border=\"1\" class=\"dataframe\">\n  <thead>\n    <tr style=\"text-align: right;\">\n      <th></th>\n      <th>publication_date</th>\n      <th>dosen_kumulativ</th>\n      <th>personen_erst_kumulativ</th>\n      <th>personen_voll_kumulativ</th>\n      <th>shots_today</th>\n    </tr>\n    <tr>\n      <th>date</th>\n      <th></th>\n      <th></th>\n      <th></th>\n      <th></th>\n      <th></th>\n    </tr>\n  </thead>\n  <tbody>\n    <tr>\n      <th>2020-12-27</th>\n      <td>2020-12-28 16:15</td>\n      <td>21566</td>\n      <td>21566</td>\n      <td>0</td>\n      <td>0</td>\n    </tr>\n    <tr>\n      <th>2020-12-28</th>\n      <td>2020-12-29 08:00</td>\n      <td>41962</td>\n      <td>41962</td>\n      <td>0</td>\n      <td>20396</td>\n    </tr>\n    <tr>\n      <th>2020-12-30</th>\n      <td>2020-12-31 08:30</td>\n      <td>131626</td>\n      <td>131626</td>\n      <td>0</td>\n      <td>89664</td>\n    </tr>\n    <tr>\n      <th>2020-12-31</th>\n      <td>2021-01-01 12:30</td>\n      <td>165575</td>\n      <td>165575</td>\n      <td>0</td>\n      <td>33949</td>\n    </tr>\n    <tr>\n      <th>2021-01-01</th>\n      <td>2021-01-02 08:00</td>\n      <td>188553</td>\n      <td>188553</td>\n      <td>0</td>\n      <td>22978</td>\n    </tr>\n    <tr>\n      <th>2021-01-02</th>\n      <td>2021-01-03 08:00</td>\n      <td>238809</td>\n      <td>238809</td>\n      <td>0</td>\n      <td>50256</td>\n    </tr>\n    <tr>\n      <th>2021-01-03</th>\n      <td>2021-01-04 12:00</td>\n      <td>265986</td>\n      <td>265986</td>\n      <td>0</td>\n      <td>27177</td>\n    </tr>\n    <tr>\n      <th>2021-01-04</th>\n      <td>2021-01-05 12:00</td>\n      <td>316962</td>\n      <td>316962</td>\n      <td>0</td>\n      <td>50976</td>\n    </tr>\n    <tr>\n      <th>2021-01-05</th>\n      <td>2021-01-06 11:00</td>\n      <td>367331</td>\n      <td>367331</td>\n      <td>0</td>\n      <td>50369</td>\n    </tr>\n    <tr>\n      <th>2021-01-06</th>\n      <td>2021-01-07 11:00</td>\n      <td>417060</td>\n      <td>417060</td>\n      <td>0</td>\n      <td>49729</td>\n    </tr>\n  </tbody>\n</table>\n</div>"
     },
     "execution_count": 7,
     "metadata": {},
     "output_type": "execute_result"
    }
   ],
   "source": [
    "dfs['DE'].head(10)"
   ],
   "metadata": {
    "collapsed": false,
    "pycharm": {
     "name": "#%%\n"
    }
   }
  },
  {
   "cell_type": "code",
   "execution_count": 8,
   "outputs": [
    {
     "data": {
      "text/plain": "            publication_date  dosen_kumulativ  personen_erst_kumulativ  \\\ndate                                                                     \n2022-01-02  2022-01-03 08:00        149673801                 58129542   \n2022-01-03  2022-01-04 08:00        150090299                 58165615   \n2022-01-04  2022-01-05 08:00        150983426                 58236287   \n2022-01-05  2022-01-06 08:00        151807909                 58297042   \n2022-01-06  2022-01-07 08:00        152496126                 58351202   \n2022-01-09  2022-01-10 08:00        153899268                 58465277   \n2022-01-10  2022-01-11 08:00        154550464                 58516607   \n2022-01-11  2022-01-12 08:00        155365945                 58574159   \n2022-01-12  2022-01-13 08:00        156257670                 58639456   \n2022-01-13  2022-01-14 08:00        157130393                 58701417   \n\n            personen_voll_kumulativ  shots_today  \ndate                                              \n2022-01-02                 59209560       910054  \n2022-01-03                 59252481       416498  \n2022-01-04                 59371059       893127  \n2022-01-05                 59483838       824483  \n2022-01-06                 59574879       688217  \n2022-01-09                 59787106      1403142  \n2022-01-10                 59883814       651196  \n2022-01-11                 60004889       815481  \n2022-01-12                 60141697       891725  \n2022-01-13                 60272356       872723  ",
      "text/html": "<div>\n<style scoped>\n    .dataframe tbody tr th:only-of-type {\n        vertical-align: middle;\n    }\n\n    .dataframe tbody tr th {\n        vertical-align: top;\n    }\n\n    .dataframe thead th {\n        text-align: right;\n    }\n</style>\n<table border=\"1\" class=\"dataframe\">\n  <thead>\n    <tr style=\"text-align: right;\">\n      <th></th>\n      <th>publication_date</th>\n      <th>dosen_kumulativ</th>\n      <th>personen_erst_kumulativ</th>\n      <th>personen_voll_kumulativ</th>\n      <th>shots_today</th>\n    </tr>\n    <tr>\n      <th>date</th>\n      <th></th>\n      <th></th>\n      <th></th>\n      <th></th>\n      <th></th>\n    </tr>\n  </thead>\n  <tbody>\n    <tr>\n      <th>2022-01-02</th>\n      <td>2022-01-03 08:00</td>\n      <td>149673801</td>\n      <td>58129542</td>\n      <td>59209560</td>\n      <td>910054</td>\n    </tr>\n    <tr>\n      <th>2022-01-03</th>\n      <td>2022-01-04 08:00</td>\n      <td>150090299</td>\n      <td>58165615</td>\n      <td>59252481</td>\n      <td>416498</td>\n    </tr>\n    <tr>\n      <th>2022-01-04</th>\n      <td>2022-01-05 08:00</td>\n      <td>150983426</td>\n      <td>58236287</td>\n      <td>59371059</td>\n      <td>893127</td>\n    </tr>\n    <tr>\n      <th>2022-01-05</th>\n      <td>2022-01-06 08:00</td>\n      <td>151807909</td>\n      <td>58297042</td>\n      <td>59483838</td>\n      <td>824483</td>\n    </tr>\n    <tr>\n      <th>2022-01-06</th>\n      <td>2022-01-07 08:00</td>\n      <td>152496126</td>\n      <td>58351202</td>\n      <td>59574879</td>\n      <td>688217</td>\n    </tr>\n    <tr>\n      <th>2022-01-09</th>\n      <td>2022-01-10 08:00</td>\n      <td>153899268</td>\n      <td>58465277</td>\n      <td>59787106</td>\n      <td>1403142</td>\n    </tr>\n    <tr>\n      <th>2022-01-10</th>\n      <td>2022-01-11 08:00</td>\n      <td>154550464</td>\n      <td>58516607</td>\n      <td>59883814</td>\n      <td>651196</td>\n    </tr>\n    <tr>\n      <th>2022-01-11</th>\n      <td>2022-01-12 08:00</td>\n      <td>155365945</td>\n      <td>58574159</td>\n      <td>60004889</td>\n      <td>815481</td>\n    </tr>\n    <tr>\n      <th>2022-01-12</th>\n      <td>2022-01-13 08:00</td>\n      <td>156257670</td>\n      <td>58639456</td>\n      <td>60141697</td>\n      <td>891725</td>\n    </tr>\n    <tr>\n      <th>2022-01-13</th>\n      <td>2022-01-14 08:00</td>\n      <td>157130393</td>\n      <td>58701417</td>\n      <td>60272356</td>\n      <td>872723</td>\n    </tr>\n  </tbody>\n</table>\n</div>"
     },
     "execution_count": 8,
     "metadata": {},
     "output_type": "execute_result"
    }
   ],
   "source": [
    "dfs['DE'].tail(10)"
   ],
   "metadata": {
    "collapsed": false,
    "pycharm": {
     "name": "#%%\n"
    }
   }
  },
  {
   "cell_type": "code",
   "execution_count": 9,
   "outputs": [],
   "source": [
    "def fix_missing_days(df):\n",
    "    # fill in the dates\n",
    "    idx = pd.date_range(start='2020-12-26', end=df.index.max())\n",
    "\n",
    "    df = df.reindex(idx)\n",
    "\n",
    "    # Create new index column because that's waay easier than having the date column be the index\n",
    "    df = df.reset_index()\n",
    "    df.at[0,'dosen_kumulativ'] = 0\n",
    "    df.at[0,'shots_today'] = 0\n",
    "    df.at[0,'personen_erst_kumulativ'] = 0\n",
    "    df.at[0,'personen_voll_kumulativ'] = 0\n",
    "    df.at[1,'shots_today'] =  df.iloc[1, :]['dosen_kumulativ']\n",
    "\n",
    "    return df.rename(columns={'index': 'date'})\n",
    "\n",
    "for kurzel in bl_kurzel:\n",
    "    dfs[kurzel] = fix_missing_days(dfs[kurzel])\n"
   ],
   "metadata": {
    "collapsed": false,
    "pycharm": {
     "name": "#%%\n"
    }
   }
  },
  {
   "cell_type": "markdown",
   "source": [
    "### Fix NaN values in shots_today"
   ],
   "metadata": {
    "collapsed": false,
    "pycharm": {
     "name": "#%% md\n"
    }
   }
  },
  {
   "cell_type": "code",
   "execution_count": 10,
   "outputs": [],
   "source": [
    "def fix_NaN_dosen(df, column):\n",
    "    i = 0\n",
    "    while i < len(df.index):\n",
    "        row = df.iloc[i, :]\n",
    "        if pd.isnull(row[column]):\n",
    "            j = 1\n",
    "            new_row = df.iloc[i+j, :]\n",
    "            while pd.isnull(new_row[column]):\n",
    "                j = j + 1\n",
    "                new_row = df.iloc[i+j, :]\n",
    "            next_valid_row = df.iloc[i+j, :]\n",
    "            quotient = next_valid_row[column] / (j+1)\n",
    "            df.at[i+j,column] = quotient\n",
    "            for to_change in range(i, i+j):\n",
    "                df.at[to_change,column] = quotient\n",
    "            i = i+j\n",
    "        else:\n",
    "            i = i + 1\n",
    "\n",
    "for kurzel in bl_kurzel:\n",
    "    fix_NaN_dosen(dfs[kurzel], 'shots_today')\n",
    "\n"
   ],
   "metadata": {
    "collapsed": false,
    "pycharm": {
     "name": "#%%\n"
    }
   }
  },
  {
   "cell_type": "markdown",
   "source": [
    "### New shots_sum column"
   ],
   "metadata": {
    "collapsed": false,
    "pycharm": {
     "name": "#%% md\n"
    }
   }
  },
  {
   "cell_type": "code",
   "execution_count": 11,
   "outputs": [],
   "source": [
    "def add_shots_sum(df):\n",
    "    df['shots_sum'] = 0\n",
    "    df['shots_sum'] = df['shots_today'].cumsum().round()\n",
    "    df.shots_sum = df.shots_sum.astype(int)\n",
    "    return df\n",
    "\n",
    "for kurzel in bl_kurzel:\n",
    "    dfs[kurzel] = add_shots_sum(dfs[kurzel])"
   ],
   "metadata": {
    "collapsed": false,
    "pycharm": {
     "name": "#%%\n"
    }
   }
  },
  {
   "cell_type": "code",
   "execution_count": 12,
   "outputs": [
    {
     "data": {
      "text/plain": "        date  publication_date  dosen_kumulativ  personen_erst_kumulativ  \\\n0 2020-12-26               NaN              0.0                      0.0   \n1 2020-12-27  2020-12-28 16:15          3,389.0                  3,389.0   \n2 2020-12-28  2020-12-29 08:00          5,219.0                  5,219.0   \n3 2020-12-29               NaN              NaN                      NaN   \n4 2020-12-30  2020-12-31 08:30         28,206.0                 28,206.0   \n5 2020-12-31  2021-01-01 12:30         37,955.0                 37,955.0   \n\n   personen_voll_kumulativ  shots_today  shots_sum  \n0                      0.0          0.0          0  \n1                      0.0      3,389.0       3389  \n2                      0.0      1,830.0       5219  \n3                      NaN     11,493.5      16712  \n4                      0.0     11,493.5      28206  \n5                      0.0      9,749.0      37955  ",
      "text/html": "<div>\n<style scoped>\n    .dataframe tbody tr th:only-of-type {\n        vertical-align: middle;\n    }\n\n    .dataframe tbody tr th {\n        vertical-align: top;\n    }\n\n    .dataframe thead th {\n        text-align: right;\n    }\n</style>\n<table border=\"1\" class=\"dataframe\">\n  <thead>\n    <tr style=\"text-align: right;\">\n      <th></th>\n      <th>date</th>\n      <th>publication_date</th>\n      <th>dosen_kumulativ</th>\n      <th>personen_erst_kumulativ</th>\n      <th>personen_voll_kumulativ</th>\n      <th>shots_today</th>\n      <th>shots_sum</th>\n    </tr>\n  </thead>\n  <tbody>\n    <tr>\n      <th>0</th>\n      <td>2020-12-26</td>\n      <td>NaN</td>\n      <td>0.0</td>\n      <td>0.0</td>\n      <td>0.0</td>\n      <td>0.0</td>\n      <td>0</td>\n    </tr>\n    <tr>\n      <th>1</th>\n      <td>2020-12-27</td>\n      <td>2020-12-28 16:15</td>\n      <td>3,389.0</td>\n      <td>3,389.0</td>\n      <td>0.0</td>\n      <td>3,389.0</td>\n      <td>3389</td>\n    </tr>\n    <tr>\n      <th>2</th>\n      <td>2020-12-28</td>\n      <td>2020-12-29 08:00</td>\n      <td>5,219.0</td>\n      <td>5,219.0</td>\n      <td>0.0</td>\n      <td>1,830.0</td>\n      <td>5219</td>\n    </tr>\n    <tr>\n      <th>3</th>\n      <td>2020-12-29</td>\n      <td>NaN</td>\n      <td>NaN</td>\n      <td>NaN</td>\n      <td>NaN</td>\n      <td>11,493.5</td>\n      <td>16712</td>\n    </tr>\n    <tr>\n      <th>4</th>\n      <td>2020-12-30</td>\n      <td>2020-12-31 08:30</td>\n      <td>28,206.0</td>\n      <td>28,206.0</td>\n      <td>0.0</td>\n      <td>11,493.5</td>\n      <td>28206</td>\n    </tr>\n    <tr>\n      <th>5</th>\n      <td>2020-12-31</td>\n      <td>2021-01-01 12:30</td>\n      <td>37,955.0</td>\n      <td>37,955.0</td>\n      <td>0.0</td>\n      <td>9,749.0</td>\n      <td>37955</td>\n    </tr>\n  </tbody>\n</table>\n</div>"
     },
     "execution_count": 12,
     "metadata": {},
     "output_type": "execute_result"
    }
   ],
   "source": [
    "dfs['BY'].head(6)"
   ],
   "metadata": {
    "collapsed": false,
    "pycharm": {
     "name": "#%%\n"
    }
   }
  },
  {
   "cell_type": "markdown",
   "metadata": {
    "collapsed": false
   },
   "source": [
    "### New column: Day of the week"
   ]
  },
  {
   "cell_type": "code",
   "execution_count": 13,
   "outputs": [],
   "source": [
    "for kurzel in bl_kurzel:\n",
    "    dfs[kurzel] = shared.add_weekday_stuff(dfs[kurzel], 'date')"
   ],
   "metadata": {
    "collapsed": false,
    "pycharm": {
     "name": "#%%\n"
    }
   }
  },
  {
   "cell_type": "markdown",
   "source": [
    "## Add columns 'per 100k Pop'"
   ],
   "metadata": {
    "collapsed": false,
    "pycharm": {
     "name": "#%% md\n"
    }
   }
  },
  {
   "cell_type": "code",
   "execution_count": 14,
   "outputs": [],
   "source": [
    "def add_pop_relative_stuff(kurzel):\n",
    "    pop = shared.get_land_pop(kurzel)\n",
    "    dfs[kurzel]['shots_sum_100k'] = dfs[kurzel]['shots_sum'] / pop * 100_000\n",
    "    dfs[kurzel]['shots_today_100k'] = dfs[kurzel]['shots_today'] / pop * 100_000\n",
    "\n",
    "\n",
    "\n",
    "for kurzel in bl_kurzel:\n",
    "    add_pop_relative_stuff(kurzel)"
   ],
   "metadata": {
    "collapsed": false,
    "pycharm": {
     "name": "#%%\n"
    }
   }
  },
  {
   "cell_type": "markdown",
   "source": [
    "## Let's take a look"
   ],
   "metadata": {
    "collapsed": false,
    "pycharm": {
     "name": "#%% md\n"
    }
   }
  },
  {
   "cell_type": "code",
   "execution_count": 15,
   "outputs": [
    {
     "data": {
      "text/plain": "         date  publication_date  dosen_kumulativ  personen_erst_kumulativ  \\\n0  2020-12-26               NaN              0.0                      0.0   \n1  2020-12-27  2020-12-28 16:15         21,566.0                 21,566.0   \n2  2020-12-28  2020-12-29 08:00         41,962.0                 41,962.0   \n3  2020-12-29               NaN              NaN                      NaN   \n4  2020-12-30  2020-12-31 08:30        131,626.0                131,626.0   \n5  2020-12-31  2021-01-01 12:30        165,575.0                165,575.0   \n6  2021-01-01  2021-01-02 08:00        188,553.0                188,553.0   \n7  2021-01-02  2021-01-03 08:00        238,809.0                238,809.0   \n8  2021-01-03  2021-01-04 12:00        265,986.0                265,986.0   \n9  2021-01-04  2021-01-05 12:00        316,962.0                316,962.0   \n10 2021-01-05  2021-01-06 11:00        367,331.0                367,331.0   \n11 2021-01-06  2021-01-07 11:00        417,060.0                417,060.0   \n12 2021-01-07  2021-01-08 11:00        476,959.0                476,959.0   \n13 2021-01-08  2021-01-09 11:00        532,878.0                532,878.0   \n14 2021-01-09               NaN              NaN                      NaN   \n\n    personen_voll_kumulativ  shots_today  shots_sum  is_weekend weekday_name  \\\n0                       0.0          0.0          0        True          Sat   \n1                       0.0     21,566.0      21566        True          Sun   \n2                       0.0     20,396.0      41962       False          Mon   \n3                       NaN     44,832.0      86794       False          Tue   \n4                       0.0     44,832.0     131626       False          Wed   \n5                       0.0     33,949.0     165575       False          Thu   \n6                       0.0     22,978.0     188553       False          Fri   \n7                       0.0     50,256.0     238809        True          Sat   \n8                       0.0     27,177.0     265986        True          Sun   \n9                       0.0     50,976.0     316962       False          Mon   \n10                      0.0     50,369.0     367331       False          Tue   \n11                      0.0     49,729.0     417060       False          Wed   \n12                      0.0     59,899.0     476959       False          Thu   \n13                      0.0     55,919.0     532878       False          Fri   \n14                      NaN     40,234.5     573112        True          Sat   \n\n    calendar_week year_and_week  shots_sum_100k  shots_today_100k  \n0              52       2020_52             0.0               0.0  \n1              52       2020_52            25.9              25.9  \n2              53       2020_53            50.4              24.5  \n3              53       2020_53           104.3              53.9  \n4              53       2020_53           158.2              53.9  \n5              53       2020_53           199.0              40.8  \n6              53       2020_53           226.7              27.6  \n7              53       2020_53           287.1              60.4  \n8              53       2020_53           319.7              32.7  \n9               1       2021_01           381.0              61.3  \n10              1       2021_01           441.6              60.5  \n11              1       2021_01           501.3              59.8  \n12              1       2021_01           573.3              72.0  \n13              1       2021_01           640.6              67.2  \n14              1       2021_01           688.9              48.4  ",
      "text/html": "<div>\n<style scoped>\n    .dataframe tbody tr th:only-of-type {\n        vertical-align: middle;\n    }\n\n    .dataframe tbody tr th {\n        vertical-align: top;\n    }\n\n    .dataframe thead th {\n        text-align: right;\n    }\n</style>\n<table border=\"1\" class=\"dataframe\">\n  <thead>\n    <tr style=\"text-align: right;\">\n      <th></th>\n      <th>date</th>\n      <th>publication_date</th>\n      <th>dosen_kumulativ</th>\n      <th>personen_erst_kumulativ</th>\n      <th>personen_voll_kumulativ</th>\n      <th>shots_today</th>\n      <th>shots_sum</th>\n      <th>is_weekend</th>\n      <th>weekday_name</th>\n      <th>calendar_week</th>\n      <th>year_and_week</th>\n      <th>shots_sum_100k</th>\n      <th>shots_today_100k</th>\n    </tr>\n  </thead>\n  <tbody>\n    <tr>\n      <th>0</th>\n      <td>2020-12-26</td>\n      <td>NaN</td>\n      <td>0.0</td>\n      <td>0.0</td>\n      <td>0.0</td>\n      <td>0.0</td>\n      <td>0</td>\n      <td>True</td>\n      <td>Sat</td>\n      <td>52</td>\n      <td>2020_52</td>\n      <td>0.0</td>\n      <td>0.0</td>\n    </tr>\n    <tr>\n      <th>1</th>\n      <td>2020-12-27</td>\n      <td>2020-12-28 16:15</td>\n      <td>21,566.0</td>\n      <td>21,566.0</td>\n      <td>0.0</td>\n      <td>21,566.0</td>\n      <td>21566</td>\n      <td>True</td>\n      <td>Sun</td>\n      <td>52</td>\n      <td>2020_52</td>\n      <td>25.9</td>\n      <td>25.9</td>\n    </tr>\n    <tr>\n      <th>2</th>\n      <td>2020-12-28</td>\n      <td>2020-12-29 08:00</td>\n      <td>41,962.0</td>\n      <td>41,962.0</td>\n      <td>0.0</td>\n      <td>20,396.0</td>\n      <td>41962</td>\n      <td>False</td>\n      <td>Mon</td>\n      <td>53</td>\n      <td>2020_53</td>\n      <td>50.4</td>\n      <td>24.5</td>\n    </tr>\n    <tr>\n      <th>3</th>\n      <td>2020-12-29</td>\n      <td>NaN</td>\n      <td>NaN</td>\n      <td>NaN</td>\n      <td>NaN</td>\n      <td>44,832.0</td>\n      <td>86794</td>\n      <td>False</td>\n      <td>Tue</td>\n      <td>53</td>\n      <td>2020_53</td>\n      <td>104.3</td>\n      <td>53.9</td>\n    </tr>\n    <tr>\n      <th>4</th>\n      <td>2020-12-30</td>\n      <td>2020-12-31 08:30</td>\n      <td>131,626.0</td>\n      <td>131,626.0</td>\n      <td>0.0</td>\n      <td>44,832.0</td>\n      <td>131626</td>\n      <td>False</td>\n      <td>Wed</td>\n      <td>53</td>\n      <td>2020_53</td>\n      <td>158.2</td>\n      <td>53.9</td>\n    </tr>\n    <tr>\n      <th>5</th>\n      <td>2020-12-31</td>\n      <td>2021-01-01 12:30</td>\n      <td>165,575.0</td>\n      <td>165,575.0</td>\n      <td>0.0</td>\n      <td>33,949.0</td>\n      <td>165575</td>\n      <td>False</td>\n      <td>Thu</td>\n      <td>53</td>\n      <td>2020_53</td>\n      <td>199.0</td>\n      <td>40.8</td>\n    </tr>\n    <tr>\n      <th>6</th>\n      <td>2021-01-01</td>\n      <td>2021-01-02 08:00</td>\n      <td>188,553.0</td>\n      <td>188,553.0</td>\n      <td>0.0</td>\n      <td>22,978.0</td>\n      <td>188553</td>\n      <td>False</td>\n      <td>Fri</td>\n      <td>53</td>\n      <td>2020_53</td>\n      <td>226.7</td>\n      <td>27.6</td>\n    </tr>\n    <tr>\n      <th>7</th>\n      <td>2021-01-02</td>\n      <td>2021-01-03 08:00</td>\n      <td>238,809.0</td>\n      <td>238,809.0</td>\n      <td>0.0</td>\n      <td>50,256.0</td>\n      <td>238809</td>\n      <td>True</td>\n      <td>Sat</td>\n      <td>53</td>\n      <td>2020_53</td>\n      <td>287.1</td>\n      <td>60.4</td>\n    </tr>\n    <tr>\n      <th>8</th>\n      <td>2021-01-03</td>\n      <td>2021-01-04 12:00</td>\n      <td>265,986.0</td>\n      <td>265,986.0</td>\n      <td>0.0</td>\n      <td>27,177.0</td>\n      <td>265986</td>\n      <td>True</td>\n      <td>Sun</td>\n      <td>53</td>\n      <td>2020_53</td>\n      <td>319.7</td>\n      <td>32.7</td>\n    </tr>\n    <tr>\n      <th>9</th>\n      <td>2021-01-04</td>\n      <td>2021-01-05 12:00</td>\n      <td>316,962.0</td>\n      <td>316,962.0</td>\n      <td>0.0</td>\n      <td>50,976.0</td>\n      <td>316962</td>\n      <td>False</td>\n      <td>Mon</td>\n      <td>1</td>\n      <td>2021_01</td>\n      <td>381.0</td>\n      <td>61.3</td>\n    </tr>\n    <tr>\n      <th>10</th>\n      <td>2021-01-05</td>\n      <td>2021-01-06 11:00</td>\n      <td>367,331.0</td>\n      <td>367,331.0</td>\n      <td>0.0</td>\n      <td>50,369.0</td>\n      <td>367331</td>\n      <td>False</td>\n      <td>Tue</td>\n      <td>1</td>\n      <td>2021_01</td>\n      <td>441.6</td>\n      <td>60.5</td>\n    </tr>\n    <tr>\n      <th>11</th>\n      <td>2021-01-06</td>\n      <td>2021-01-07 11:00</td>\n      <td>417,060.0</td>\n      <td>417,060.0</td>\n      <td>0.0</td>\n      <td>49,729.0</td>\n      <td>417060</td>\n      <td>False</td>\n      <td>Wed</td>\n      <td>1</td>\n      <td>2021_01</td>\n      <td>501.3</td>\n      <td>59.8</td>\n    </tr>\n    <tr>\n      <th>12</th>\n      <td>2021-01-07</td>\n      <td>2021-01-08 11:00</td>\n      <td>476,959.0</td>\n      <td>476,959.0</td>\n      <td>0.0</td>\n      <td>59,899.0</td>\n      <td>476959</td>\n      <td>False</td>\n      <td>Thu</td>\n      <td>1</td>\n      <td>2021_01</td>\n      <td>573.3</td>\n      <td>72.0</td>\n    </tr>\n    <tr>\n      <th>13</th>\n      <td>2021-01-08</td>\n      <td>2021-01-09 11:00</td>\n      <td>532,878.0</td>\n      <td>532,878.0</td>\n      <td>0.0</td>\n      <td>55,919.0</td>\n      <td>532878</td>\n      <td>False</td>\n      <td>Fri</td>\n      <td>1</td>\n      <td>2021_01</td>\n      <td>640.6</td>\n      <td>67.2</td>\n    </tr>\n    <tr>\n      <th>14</th>\n      <td>2021-01-09</td>\n      <td>NaN</td>\n      <td>NaN</td>\n      <td>NaN</td>\n      <td>NaN</td>\n      <td>40,234.5</td>\n      <td>573112</td>\n      <td>True</td>\n      <td>Sat</td>\n      <td>1</td>\n      <td>2021_01</td>\n      <td>688.9</td>\n      <td>48.4</td>\n    </tr>\n  </tbody>\n</table>\n</div>"
     },
     "execution_count": 15,
     "metadata": {},
     "output_type": "execute_result"
    }
   ],
   "source": [
    "dfs['DE'].head(15)"
   ],
   "metadata": {
    "collapsed": false,
    "pycharm": {
     "name": "#%%\n"
    }
   }
  },
  {
   "cell_type": "code",
   "execution_count": 16,
   "outputs": [
    {
     "data": {
      "text/plain": "          date  publication_date  dosen_kumulativ  personen_erst_kumulativ  \\\n374 2022-01-04  2022-01-05 08:00    150,983,426.0             58,236,287.0   \n375 2022-01-05  2022-01-06 08:00    151,807,909.0             58,297,042.0   \n376 2022-01-06  2022-01-07 08:00    152,496,126.0             58,351,202.0   \n377 2022-01-07               NaN              NaN                      NaN   \n378 2022-01-08               NaN              NaN                      NaN   \n379 2022-01-09  2022-01-10 08:00    153,899,268.0             58,465,277.0   \n380 2022-01-10  2022-01-11 08:00    154,550,464.0             58,516,607.0   \n381 2022-01-11  2022-01-12 08:00    155,365,945.0             58,574,159.0   \n382 2022-01-12  2022-01-13 08:00    156,257,670.0             58,639,456.0   \n383 2022-01-13  2022-01-14 08:00    157,130,393.0             58,701,417.0   \n\n     personen_voll_kumulativ  shots_today  shots_sum  is_weekend weekday_name  \\\n374             59,371,059.0    893,127.0  150983426       False          Tue   \n375             59,483,838.0    824,483.0  151807909       False          Wed   \n376             59,574,879.0    688,217.0  152496126       False          Thu   \n377                      NaN    467,714.0  152963840       False          Fri   \n378                      NaN    467,714.0  153431554        True          Sat   \n379             59,787,106.0    467,714.0  153899268        True          Sun   \n380             59,883,814.0    651,196.0  154550464       False          Mon   \n381             60,004,889.0    815,481.0  155365945       False          Tue   \n382             60,141,697.0    891,725.0  156257670       False          Wed   \n383             60,272,356.0    872,723.0  157130393       False          Thu   \n\n     calendar_week year_and_week  shots_sum_100k  shots_today_100k  \n374              1       2022_01       181,491.1           1,073.6  \n375              1       2022_01       182,482.1             991.1  \n376              1       2022_01       183,309.4             827.3  \n377              1       2022_01       183,871.6             562.2  \n378              1       2022_01       184,433.9             562.2  \n379              1       2022_01       184,996.1             562.2  \n380              2       2022_02       185,778.9             782.8  \n381              2       2022_02       186,759.1             980.3  \n382              2       2022_02       187,831.0           1,071.9  \n383              2       2022_02       188,880.1           1,049.1  ",
      "text/html": "<div>\n<style scoped>\n    .dataframe tbody tr th:only-of-type {\n        vertical-align: middle;\n    }\n\n    .dataframe tbody tr th {\n        vertical-align: top;\n    }\n\n    .dataframe thead th {\n        text-align: right;\n    }\n</style>\n<table border=\"1\" class=\"dataframe\">\n  <thead>\n    <tr style=\"text-align: right;\">\n      <th></th>\n      <th>date</th>\n      <th>publication_date</th>\n      <th>dosen_kumulativ</th>\n      <th>personen_erst_kumulativ</th>\n      <th>personen_voll_kumulativ</th>\n      <th>shots_today</th>\n      <th>shots_sum</th>\n      <th>is_weekend</th>\n      <th>weekday_name</th>\n      <th>calendar_week</th>\n      <th>year_and_week</th>\n      <th>shots_sum_100k</th>\n      <th>shots_today_100k</th>\n    </tr>\n  </thead>\n  <tbody>\n    <tr>\n      <th>374</th>\n      <td>2022-01-04</td>\n      <td>2022-01-05 08:00</td>\n      <td>150,983,426.0</td>\n      <td>58,236,287.0</td>\n      <td>59,371,059.0</td>\n      <td>893,127.0</td>\n      <td>150983426</td>\n      <td>False</td>\n      <td>Tue</td>\n      <td>1</td>\n      <td>2022_01</td>\n      <td>181,491.1</td>\n      <td>1,073.6</td>\n    </tr>\n    <tr>\n      <th>375</th>\n      <td>2022-01-05</td>\n      <td>2022-01-06 08:00</td>\n      <td>151,807,909.0</td>\n      <td>58,297,042.0</td>\n      <td>59,483,838.0</td>\n      <td>824,483.0</td>\n      <td>151807909</td>\n      <td>False</td>\n      <td>Wed</td>\n      <td>1</td>\n      <td>2022_01</td>\n      <td>182,482.1</td>\n      <td>991.1</td>\n    </tr>\n    <tr>\n      <th>376</th>\n      <td>2022-01-06</td>\n      <td>2022-01-07 08:00</td>\n      <td>152,496,126.0</td>\n      <td>58,351,202.0</td>\n      <td>59,574,879.0</td>\n      <td>688,217.0</td>\n      <td>152496126</td>\n      <td>False</td>\n      <td>Thu</td>\n      <td>1</td>\n      <td>2022_01</td>\n      <td>183,309.4</td>\n      <td>827.3</td>\n    </tr>\n    <tr>\n      <th>377</th>\n      <td>2022-01-07</td>\n      <td>NaN</td>\n      <td>NaN</td>\n      <td>NaN</td>\n      <td>NaN</td>\n      <td>467,714.0</td>\n      <td>152963840</td>\n      <td>False</td>\n      <td>Fri</td>\n      <td>1</td>\n      <td>2022_01</td>\n      <td>183,871.6</td>\n      <td>562.2</td>\n    </tr>\n    <tr>\n      <th>378</th>\n      <td>2022-01-08</td>\n      <td>NaN</td>\n      <td>NaN</td>\n      <td>NaN</td>\n      <td>NaN</td>\n      <td>467,714.0</td>\n      <td>153431554</td>\n      <td>True</td>\n      <td>Sat</td>\n      <td>1</td>\n      <td>2022_01</td>\n      <td>184,433.9</td>\n      <td>562.2</td>\n    </tr>\n    <tr>\n      <th>379</th>\n      <td>2022-01-09</td>\n      <td>2022-01-10 08:00</td>\n      <td>153,899,268.0</td>\n      <td>58,465,277.0</td>\n      <td>59,787,106.0</td>\n      <td>467,714.0</td>\n      <td>153899268</td>\n      <td>True</td>\n      <td>Sun</td>\n      <td>1</td>\n      <td>2022_01</td>\n      <td>184,996.1</td>\n      <td>562.2</td>\n    </tr>\n    <tr>\n      <th>380</th>\n      <td>2022-01-10</td>\n      <td>2022-01-11 08:00</td>\n      <td>154,550,464.0</td>\n      <td>58,516,607.0</td>\n      <td>59,883,814.0</td>\n      <td>651,196.0</td>\n      <td>154550464</td>\n      <td>False</td>\n      <td>Mon</td>\n      <td>2</td>\n      <td>2022_02</td>\n      <td>185,778.9</td>\n      <td>782.8</td>\n    </tr>\n    <tr>\n      <th>381</th>\n      <td>2022-01-11</td>\n      <td>2022-01-12 08:00</td>\n      <td>155,365,945.0</td>\n      <td>58,574,159.0</td>\n      <td>60,004,889.0</td>\n      <td>815,481.0</td>\n      <td>155365945</td>\n      <td>False</td>\n      <td>Tue</td>\n      <td>2</td>\n      <td>2022_02</td>\n      <td>186,759.1</td>\n      <td>980.3</td>\n    </tr>\n    <tr>\n      <th>382</th>\n      <td>2022-01-12</td>\n      <td>2022-01-13 08:00</td>\n      <td>156,257,670.0</td>\n      <td>58,639,456.0</td>\n      <td>60,141,697.0</td>\n      <td>891,725.0</td>\n      <td>156257670</td>\n      <td>False</td>\n      <td>Wed</td>\n      <td>2</td>\n      <td>2022_02</td>\n      <td>187,831.0</td>\n      <td>1,071.9</td>\n    </tr>\n    <tr>\n      <th>383</th>\n      <td>2022-01-13</td>\n      <td>2022-01-14 08:00</td>\n      <td>157,130,393.0</td>\n      <td>58,701,417.0</td>\n      <td>60,272,356.0</td>\n      <td>872,723.0</td>\n      <td>157130393</td>\n      <td>False</td>\n      <td>Thu</td>\n      <td>2</td>\n      <td>2022_02</td>\n      <td>188,880.1</td>\n      <td>1,049.1</td>\n    </tr>\n  </tbody>\n</table>\n</div>"
     },
     "execution_count": 16,
     "metadata": {},
     "output_type": "execute_result"
    }
   ],
   "source": [
    "dfs['DE'].tail(10)\n"
   ],
   "metadata": {
    "collapsed": false,
    "pycharm": {
     "name": "#%%\n"
    }
   }
  },
  {
   "cell_type": "markdown",
   "source": [
    "## Save to pickle"
   ],
   "metadata": {
    "collapsed": false,
    "pycharm": {
     "name": "#%% md\n"
    }
   }
  },
  {
   "cell_type": "code",
   "execution_count": 17,
   "outputs": [
    {
     "name": "stdout",
     "output_type": "stream",
     "text": [
      "2022-01-14 19:04:12.151042\n",
      "Saved pickle to data/df_vac_BB.pkl\n",
      "Saved pickle to data/df_vac_BE.pkl\n",
      "Saved pickle to data/df_vac_BW.pkl\n",
      "Saved pickle to data/df_vac_BY.pkl\n",
      "Saved pickle to data/df_vac_DE.pkl\n",
      "Saved pickle to data/df_vac_HB.pkl\n",
      "Saved pickle to data/df_vac_HE.pkl\n",
      "Saved pickle to data/df_vac_HH.pkl\n",
      "Saved pickle to data/df_vac_MV.pkl\n",
      "Saved pickle to data/df_vac_NI.pkl\n",
      "Saved pickle to data/df_vac_NW.pkl\n",
      "Saved pickle to data/df_vac_RP.pkl\n",
      "Saved pickle to data/df_vac_SH.pkl\n",
      "Saved pickle to data/df_vac_SL.pkl\n",
      "Saved pickle to data/df_vac_SN.pkl\n",
      "Saved pickle to data/df_vac_ST.pkl\n",
      "Saved pickle to data/df_vac_TH.pkl\n"
     ]
    }
   ],
   "source": [
    "from datetime import datetime\n",
    "print(f\"{datetime.now()}\")\n",
    "\n",
    "for kurzel in bl_kurzel:\n",
    "    path = f'data/df_vac_{kurzel}.pkl'\n",
    "    dfs[kurzel].to_pickle(path)\n",
    "    print(f'Saved pickle to {path}')\n"
   ],
   "metadata": {
    "collapsed": false,
    "pycharm": {
     "name": "#%% \n"
    }
   }
  }
 ],
 "metadata": {
  "kernelspec": {
   "name": "python3",
   "language": "python",
   "display_name": "Python 3"
  },
  "language_info": {
   "codemirror_mode": {
    "name": "ipython",
    "version": 3
   },
   "file_extension": ".py",
   "mimetype": "text/x-python",
   "name": "python",
   "nbconvert_exporter": "python",
   "pygments_lexer": "ipython3",
   "version": "3.8.8"
  },
  "pycharm": {
   "stem_cell": {
    "cell_type": "raw",
    "source": [
     "\n"
    ],
    "metadata": {
     "collapsed": false
    }
   }
  }
 },
 "nbformat": 4,
 "nbformat_minor": 4
}