{
 "cells": [
  {
   "cell_type": "markdown",
   "metadata": {
    "collapsed": false
   },
   "source": [
    "# We start off by importing the data"
   ]
  },
  {
   "cell_type": "code",
   "execution_count": null,
   "metadata": {
    "collapsed": false
   },
   "outputs": [],
   "source": [
    "import pandas as pd\n",
    "import downloader as downloader\n",
    "import plotly.graph_objects as go\n",
    "\n",
    "bl_df = {}\n",
    "for kurzel in downloader.BL_KURZEL:\n",
    "    bl_df[kurzel] = pd.read_csv(f'data/vac_{kurzel}.csv', sep=',', index_col=0, parse_dates=True)\n",
    "\n",
    "\n",
    "df_BY = pd.read_csv('data/vac_BY.csv', sep=',', index_col=0, parse_dates=True) # it's important to define index and parse_dates\n",
    "pd.options.plotting.backend = \"plotly\""
   ]
  },
  {
   "cell_type": "markdown",
   "metadata": {
    "collapsed": false
   },
   "source": [
    "## We'll have a look at the column names"
   ]
  },
  {
   "cell_type": "code",
   "execution_count": null,
   "metadata": {
    "collapsed": false
   },
   "outputs": [],
   "source": [
    "# list(df.columns.values)"
   ]
  },
  {
   "cell_type": "markdown",
   "metadata": {
    "collapsed": false
   },
   "source": [
    "### Let's remove columns that don't interest us"
   ]
  },
  {
   "cell_type": "code",
   "execution_count": null,
   "metadata": {
    "collapsed": false
   },
   "outputs": [],
   "source": [
    "uninteresting = ['indikation_alter_dosen', 'indikation_alter_erst', 'indikation_alter_voll',\n",
    "                 'indikation_beruf_dosen', 'indikation_beruf_erst', 'indikation_beruf_voll',\n",
    "                 'indikation_medizinisch_dosen', 'indikation_medizinisch_erst', 'indikation_medizinisch_voll',\n",
    "                'indikation_pflegeheim_dosen', 'indikation_pflegeheim_erst', 'indikation_pflegeheim_voll']\n",
    "\n",
    "different_vaccines = ['dosen_biontech_kumulativ', 'dosen_erst_biontech_kumulativ', 'dosen_voll_biontech_kumulativ',\n",
    "                      'dosen_moderna_kumulativ', 'dosen_erst_moderna_kumulativ', 'dosen_voll_moderna_kumulativ',\n",
    "                      'dosen_astrazeneca_kumulativ', 'dosen_erst_astrazeneca_kumulativ', 'dosen_voll_astrazeneca_kumulativ']\n",
    "\n",
    "df_BY = df_BY.drop(uninteresting, axis=1)\n",
    "df_BY = df_BY.drop(different_vaccines, axis=1)\n",
    "list(df_BY.columns.values)\n"
   ]
  },
  {
   "cell_type": "markdown",
   "metadata": {
    "collapsed": false
   },
   "source": [
    "### Or actually let's just pick the few columns that interest us"
   ]
  },
  {
   "cell_type": "code",
   "execution_count": null,
   "metadata": {
    "collapsed": false
   },
   "outputs": [],
   "source": [
    "df_BY = df_BY[['publication_date', 'dosen_kumulativ', 'impf_inzidenz_dosen']]"
   ]
  },
  {
   "cell_type": "markdown",
   "metadata": {
    "collapsed": false
   },
   "source": [
    "# Let's fix the data"
   ]
  },
  {
   "cell_type": "markdown",
   "metadata": {
    "collapsed": false
   },
   "source": [
    "### We'll first fill missing rows, Saturdays seem to be missing!"
   ]
  },
  {
   "cell_type": "code",
   "execution_count": null,
   "metadata": {
    "collapsed": false
   },
   "outputs": [],
   "source": [
    "df_BY.head()"
   ]
  },
  {
   "cell_type": "code",
   "execution_count": null,
   "outputs": [],
   "source": [
    "idx = pd.date_range(df_BY.index.min(), df_BY.index.max())\n",
    "\n",
    "df_BY = df_BY.reindex(idx, method='ffill')\n",
    "\n",
    "# Create new index column because that's waay easier than having the date column be the index\n",
    "df_BY = df_BY.reset_index()\n",
    "df_BY = df_BY.rename(columns={'index': 'date'})\n",
    "#fill_value=0 \n",
    "# convert column \"a\" to int64 dtype and \"b\" to complex type\n",
    "# df = df.astype({'dosen_kumulativ': int})"
   ],
   "metadata": {
    "collapsed": false,
    "pycharm": {
     "name": "#%%\n"
    }
   }
  },
  {
   "cell_type": "code",
   "execution_count": null,
   "metadata": {
    "collapsed": false
   },
   "outputs": [],
   "source": [
    "# df['dosen_kumulativ'] = df['dosen_kumulativ'].fillna(method='ffill')\n",
    "# df['impf_inzidenz_dosen'] = df['impf_inzidenz_dosen'].fillna(0)\n",
    "# df.head(5)"
   ]
  },
  {
   "cell_type": "markdown",
   "metadata": {
    "collapsed": false
   },
   "source": [
    "### Let's fix errors in the data. There are two spikes, that just seem out of place"
   ]
  },
  {
   "cell_type": "code",
   "execution_count": null,
   "metadata": {
    "collapsed": false
   },
   "outputs": [],
   "source": [
    "df_BY.dosen_kumulativ = df_BY.dosen_kumulativ.replace(384311, 343668)\n",
    "df_BY.dosen_kumulativ = df_BY.dosen_kumulativ.replace(1150129, 1186228)\n",
    "# df.dosen_kumulativ.replace(343668, 384311)\n",
    "\n",
    "# df.at[29, 'dosen_kumulativ'] = 343668\n",
    "# df.at['2020-03-03', 'dosen_kumulativ'] = 1186228\n",
    "\n",
    "\n"
   ]
  },
  {
   "cell_type": "markdown",
   "metadata": {
    "collapsed": false
   },
   "source": [
    "# Let's add some new useful columns"
   ]
  },
  {
   "cell_type": "markdown",
   "metadata": {
    "collapsed": false
   },
   "source": [
    "## New column: Day of the week\n"
   ]
  },
  {
   "cell_type": "code",
   "execution_count": null,
   "outputs": [],
   "source": [
    "df_BY.date\n"
   ],
   "metadata": {
    "collapsed": false,
    "pycharm": {
     "name": "#%%\n"
    }
   }
  },
  {
   "cell_type": "code",
   "execution_count": null,
   "outputs": [],
   "source": [
    "def week_day_string(weekday):\n",
    "    if weekday == 0:\n",
    "        return 'Mon'\n",
    "    elif weekday == 1:\n",
    "        return 'Tue'\n",
    "    elif weekday == 2:\n",
    "        return 'Wed'\n",
    "    elif weekday == 3:\n",
    "        return 'Thu'\n",
    "    elif weekday == 4:\n",
    "        return 'Fri'\n",
    "    elif weekday == 5:\n",
    "        return 'Sat'\n",
    "    elif weekday == 6:\n",
    "        return 'Sun'\n",
    "    else:\n",
    "        return 'other'\n",
    "\n",
    "def is_weekend(weekday):\n",
    "    if weekday == 5:\n",
    "        return True\n",
    "    elif weekday == 6:\n",
    "        return True\n",
    "    else:\n",
    "        return False\n",
    "\n",
    "df_BY['weekday'] = df_BY.date.dt.dayofweek\n",
    "df_BY['is_weekend'] = df_BY.apply(lambda x: is_weekend(x['weekday']), axis=1)\n",
    "df_BY['weekday_name'] = df_BY.apply(lambda x: week_day_string(x['weekday']), axis=1)\n",
    "df_BY['calendar_week'] = df_BY.date.dt.week"
   ],
   "metadata": {
    "collapsed": false,
    "pycharm": {
     "name": "#%%\n"
    }
   }
  },
  {
   "cell_type": "code",
   "execution_count": null,
   "outputs": [],
   "source": [
    "df_BY.tail(5)"
   ],
   "metadata": {
    "collapsed": false,
    "pycharm": {
     "name": "#%%\n"
    }
   }
  },
  {
   "cell_type": "markdown",
   "source": [
    "### Let's fix the sunday value describing the whole weekend\n"
   ],
   "metadata": {
    "collapsed": false
   }
  },
  {
   "cell_type": "code",
   "execution_count": null,
   "outputs": [],
   "source": [
    "to_modify = []\n",
    "prev_value = -1\n",
    "\n",
    "for index, row in df_BY.iterrows():\n",
    "    if row['dosen_kumulativ'] == prev_value and row['weekday'] == 5 :\n",
    "        to_modify.append(index)\n",
    "    prev_value = row['dosen_kumulativ']\n",
    "\n",
    "print(f'Saturdays with 0 {to_modify}')\n",
    "\n",
    "for i in to_modify:\n",
    "    try:\n",
    "        sunday_value = df_BY.loc[df_BY.index == i+1, 'dosen_kumulativ'].values[0]\n",
    "        dif = sunday_value - df_BY.loc[df_BY.index == i, 'dosen_kumulativ'].values[0]\n",
    "        add = int(dif / 2)\n",
    "        new_total = df_BY.loc[df_BY.index == i, 'dosen_kumulativ'].values[0] + add\n",
    "        df_BY.loc[df_BY.index == i, 'dosen_kumulativ'] = new_total\n",
    "        print(f'modifying dosen_kumu of {i} to {new_total} using {sunday_value} and half diff which is {add}')\n",
    "    except IndexError:\n",
    "        print(\"An exception occurred\")\n"
   ],
   "metadata": {
    "collapsed": false,
    "pycharm": {
     "name": "#%%\n"
    }
   }
  },
  {
   "cell_type": "markdown",
   "source": [
    "## New column Differenz in total doses"
   ],
   "metadata": {
    "collapsed": false
   }
  },
  {
   "cell_type": "code",
   "execution_count": null,
   "outputs": [],
   "source": [
    "df_BY['vortag_dosen_dif'] = df_BY.dosen_kumulativ - df_BY.dosen_kumulativ.shift(1)\n",
    "df_BY['vortag_dosen_dif'] = df_BY['vortag_dosen_dif'].fillna(0)\n",
    "df_BY = df_BY.astype({'vortag_dosen_dif': 'int64'})\n",
    "\n"
   ],
   "metadata": {
    "collapsed": false,
    "pycharm": {
     "name": "#%%\n"
    }
   }
  },
  {
   "cell_type": "markdown",
   "metadata": {
    "collapsed": false
   },
   "source": [
    "## Let's take a look"
   ]
  },
  {
   "cell_type": "code",
   "execution_count": null,
   "metadata": {
    "collapsed": false,
    "pycharm": {
     "name": "#%%\n"
    }
   },
   "outputs": [],
   "source": [
    "df_BY.tail(10)"
   ]
  },
  {
   "cell_type": "markdown",
   "source": [
    "## Save to pickle"
   ],
   "metadata": {
    "collapsed": false,
    "pycharm": {
     "name": "#%% md\n"
    }
   }
  },
  {
   "cell_type": "code",
   "execution_count": null,
   "outputs": [],
   "source": [
    "path = 'data/vac-prep.pkl'\n",
    "df_BY.to_pickle(path)\n",
    "print(f'Saved pickle to {path}')"
   ],
   "metadata": {
    "collapsed": false,
    "pycharm": {
     "name": "#%% \n"
    }
   }
  }
 ],
 "metadata": {
  "kernelspec": {
   "display_name": "Python 3 (system-wide)",
   "language": "python",
   "metadata": {
    "cocalc": {
     "description": "Python 3 programming language",
     "priority": 100,
     "url": "https://www.python.org/"
    }
   },
   "name": "python3",
   "resource_dir": "/ext/jupyter/kernels/python3"
  },
  "language_info": {
   "codemirror_mode": {
    "name": "ipython",
    "version": 3
   },
   "file_extension": ".py",
   "mimetype": "text/x-python",
   "name": "python",
   "nbconvert_exporter": "python",
   "pygments_lexer": "ipython3",
   "version": "3.8.5"
  },
  "pycharm": {
   "stem_cell": {
    "cell_type": "raw",
    "source": [
     "\n"
    ],
    "metadata": {
     "collapsed": false
    }
   }
  }
 },
 "nbformat": 4,
 "nbformat_minor": 4
}