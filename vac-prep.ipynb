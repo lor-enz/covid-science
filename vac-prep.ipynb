{
 "cells": [
  {
   "cell_type": "markdown",
   "metadata": {
    "collapsed": false
   },
   "source": [
    "# We start off by importing the data"
   ]
  },
  {
   "cell_type": "code",
   "execution_count": null,
   "metadata": {
    "collapsed": false
   },
   "outputs": [],
   "source": [
    "import math\n",
    "import pandas as pd\n",
    "import shared\n",
    "pd.reset_option('precision')\n",
    "pd.set_option('float_format', '{:f}'.format)\n",
    "bl_kurzel = shared.bl_kurzel\n",
    "\n",
    "dfs = {}\n",
    "for kurzel in shared.bl_kurzel:\n",
    "    dfs[kurzel] = pd.read_csv(f'data/vac_{kurzel}.csv', sep=',', index_col=0, parse_dates=True)\n",
    "    # it's important to define index and parse_dates\n",
    "\n"
   ]
  },
  {
   "cell_type": "markdown",
   "metadata": {
    "collapsed": false
   },
   "source": [
    "### Let' pick the few columns that interest us"
   ]
  },
  {
   "cell_type": "code",
   "execution_count": null,
   "metadata": {
    "collapsed": false
   },
   "outputs": [],
   "source": [
    "for kurzel in bl_kurzel:\n",
    "    dfs[kurzel] = dfs[kurzel][['publication_date', 'dosen_kumulativ']]"
   ]
  },
  {
   "cell_type": "markdown",
   "metadata": {
    "collapsed": false
   },
   "source": [
    "# Let's fix the data"
   ]
  },
  {
   "cell_type": "markdown",
   "source": [
    "### There are two spikes, those are just wrong data, let's fix them manually"
   ],
   "metadata": {
    "collapsed": false
   }
  },
  {
   "cell_type": "code",
   "execution_count": null,
   "outputs": [],
   "source": [
    "dfs['BY'].dosen_kumulativ = dfs['BY'].dosen_kumulativ.replace(384311, 343668)\n",
    "dfs['BY'].dosen_kumulativ = dfs['BY'].dosen_kumulativ.replace(1150129, 1186228)\n",
    "\n",
    "\n"
   ],
   "metadata": {
    "collapsed": false,
    "pycharm": {
     "name": "#%%\n"
    }
   }
  },
  {
   "cell_type": "markdown",
   "source": [
    "### New column shots_today instead of total doses til now (dosen_kumulativ)\n",
    "\n",
    "Each row is seen as it's own entry, the value of a day should not depend on the previous value.\n",
    "But that is the case for the dosen_kumulativ column.\n",
    "Instead we will add a new column 'heutige_dosen' and recreate the dosen_kumulativ column"
   ],
   "metadata": {
    "collapsed": false
   }
  },
  {
   "cell_type": "code",
   "execution_count": null,
   "outputs": [],
   "source": [
    "dfs['BY'].head(5)"
   ],
   "metadata": {
    "collapsed": false,
    "pycharm": {
     "name": "#%%\n"
    }
   }
  },
  {
   "cell_type": "code",
   "execution_count": null,
   "outputs": [],
   "source": [
    "def add_dif_column(df):\n",
    "    df['shots_today'] = df.dosen_kumulativ - df.dosen_kumulativ.shift(1)\n",
    "    df['shots_today'] = df['shots_today'].fillna(0)\n",
    "    return df.astype({'shots_today': 'int64'})\n",
    "\n",
    "for kurzel in bl_kurzel:\n",
    "    dfs[kurzel] = add_dif_column(dfs[kurzel])"
   ],
   "metadata": {
    "collapsed": false,
    "pycharm": {
     "name": "#%%\n"
    }
   }
  },
  {
   "cell_type": "markdown",
   "source": [
    "### Add missing rows with empty values"
   ],
   "metadata": {
    "collapsed": false
   }
  },
  {
   "cell_type": "code",
   "execution_count": null,
   "outputs": [],
   "source": [
    "def fix_missing_days(df):\n",
    "    # fill in the dates\n",
    "    idx = pd.date_range(start='2020-12-26', end=df.index.max())\n",
    "\n",
    "    df = df.reindex(idx)\n",
    "\n",
    "    # Create new index column because that's waay easier than having the date column be the index\n",
    "    df = df.reset_index()\n",
    "    df.at[0,'dosen_kumulativ'] = 0\n",
    "    df.at[0,'shots_today'] = 0\n",
    "    df.at[1,'shots_today'] =  df.iloc[1, :]['dosen_kumulativ']\n",
    "\n",
    "    return df.rename(columns={'index': 'date'})\n",
    "\n",
    "for kurzel in bl_kurzel:\n",
    "    dfs[kurzel] = fix_missing_days(dfs[kurzel])\n"
   ],
   "metadata": {
    "collapsed": false,
    "pycharm": {
     "name": "#%%\n"
    }
   }
  },
  {
   "cell_type": "markdown",
   "source": [
    "### Fix NaN values in shots_today"
   ],
   "metadata": {
    "collapsed": false,
    "pycharm": {
     "name": "#%% md\n"
    }
   }
  },
  {
   "cell_type": "code",
   "execution_count": null,
   "outputs": [],
   "source": [
    "def fix_NaN_dosen(df):\n",
    "    i = 0\n",
    "    while i < len(df.index):\n",
    "        row = df.iloc[i, :]\n",
    "        #print(f'{row} with type: {type(row)}')\n",
    "        if pd.isnull(row['shots_today']):\n",
    "            j = 1\n",
    "            new_row = df.iloc[i+j, :]\n",
    "            while pd.isnull(new_row['shots_today']):\n",
    "                j = j + 1\n",
    "                new_row = df.iloc[i+j, :]\n",
    "            next_valid_row = df.iloc[i+j, :]\n",
    "            quotient = next_valid_row['shots_today'] / (j+1)\n",
    "            df.at[i+j,'shots_today'] = quotient\n",
    "            for to_change in range(i, i+j):\n",
    "                df.at[to_change,'shots_today'] = quotient\n",
    "            i = i+j\n",
    "        else:\n",
    "            i = i + 1\n",
    "\n",
    "for kurzel in bl_kurzel:\n",
    "    fix_NaN_dosen(dfs[kurzel])\n"
   ],
   "metadata": {
    "collapsed": false,
    "pycharm": {
     "name": "#%%\n"
    }
   }
  },
  {
   "cell_type": "markdown",
   "source": [
    "### New shots_sum column"
   ],
   "metadata": {
    "collapsed": false,
    "pycharm": {
     "name": "#%% md\n"
    }
   }
  },
  {
   "cell_type": "code",
   "execution_count": null,
   "outputs": [],
   "source": [
    "def add_shots_sum(df):\n",
    "    df['shots_sum'] = 0\n",
    "    df['shots_sum'] = df['shots_today'].cumsum().round()\n",
    "    df.shots_sum = df.shots_sum.astype(int)\n",
    "    return df\n",
    "\n",
    "for kurzel in bl_kurzel:\n",
    "    dfs[kurzel] = add_shots_sum(dfs[kurzel])"
   ],
   "metadata": {
    "collapsed": false,
    "pycharm": {
     "name": "#%%\n"
    }
   }
  },
  {
   "cell_type": "code",
   "execution_count": null,
   "outputs": [],
   "source": [
    "dfs['BY'].head(6)"
   ],
   "metadata": {
    "collapsed": false,
    "pycharm": {
     "name": "#%%\n"
    }
   }
  },
  {
   "cell_type": "markdown",
   "metadata": {
    "collapsed": false
   },
   "source": [
    "### New column: Day of the week"
   ]
  },
  {
   "cell_type": "code",
   "execution_count": null,
   "outputs": [],
   "source": [
    "for kurzel in bl_kurzel:\n",
    "    dfs[kurzel] = shared.add_weekday_stuff(dfs[kurzel], 'date')"
   ],
   "metadata": {
    "collapsed": false,
    "pycharm": {
     "name": "#%%\n"
    }
   }
  },
  {
   "cell_type": "markdown",
   "metadata": {
    "collapsed": false
   },
   "source": [
    "## Let's take a look"
   ]
  },
  {
   "cell_type": "code",
   "execution_count": null,
   "metadata": {
    "collapsed": false,
    "pycharm": {
     "name": "#%%\n"
    }
   },
   "outputs": [],
   "source": [
    "dfs['BY'].head(15)"
   ]
  },
  {
   "cell_type": "code",
   "execution_count": null,
   "outputs": [],
   "source": [
    "dfs['BY'].tail(10)"
   ],
   "metadata": {
    "collapsed": false,
    "pycharm": {
     "name": "#%%\n"
    }
   }
  },
  {
   "cell_type": "markdown",
   "source": [
    "## Save to pickle"
   ],
   "metadata": {
    "collapsed": false,
    "pycharm": {
     "name": "#%% md\n"
    }
   }
  },
  {
   "cell_type": "code",
   "execution_count": null,
   "outputs": [],
   "source": [
    "from datetime import datetime\n",
    "print(f\"{datetime.now()}\")\n",
    "\n",
    "for kurzel in bl_kurzel:\n",
    "    path = f'data/df_vac_{kurzel}.pkl'\n",
    "    dfs[kurzel].to_pickle(path)\n",
    "    print(f'Saved pickle to {path}')\n"
   ],
   "metadata": {
    "collapsed": false,
    "pycharm": {
     "name": "#%% \n"
    }
   }
  }
 ],
 "metadata": {
  "kernelspec": {
   "name": "python388jvsc74a57bd0d7e94aa8c87bd64ac36c1e14d663d93045602d2b45fd715c850734c977afceca",
   "display_name": "Python 3.8.8 64-bit ('covid-science': conda)"
  },
  "language_info": {
   "codemirror_mode": {
    "name": "ipython",
    "version": 3
   },
   "file_extension": ".py",
   "mimetype": "text/x-python",
   "name": "python",
   "nbconvert_exporter": "python",
   "pygments_lexer": "ipython3",
   "version": "3.8.8"
  },
  "pycharm": {
   "stem_cell": {
    "cell_type": "raw",
    "source": [
     "\n"
    ],
    "metadata": {
     "collapsed": false
    }
   }
  }
 },
 "nbformat": 4,
 "nbformat_minor": 4
}