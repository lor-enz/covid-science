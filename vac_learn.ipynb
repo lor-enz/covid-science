{
 "cells": [
  {
   "cell_type": "markdown",
   "source": [
    "# We start off by reading the data"
   ],
   "metadata": {
    "collapsed": false
   }
  },
  {
   "cell_type": "code",
   "execution_count": 4,
   "outputs": [],
   "source": [
    "import shared\n",
    "\n",
    "bl_dict = shared.bl_dict\n",
    "bl_kurzel = shared.bl_kurzel"
   ],
   "metadata": {
    "collapsed": false,
    "pycharm": {
     "name": "#%%\n"
    }
   }
  },
  {
   "cell_type": "code",
   "execution_count": 5,
   "outputs": [],
   "source": [
    "from datetime import datetime\n",
    "import pandas as pd\n",
    "\n",
    "\n",
    "path = f'data/df_LEARN_BY.pkl'\n",
    "df = pd.read_pickle(path)\n",
    "\n"
   ],
   "metadata": {
    "collapsed": false,
    "pycharm": {
     "name": "#%%\n"
    }
   }
  },
  {
   "cell_type": "code",
   "execution_count": 6,
   "outputs": [
    {
     "data": {
      "text/plain": "          date  publication_date  dosen_kumulativ    shots_today  shots_sum  \\\n126 2021-05-01               NaN              NaN   62403.333333    4705261   \n127 2021-05-02  2021-05-03 08:00        4767664.0   62403.333333    4767664   \n128 2021-05-03  2021-05-04 08:00        4827067.0   59403.000000    4827067   \n129 2021-05-04  2021-05-05 08:00        4959174.0  132107.000000    4959174   \n130 2021-05-05  2021-05-06 08:00        5140210.0  181036.000000    5140210   \n\n     is_weekend weekday_name  calendar_week year_and_week  shots_guess  \\\n126        True          Sat             17       2021_17      47951.0   \n127        True          Sun             17       2021_17      55177.0   \n128       False          Mon             18       2021_18     101803.0   \n129       False          Tue             18       2021_18      60904.0   \n130       False          Wed             18       2021_18      95755.0   \n\n        guess_off  \n126 -14452.333333  \n127  -7226.333333  \n128  42400.000000  \n129 -71203.000000  \n130 -85281.000000  ",
      "text/html": "<div>\n<style scoped>\n    .dataframe tbody tr th:only-of-type {\n        vertical-align: middle;\n    }\n\n    .dataframe tbody tr th {\n        vertical-align: top;\n    }\n\n    .dataframe thead th {\n        text-align: right;\n    }\n</style>\n<table border=\"1\" class=\"dataframe\">\n  <thead>\n    <tr style=\"text-align: right;\">\n      <th></th>\n      <th>date</th>\n      <th>publication_date</th>\n      <th>dosen_kumulativ</th>\n      <th>shots_today</th>\n      <th>shots_sum</th>\n      <th>is_weekend</th>\n      <th>weekday_name</th>\n      <th>calendar_week</th>\n      <th>year_and_week</th>\n      <th>shots_guess</th>\n      <th>guess_off</th>\n    </tr>\n  </thead>\n  <tbody>\n    <tr>\n      <th>126</th>\n      <td>2021-05-01</td>\n      <td>NaN</td>\n      <td>NaN</td>\n      <td>62403.333333</td>\n      <td>4705261</td>\n      <td>True</td>\n      <td>Sat</td>\n      <td>17</td>\n      <td>2021_17</td>\n      <td>47951.0</td>\n      <td>-14452.333333</td>\n    </tr>\n    <tr>\n      <th>127</th>\n      <td>2021-05-02</td>\n      <td>2021-05-03 08:00</td>\n      <td>4767664.0</td>\n      <td>62403.333333</td>\n      <td>4767664</td>\n      <td>True</td>\n      <td>Sun</td>\n      <td>17</td>\n      <td>2021_17</td>\n      <td>55177.0</td>\n      <td>-7226.333333</td>\n    </tr>\n    <tr>\n      <th>128</th>\n      <td>2021-05-03</td>\n      <td>2021-05-04 08:00</td>\n      <td>4827067.0</td>\n      <td>59403.000000</td>\n      <td>4827067</td>\n      <td>False</td>\n      <td>Mon</td>\n      <td>18</td>\n      <td>2021_18</td>\n      <td>101803.0</td>\n      <td>42400.000000</td>\n    </tr>\n    <tr>\n      <th>129</th>\n      <td>2021-05-04</td>\n      <td>2021-05-05 08:00</td>\n      <td>4959174.0</td>\n      <td>132107.000000</td>\n      <td>4959174</td>\n      <td>False</td>\n      <td>Tue</td>\n      <td>18</td>\n      <td>2021_18</td>\n      <td>60904.0</td>\n      <td>-71203.000000</td>\n    </tr>\n    <tr>\n      <th>130</th>\n      <td>2021-05-05</td>\n      <td>2021-05-06 08:00</td>\n      <td>5140210.0</td>\n      <td>181036.000000</td>\n      <td>5140210</td>\n      <td>False</td>\n      <td>Wed</td>\n      <td>18</td>\n      <td>2021_18</td>\n      <td>95755.0</td>\n      <td>-85281.000000</td>\n    </tr>\n  </tbody>\n</table>\n</div>"
     },
     "execution_count": 6,
     "metadata": {},
     "output_type": "execute_result"
    }
   ],
   "source": [
    "df.tail()"
   ],
   "metadata": {
    "collapsed": false,
    "pycharm": {
     "name": "#%%\n"
    }
   }
  }
 ],
 "metadata": {
  "kernelspec": {
   "name": "python3",
   "language": "python",
   "display_name": "Python 3"
  },
  "language_info": {
   "codemirror_mode": {
    "name": "ipython",
    "version": 3
   },
   "file_extension": ".py",
   "mimetype": "text/x-python",
   "name": "python",
   "nbconvert_exporter": "python",
   "pygments_lexer": "ipython3",
   "version": "3.8.8"
  }
 },
 "nbformat": 4,
 "nbformat_minor": 4
}