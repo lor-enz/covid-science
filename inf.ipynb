{
 "cells": [
  {
   "cell_type": "code",
   "execution_count": null,
   "metadata": {
    "pycharm": {
     "name": "#%%\n"
    }
   },
   "outputs": [],
   "source": [
    "import pandas as pd\n",
    "import plotly.graph_objects as go\n",
    "df = pd.read_csv('data/inf.csv', sep=',', index_col=0, parse_dates=True) # it's important to define index and parse_dates\n",
    "pd.options.plotting.backend = \"plotly\""
   ]
  },
  {
   "cell_type": "code",
   "execution_count": null,
   "metadata": {
    "pycharm": {
     "name": "#%%\n"
    }
   },
   "outputs": [],
   "source": [
    "pd.set_option('display.max_columns', None)"
   ]
  },
  {
   "cell_type": "code",
   "execution_count": null,
   "metadata": {
    "pycharm": {
     "name": "#%%\n"
    }
   },
   "outputs": [],
   "source": [
    "ags_df = pd.read_json('data/ags.json').transpose()\n",
    "\n",
    "def get_ags(lk_name):\n",
    "    row = ags_df[ags_df['name'] == lk_name]\n",
    "    return f'{row.index.values[0]}'\n",
    "\n",
    "def get_pop(lk_name):\n",
    "    row = ags_df[ags_df['name'] == lk_name]\n",
    "    return row.population.values[0]\n",
    "\n",
    "ags_df[ags_df['name'] == 'SK München']"
   ]
  },
  {
   "cell_type": "code",
   "execution_count": null,
   "metadata": {
    "pycharm": {
     "name": "#%%\n"
    }
   },
   "outputs": [],
   "source": [
    "get_pop('SK München')"
   ]
  },
  {
   "cell_type": "code",
   "execution_count": null,
   "metadata": {
    "pycharm": {
     "name": "#%%\n"
    }
   },
   "outputs": [],
   "source": [
    "def trend(x):\n",
    "    if x < -0.05:\n",
    "        return 'DOWN_STRONG'\n",
    "    elif x < -0.01:\n",
    "        return 'DOWN'\n",
    "    elif x < 0.01:\n",
    "        return 'STEADY'\n",
    "    elif x < 0.05:\n",
    "        return 'UP'\n",
    "    else:\n",
    "        return 'UP_STRONG'\n",
    "\n",
    "def prepare_lk(lk_name):\n",
    "    lk = df[get_ags(lk_name)].to_frame()\n",
    "    lk = lk.rename(columns={f\"{get_ags(lk_name)}\": \"inf_sum\"})\n",
    "    \n",
    "    \n",
    "    lk['dif'] = lk.inf_sum - lk.inf_sum.shift(1)\n",
    "    lk['dif'] = lk['dif'].fillna(0)\n",
    "    lk = lk.astype({'dif': 'int64'})\n",
    "\n",
    "    lk['rolling_dif'] = lk.dif.rolling(7).mean()\n",
    "\n",
    "    lk['inf_7_tage'] = lk.inf_sum  - lk.inf_sum.shift(7)\n",
    "    lk['inf_7_tage'] = lk['inf_7_tage'].fillna(method='bfill')\n",
    "    lk = lk.astype({'inf_7_tage': 'int64'})\n",
    "\n",
    "    lk['inz'] = round(lk['inf_7_tage'] / (get_pop(lk_name) / 100_000),1)\n",
    "\n",
    "    lk['inz_trend'] = round((lk['inz'] - lk.inz.shift(1)) / lk.inz,2)\n",
    "    lk['inz_trend'] = lk.apply(lambda x: trend(x['inz_trend']), axis=1)\n",
    "    return lk\n",
    "\n",
    "def plot_lk_abs(lk_df):\n",
    "    lk_df['dif'].plot.line()\n",
    "    lk_df['rolling_dif'].plot.line()\n",
    "\n",
    "def plot_lk_inz(*lk_namen, color='cornflowerblue'):\n",
    "    fig = go.Figure()\n",
    "    for lk in lk_namen:\n",
    "        lk_df = prepare_lk(lk)\n",
    "\n",
    "        fig.add_trace(go.Scatter(x = lk_df.index,\n",
    "                             y=lk_df['inz'],\n",
    "                             mode='lines',\n",
    "                             name=lk,\n",
    "                             line=dict(width=2)))\n",
    "        #lk_df['inf_7_tage'].plot.line(x='date', figsize=(18,8), color='silver', linewidth=0.8)\n",
    "\n",
    "    fig.update_layout(\n",
    "        width=1000,\n",
    "        height=500,\n",
    "        title='Inzidenz SK München'\n",
    "    )\n",
    "    fig.show()"
   ]
  },
  {
   "cell_type": "code",
   "execution_count": null,
   "metadata": {
    "pycharm": {
     "name": "#%%\n"
    }
   },
   "outputs": [],
   "source": [
    "plot_lk_inz('SK München','Berlin', 'SK Flensburg', 'LK Tirschenreuth', 'LK Regensburg', 'LK Miesbach')\n",
    "#plot_lk_inz('SK München','Berlin')\n",
    "#plot_lk_inz('SK München')\n"
   ]
  },
  {
   "cell_type": "code",
   "execution_count": null,
   "metadata": {
    "pycharm": {
     "name": "#%%\n"
    }
   },
   "outputs": [],
   "source": [
    "muc_90 = prepare_lk('SK München').tail(90)\n"
   ]
  },
  {
   "cell_type": "code",
   "execution_count": null,
   "metadata": {
    "pycharm": {
     "name": "#%%\n"
    }
   },
   "outputs": [],
   "source": [
    "row = muc_90[muc_90['inz'] == min(muc_90['inz'])]\n",
    "row"
   ]
  },
  {
   "cell_type": "code",
   "execution_count": null,
   "metadata": {
    "pycharm": {
     "name": "#%%\n"
    }
   },
   "outputs": [],
   "source": [
    "\n"
   ]
  },
  {
   "cell_type": "code",
   "execution_count": null,
   "metadata": {
    "pycharm": {
     "name": "#%%\n"
    }
   },
   "outputs": [],
   "source": []
  },
  {
   "cell_type": "code",
   "execution_count": null,
   "outputs": [],
   "source": [
    "muc = prepare_lk('SK München').tail(365)\n",
    "muc[muc.inz == muc.inz.min()]"
   ],
   "metadata": {
    "collapsed": false,
    "pycharm": {
     "name": "#%%\n"
    }
   }
  },
  {
   "cell_type": "code",
   "execution_count": null,
   "outputs": [],
   "source": [
    "muc = prepare_lk('SK München')\n",
    "muc[muc.inz == muc.inz.max()]\n"
   ],
   "metadata": {
    "collapsed": false,
    "pycharm": {
     "name": "#%%\n"
    }
   }
  },
  {
   "cell_type": "code",
   "execution_count": null,
   "metadata": {
    "pycharm": {
     "name": "#%%\n"
    }
   },
   "outputs": [],
   "source": [
    "muc_recent = prepare_lk('SK München').tail(50)\n",
    "muc_recent[muc_recent['inz'] == max(muc_recent['inz'])]\n"
   ]
  }
 ],
 "metadata": {
  "kernelspec": {
   "display_name": "Python 3",
   "language": "python",
   "name": "python3"
  },
  "language_info": {
   "codemirror_mode": {
    "name": "ipython",
    "version": 3
   },
   "file_extension": ".py",
   "mimetype": "text/x-python",
   "name": "python",
   "nbconvert_exporter": "python",
   "pygments_lexer": "ipython3",
   "version": "3.8.8"
  }
 },
 "nbformat": 4,
 "nbformat_minor": 1
}