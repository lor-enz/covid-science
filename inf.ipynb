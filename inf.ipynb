{
 "cells": [
  {
   "cell_type": "code",
   "execution_count": null,
   "metadata": {
    "pycharm": {
     "name": "#%%\n"
    }
   },
   "outputs": [],
   "source": [
    "import pandas as pd\n",
    "import plotly.graph_objects as go\n",
    "import shared\n",
    "\n",
    "pd.options.plotting.backend = \"plotly\"\n",
    "pd.set_option('display.max_columns', None)\n",
    "\n",
    "# it's important to define index and parse_dates\n",
    "landkreise = pd.read_csv('data/inf_lk.csv', sep=',', index_col=0, parse_dates=True)\n",
    "lander = pd.read_csv('data/inf_bl.csv', sep=',', index_col=0, parse_dates=True)\n",
    "\n",
    "palette = shared.get_palette()"
   ]
  },
  {
   "cell_type": "code",
   "execution_count": null,
   "metadata": {
    "pycharm": {
     "name": "#%%\n"
    }
   },
   "outputs": [],
   "source": [
    "ags_df = pd.read_json('data/ags.json').transpose()\n",
    "\n",
    "\n",
    "def get_ags(lk_name):\n",
    "    row = ags_df[ags_df['name'] == lk_name]\n",
    "    return f'{row.index.values[0]}'\n",
    "\n",
    "\n",
    "def get_lk_pop(lk_name):\n",
    "    row = ags_df[ags_df['name'] == lk_name]\n",
    "    return row.population.values[0]\n",
    "\n",
    "\n",
    "# get land pop can be found in shared.py\n",
    "\n",
    "def get_state(lk_name):\n",
    "    row = ags_df[ags_df['name'] == lk_name]\n",
    "    return row.state.values[0]\n",
    "\n",
    "\n",
    "ags_df[ags_df['name'] == 'SK München']"
   ]
  },
  {
   "cell_type": "code",
   "execution_count": null,
   "metadata": {},
   "outputs": [],
   "source": [
    "lander.head(3)"
   ]
  },
  {
   "cell_type": "code",
   "execution_count": null,
   "metadata": {
    "pycharm": {
     "name": "#%%\n"
    }
   },
   "outputs": [],
   "source": [
    "def trend(x):\n",
    "    if x < -0.05:\n",
    "        return 'DOWN_STRONG'\n",
    "    elif x < -0.01:\n",
    "        return 'DOWN'\n",
    "    elif x < 0.01:\n",
    "        return 'STEADY'\n",
    "    elif x < 0.05:\n",
    "        return 'UP'\n",
    "    else:\n",
    "        return 'UP_STRONG'\n",
    "\n",
    "def week_inz_lk(grouped_df, year_and_week):\n",
    "    return round(grouped_df.loc[year_and_week, 'inz'],2)\n",
    "\n",
    "def prepare_lk(lk_name):\n",
    "    lk = landkreise[get_ags(lk_name)].to_frame()\n",
    "    lk = lk.rename(columns={f\"{get_ags(lk_name)}\": \"inf_sum\"})\n",
    "\n",
    "    lk['dif'] = lk.inf_sum - lk.inf_sum.shift(1)\n",
    "    lk['dif'] = lk['dif'].fillna(0)\n",
    "    lk = lk.astype({'dif': 'int64'})\n",
    "\n",
    "    lk['rolling_dif'] = lk.dif.rolling(7).mean()\n",
    "\n",
    "    lk['inf_7_tage'] = lk.inf_sum - lk.inf_sum.shift(7)\n",
    "    lk['inf_7_tage'] = lk['inf_7_tage'].fillna(method='bfill')\n",
    "    lk = lk.astype({'inf_7_tage': 'int64'})\n",
    "\n",
    "    lk['inz'] = round(lk['inf_7_tage'] / (get_lk_pop(lk_name) / 100_000), 1)\n",
    "\n",
    "    lk['inz_dif'] = (lk['inz'] - lk['inz'].shift(1))\n",
    "    lk['inz_trend'] = round(lk['inz_dif'] / lk.inz, 2)\n",
    "    lk['inz_trend'] = lk.apply(lambda x: trend(x['inz_trend']), axis=1)\n",
    "\n",
    "    lk['date'] = lk.index\n",
    "    lk = shared.add_weekday_stuff(lk, 'date')\n",
    "    grouped = lk.groupby(['year_and_week']).mean()\n",
    "    lk['week_inz'] = lk.apply(lambda x: week_inz_lk(grouped, x['year_and_week']), axis=1)\n",
    "\n",
    "    return lk\n"
   ]
  },
  {
   "cell_type": "code",
   "execution_count": null,
   "metadata": {},
   "outputs": [],
   "source": [
    "def week_inz_bl(kurzel, grouped_df, year_and_week):\n",
    "    return round(grouped_df.loc[year_and_week, f'{kurzel}_inz'],2)\n",
    "\n",
    "def prepare_lander(df):\n",
    "    for kurzel in shared.bl_kurzel:\n",
    "        df[f'{kurzel}_sum'] = df[shared.inf_lander_dict[kurzel]]\n",
    "        df = df.drop(columns=[shared.inf_lander_dict[kurzel]])\n",
    "\n",
    "    # add sum_diff\n",
    "    for kurzel in shared.bl_kurzel:\n",
    "        df[f'{kurzel}_dif'] = df[f'{kurzel}_sum'] - df[f'{kurzel}_sum'].shift(1)\n",
    "        df[f'{kurzel}_dif_7'] = df[f'{kurzel}_sum'] - df[f'{kurzel}_sum'].shift(7)\n",
    "    # add inzidenz\n",
    "    for kurzel in shared.bl_kurzel:\n",
    "        df[f'{kurzel}_inz'] = round(df[f'{kurzel}_dif_7'] * 100_000 / shared.get_land_pop(kurzel), 2)\n",
    "    # more\n",
    "    df['date'] = df.index\n",
    "    df = shared.add_weekday_stuff(df, 'date')\n",
    "    # trend\n",
    "    for kurzel in shared.bl_kurzel:\n",
    "        df[f'{kurzel}_inz_dif'] = df[f'{kurzel}_inz'] - df[f'{kurzel}_inz'].shift(1)\n",
    "        df[f'{kurzel}_inz_trend'] = round(df[f'{kurzel}_inz_dif'] / df[f'{kurzel}_inz'], 2)\n",
    "        df[f'{kurzel}_inz_trend'] = df.apply(lambda x: trend(x[f'{kurzel}_inz_trend']), axis=1)\n",
    "        \n",
    "    for kurzel in shared.bl_kurzel:\n",
    "        grouped = df.groupby(['year_and_week']).mean()\n",
    "        df[f'{kurzel}_week_inz'] = df.apply(lambda x: week_inz_bl(kurzel, grouped, x['year_and_week']), axis=1)\n",
    "\n",
    "    return df\n",
    "\n",
    "\n",
    "lander = prepare_lander(lander)"
   ]
  },
  {
   "cell_type": "code",
   "execution_count": null,
   "metadata": {},
   "outputs": [],
   "source": [
    "grouped = lander.groupby(['year_and_week']).mean()\n",
    "round(grouped.loc['2021_07', 'BY_inz'],2)"
   ]
  },
  {
   "cell_type": "code",
   "execution_count": null,
   "metadata": {},
   "outputs": [],
   "source": [
    "lander.tail(3)"
   ]
  },
  {
   "cell_type": "code",
   "execution_count": null,
   "metadata": {},
   "outputs": [],
   "source": [
    "def create_inz_fig():\n",
    "    palette = shared.get_palette()\n",
    "    fig = go.Figure()\n",
    "    fig.update_layout(\n",
    "        width=1050,\n",
    "        height=600,\n",
    "        title='Inzidenz'\n",
    "    )\n",
    "    return fig\n",
    "\n",
    "\n",
    "def add_bl_inz(fig, lander_kurzel, smooth=1):\n",
    "    for kurzel in lander_kurzel:\n",
    "        name = shared.bl_dict[kurzel] if smooth == 1 else f'{shared.bl_dict[kurzel]} (Rolling {smooth} day window)'\n",
    "        fig.add_trace(go.Scatter(x=lander.index,\n",
    "                              y=lander[f'{kurzel}_inz'].rolling(smooth).mean(),\n",
    "                              mode='lines',\n",
    "                              name=name,\n",
    "                              marker_color=next(palette),\n",
    "                              line=dict(width=3)))\n",
    "    return fig\n",
    "\n",
    "\n",
    "def add_lk_inz(fig, lk_namen, smooth=1):\n",
    "    for lk in lk_namen:\n",
    "        lk_df = prepare_lk(lk)\n",
    "        name = lk if smooth == 1 else f'{lk} (Rolling {smooth} day window)'\n",
    "        fig.add_trace(go.Scatter(x=lk_df.index,\n",
    "                              y=lk_df['inz'].rolling(smooth).mean(),\n",
    "                              mode='lines',\n",
    "                              name=name,\n",
    "                              marker_color=next(palette),\n",
    "                              line=dict(width=2)))\n",
    "    return fig\n",
    "\n",
    "\n",
    "def add_bl_cal_inz(fig, lander_kurzel):\n",
    "    for kurzel in lander_kurzel:\n",
    "        fig.add_trace(go.Scatter(x=lander.index,\n",
    "                              y=lander[f'{kurzel}_week_inz'],\n",
    "                              name=f'{shared.bl_dict[kurzel]} (Ø Woche)',\n",
    "                              marker_color=next(palette),\n",
    "                              line_shape='hv',\n",
    "                              line=dict(dash='dot', width=2)))\n",
    "    return fig\n",
    "\n",
    "\n",
    "def add_lk_cal_inz(fig, lk_namen):\n",
    "    for lk in lk_namen:\n",
    "        lk_df = prepare_lk(lk)\n",
    "        #lk_df = lk_df.groupby(['year_and_week']).mean()\n",
    "        fig.add_trace(go.Scatter(x=lk_df.index,\n",
    "                              y=lk_df['week_inz'],\n",
    "                              name=f'{lk} (Ø Woche)',\n",
    "                              marker_color=next(palette),\n",
    "                              line_shape='hv',\n",
    "                              line=dict(dash='dot', width=2)))\n",
    "    return fig\n",
    "\n"
   ]
  },
  {
   "cell_type": "code",
   "execution_count": null,
   "metadata": {},
   "outputs": [],
   "source": [
    "fig = create_inz_fig()\n",
    "fig = add_bl_inz(fig, lander_kurzel=shared.bl_kurzel)\n",
    "fig.update_layout(title='Inzidenz Bundesländer')\n",
    "fig.show()"
   ]
  },
  {
   "cell_type": "code",
   "execution_count": null,
   "metadata": {},
   "outputs": [],
   "source": [
    "fig = create_inz_fig()\n",
    "fig = add_bl_inz(fig, lander_kurzel=['BY', 'DE'])\n",
    "fig = add_lk_inz(fig, lk_namen=['SK München', 'LK München'])\n",
    "fig.update_layout(title='Inzidenz München')\n",
    "fig.show()"
   ]
  },
  {
   "cell_type": "code",
   "execution_count": null,
   "metadata": {
    "pycharm": {
     "name": "#%%\n"
    }
   },
   "outputs": [],
   "source": [
    "fig = create_inz_fig()\n",
    "fig = add_bl_inz(fig, lander_kurzel=['DE'])\n",
    "fig = add_lk_inz(fig,\n",
    "                 lk_namen=['SK München', 'Berlin', 'SK Flensburg', 'LK Tirschenreuth', 'LK Regensburg', 'LK Miesbach'])\n",
    "fig.update_layout(title='Inzidenz Bundesländer')\n",
    "fig.show()\n"
   ]
  },
  {
   "cell_type": "code",
   "execution_count": null,
   "metadata": {},
   "outputs": [],
   "source": [
    "fig = create_inz_fig()\n",
    "fig = add_bl_inz(fig, lander_kurzel=['DE'], smooth=21)\n",
    "fig = add_bl_inz(fig, lander_kurzel=['DE'], smooth=7)\n",
    "fig = add_bl_inz(fig, lander_kurzel=['DE'], smooth=1)\n",
    "fig = add_lk_inz(fig, lk_namen=['SK München'], smooth=1)\n",
    "fig = add_lk_inz(fig, lk_namen=['SK München'], smooth=7)\n",
    "fig = add_lk_inz(fig, lk_namen=['SK München'], smooth=21)\n",
    "\n",
    "fig.update_layout(title='Inzidenz')\n",
    "fig.show()\n",
    "\n"
   ]
  },
  {
   "cell_type": "code",
   "execution_count": null,
   "metadata": {
    "pycharm": {
     "name": "#%%\n"
    }
   },
   "outputs": [],
   "source": [
    "muc_90 = prepare_lk('SK München').tail(90)\n"
   ]
  },
  {
   "cell_type": "code",
   "execution_count": null,
   "metadata": {
    "pycharm": {
     "name": "#%%\n"
    }
   },
   "outputs": [],
   "source": [
    "row = muc_90[muc_90['inz'] == min(muc_90['inz'])]\n",
    "row"
   ]
  },
  {
   "cell_type": "code",
   "execution_count": null,
   "metadata": {
    "pycharm": {
     "name": "#%%\n"
    }
   },
   "outputs": [],
   "source": []
  },
  {
   "cell_type": "code",
   "execution_count": null,
   "outputs": [],
   "source": [
    "muc = prepare_lk('SK München').tail(365)\n",
    "muc[muc.inz == muc.inz.min()]"
   ],
   "metadata": {
    "collapsed": false,
    "pycharm": {
     "name": "#%%\n"
    }
   }
  },
  {
   "cell_type": "code",
   "execution_count": null,
   "outputs": [],
   "source": [
    "muc = prepare_lk('SK München')\n",
    "muc[muc.inz == muc.inz.max()]\n"
   ],
   "metadata": {
    "collapsed": false,
    "pycharm": {
     "name": "#%%\n"
    }
   }
  },
  {
   "cell_type": "code",
   "execution_count": null,
   "metadata": {
    "pycharm": {
     "name": "#%%\n"
    }
   },
   "outputs": [],
   "source": [
    "muc_recent = prepare_lk('SK München').tail(50)\n",
    "muc_recent[muc_recent['inz'] == max(muc_recent['inz'])]"
   ]
  },
  {
   "cell_type": "code",
   "execution_count": null,
   "metadata": {},
   "outputs": [],
   "source": [
    "fig = create_inz_fig()\n",
    "palette = shared.get_palette()\n",
    "fig = add_bl_inz(fig, ['DE','BY'])\n",
    "palette = shared.get_palette()\n",
    "fig = add_bl_cal_inz(fig, ['DE', 'BY'])\n",
    "\n",
    "fig.show()"
   ]
  },
  {
   "cell_type": "code",
   "execution_count": null,
   "metadata": {},
   "outputs": [],
   "source": [
    "fig = create_inz_fig()\n",
    "palette = shared.get_palette()\n",
    "fig = add_bl_inz(fig, ['DE','BY'])\n",
    "fig = add_lk_inz(fig, ['SK München', 'LK München', 'LK Miesbach'])\n",
    "palette = shared.get_palette()\n",
    "fig = add_bl_cal_inz(fig, ['DE', 'BY'])\n",
    "fig = add_lk_cal_inz(fig, ['SK München', 'LK München', 'LK Miesbach'])\n",
    "shared.write_html(fig, f'inz_DE-BY-MUC')\n",
    "fig.show()"
   ]
  },
  {
   "cell_type": "code",
   "execution_count": null,
   "outputs": [],
   "source": [
    "\n",
    "def plot_lk_inz_per_week(*lk_namen):\n",
    "    fig = go.Figure()\n",
    "    for lk in lk_namen:\n",
    "        lk_df = prepare_lk(lk)\n",
    "        lk_df = lk_df.groupby(['year_and_week']).mean()\n",
    "        fig.add_trace(go.Bar(x=lk_df.index,\n",
    "                             y=lk_df['inz'],\n",
    "                             name=lk, ))\n",
    "\n",
    "    fig.update_layout(\n",
    "        width=1000,\n",
    "        height=500,\n",
    "        title=f'Durchschnitt der Inzidenz pro Kalenderwoche'\n",
    "    )\n",
    "    fig.show()\n",
    "\n",
    "\n",
    "plot_lk_inz_per_week('SK München', 'LK München', 'LK Tirschenreuth')"
   ],
   "metadata": {
    "collapsed": false,
    "pycharm": {
     "name": "#%%\n"
    }
   }
  },
  {
   "cell_type": "markdown",
   "source": [
    "### Inzidenz Geglättet"
   ],
   "metadata": {
    "collapsed": false
   }
  },
  {
   "cell_type": "code",
   "execution_count": null,
   "outputs": [],
   "source": [
    "\n",
    "def plot_lk_inz_smooth(*lk_namen, smooth=7):\n",
    "    fig = go.Figure()\n",
    "    for lk in lk_namen:\n",
    "        lk_df = prepare_lk(lk)\n",
    "\n",
    "        fig.add_trace(go.Scatter(x=lk_df.index,\n",
    "                                 y=lk_df['inz'].rolling(smooth).mean(),\n",
    "                                 mode='lines',\n",
    "                                 name=lk,\n",
    "                                 visible=\"legendonly\",\n",
    "                                 line=dict(width=2)))\n",
    "\n",
    "    fig.update_layout(\n",
    "        width=1000,\n",
    "        height=500,\n",
    "        title=f'Inzidenz geglättet ({smooth} Tage Fenster)'\n",
    "    )\n",
    "    fig.show()\n",
    "\n",
    "\n",
    "plot_lk_inz_smooth('SK München', 'LK München', 'Berlin', 'SK Flensburg', 'LK Tirschenreuth', 'LK Regensburg',\n",
    "                   'LK Miesbach', smooth=21)\n"
   ],
   "metadata": {
    "collapsed": false,
    "pycharm": {
     "name": "#%%\n"
    }
   }
  },
  {
   "cell_type": "markdown",
   "source": [
    "### Änderung der Inzidenz"
   ],
   "metadata": {
    "collapsed": false,
    "pycharm": {
     "name": "#%% md\n"
    }
   }
  },
  {
   "cell_type": "code",
   "execution_count": null,
   "outputs": [],
   "source": [
    "def plot_lk_inz_change(*lk_namen, smooth=7):\n",
    "    fig = go.Figure()\n",
    "    for lk in lk_namen:\n",
    "        lk_df = prepare_lk(lk)\n",
    "\n",
    "        fig.add_trace(go.Scatter(x=lk_df.index,\n",
    "                                 y=lk_df['inz_dif'].rolling(smooth).mean(),\n",
    "                                 mode='lines',\n",
    "                                 name=lk,\n",
    "                                 line=dict(width=2)))\n",
    "\n",
    "        fig.add_trace(go.Scatter(x=lk_df.index,\n",
    "                                 y=lk_df['inz_dif'],\n",
    "                                 mode='markers',\n",
    "                                 name=lk,\n",
    "                                 marker=dict(\n",
    "                                     color='grey',\n",
    "                                     size=2,\n",
    "                                 )))\n",
    "\n",
    "    fig.update_layout(\n",
    "        width=1000,\n",
    "        height=500,\n",
    "        title=f'Änderung der Inzidenz Geglättet ({smooth} Tage Fenster)'\n",
    "    )\n",
    "    fig.show()\n",
    "\n",
    "\n",
    "plot_lk_inz_change('SK München', 'Berlin', 'SK Flensburg', 'LK Tirschenreuth', 'LK Regensburg', 'LK Miesbach',\n",
    "                   smooth=21)\n"
   ],
   "metadata": {
    "collapsed": false,
    "pycharm": {
     "name": "#%%\n"
    }
   }
  }
 ],
 "metadata": {
  "kernelspec": {
   "name": "python388jvsc74a57bd0d7e94aa8c87bd64ac36c1e14d663d93045602d2b45fd715c850734c977afceca",
   "display_name": "Python 3.8.8 64-bit ('covid-science': conda)"
  },
  "language_info": {
   "codemirror_mode": {
    "name": "ipython",
    "version": 3
   },
   "file_extension": ".py",
   "mimetype": "text/x-python",
   "name": "python",
   "nbconvert_exporter": "python",
   "pygments_lexer": "ipython3",
   "version": "3.8.8"
  }
 },
 "nbformat": 4,
 "nbformat_minor": 1
}