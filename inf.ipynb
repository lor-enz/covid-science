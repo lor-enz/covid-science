{
 "cells": [
  {
   "cell_type": "code",
   "execution_count": null,
   "outputs": [],
   "source": [
    "import pandas as pd\n",
    "\n",
    "df = pd.read_csv('data/inf.csv', sep=',', index_col=0, parse_dates=True) # it's important to define index and parse_dates"
   ],
   "metadata": {
    "collapsed": false,
    "pycharm": {
     "name": "#%%\n"
    }
   }
  },
  {
   "cell_type": "code",
   "execution_count": null,
   "outputs": [],
   "source": [
    "pd.set_option('display.max_columns', None)"
   ],
   "metadata": {
    "collapsed": false,
    "pycharm": {
     "name": "#%%\n"
    }
   }
  },
  {
   "cell_type": "code",
   "execution_count": null,
   "outputs": [],
   "source": [
    "ags_df = pd.read_json('data/ags.json').transpose()\n",
    "\n",
    "def get_ags(lk_name):\n",
    "    row = ags_df[ags_df['name'] == lk_name]\n",
    "    return f'{row.index.values[0]}'\n",
    "\n",
    "def get_pop(lk_name):\n",
    "    row = ags_df[ags_df['name'] == lk_name]\n",
    "    return row.population.values[0]\n",
    "\n",
    "ags_df[ags_df['name'] == 'SK München']"
   ],
   "metadata": {
    "collapsed": false,
    "pycharm": {
     "name": "#%%\n"
    }
   }
  },
  {
   "cell_type": "code",
   "execution_count": null,
   "outputs": [],
   "source": [
    "get_pop('SK München')"
   ],
   "metadata": {
    "collapsed": false,
    "pycharm": {
     "name": "#%%\n"
    }
   }
  },
  {
   "cell_type": "code",
   "execution_count": null,
   "outputs": [],
   "source": [
    "def trend(x):\n",
    "    if x < -0.05:\n",
    "        return 'DOWN_STRONG'\n",
    "    elif x < -0.01:\n",
    "        return 'DOWN'\n",
    "    elif x < 0.01:\n",
    "        return 'STEADY'\n",
    "    elif x < 0.05:\n",
    "        return 'UP'\n",
    "    else:\n",
    "        return 'UP_STRONG'\n",
    "\n",
    "def prepare_lk(lk_name):\n",
    "    lk = df[get_ags(lk_name)].to_frame()\n",
    "    lk = lk.rename(columns={f\"{get_ags(lk_name)}\": \"inf_sum\"})\n",
    "    \n",
    "    \n",
    "    lk['dif'] = lk.inf_sum - lk.inf_sum.shift(1)\n",
    "    lk['dif'] = lk['dif'].fillna(0)\n",
    "    lk = lk.astype({'dif': 'int64'})\n",
    "\n",
    "    lk['rolling_dif'] = lk.dif.rolling(7).mean()\n",
    "\n",
    "    lk['inf_7_tage'] = lk.inf_sum  - lk.inf_sum.shift(7)\n",
    "    lk['inf_7_tage'] = lk['inf_7_tage'].fillna(method='bfill')\n",
    "    lk = lk.astype({'inf_7_tage': 'int64'})\n",
    "\n",
    "    lk['inz'] = round(lk['inf_7_tage'] / (get_pop(lk_name) / 100_000),1)\n",
    "\n",
    "    lk['inz_trend'] = round((lk['inz'] - lk.inz.shift(1)) / lk.inz,2)\n",
    "    lk['inz_trend'] = lk.apply(lambda x: trend(x['inz_trend']), axis=1)\n",
    "    return lk\n",
    "\n",
    "def plot_lk_abs(lk_df):\n",
    "    lk_df['dif'].plot.line(x='date', figsize=(18,8), color='silver', linewidth=0.8)\n",
    "    lk_df['rolling_dif'].plot.line(x='date', figsize=(18,8), color='cornflowerblue', linewidth=7)\n",
    "\n",
    "def plot_lk_inz(lk_df, color='cornflowerblue'):\n",
    "    #lk_df['inf_7_tage'].plot.line(x='date', figsize=(18,8), color='silver', linewidth=0.8)\n",
    "    lk_df['inz'].plot.line(x='date', figsize=(18,8), color=color, linewidth=7)"
   ],
   "metadata": {
    "collapsed": false,
    "pycharm": {
     "name": "#%%\n"
    }
   }
  },
  {
   "cell_type": "code",
   "execution_count": null,
   "outputs": [],
   "source": [
    "muc = prepare_lk('SK München')\n",
    "muc.tail(60)\n"
   ],
   "metadata": {
    "collapsed": false,
    "pycharm": {
     "name": "#%%\n"
    }
   }
  },
  {
   "cell_type": "code",
   "execution_count": null,
   "outputs": [],
   "source": [
    "plot_lk_inz(prepare_lk('SK München'), color='green')\n",
    "#plot_lk_inz(prepare_lk('SK Flensburg'),color='lightblue')\n",
    "plot_lk_inz(prepare_lk('Berlin'),color='grey')\n",
    "#plot_lk_inz(prepare_lk('LK Tirschenreuth'),color='red')\n"
   ],
   "metadata": {
    "collapsed": false,
    "pycharm": {
     "name": "#%%\n"
    }
   }
  },
  {
   "cell_type": "code",
   "execution_count": null,
   "outputs": [],
   "source": [
    "muc_90 = prepare_lk('SK München').tail(90)\n",
    "\n",
    "plot_lk_inz(muc_90, color='salmon')"
   ],
   "metadata": {
    "collapsed": false,
    "pycharm": {
     "name": "#%%\n"
    }
   }
  },
  {
   "cell_type": "code",
   "execution_count": null,
   "outputs": [],
   "source": [
    "row = muc_90[muc_90['inz'] == min(muc_90['inz'])]\n",
    "row"
   ],
   "metadata": {
    "collapsed": false,
    "pycharm": {
     "name": "#%%\n"
    }
   }
  },
  {
   "cell_type": "code",
   "execution_count": null,
   "outputs": [],
   "source": [
    "muc_recent = prepare_lk('SK München').tail(50)\n",
    "\n",
    "plot_lk_inz(muc_recent, color='tomato')"
   ],
   "metadata": {
    "collapsed": false,
    "pycharm": {
     "name": "#%%\n"
    }
   }
  },
  {
   "cell_type": "code",
   "execution_count": null,
   "outputs": [],
   "source": [
    "muc_recent[muc_recent['inz'] == min(muc_recent['inz'])]"
   ],
   "metadata": {
    "collapsed": false,
    "pycharm": {
     "name": "#%%\n"
    }
   }
  },
  {
   "cell_type": "code",
   "execution_count": null,
   "outputs": [],
   "source": [
    "muc_recent[muc_recent['inz'] == max(muc_recent['inz'])]\n",
    "\n",
    "muc_recent.tail(30)\n"
   ],
   "metadata": {
    "collapsed": false,
    "pycharm": {
     "name": "#%%\n"
    }
   }
  }
 ],
 "metadata": {
  "kernelspec": {
   "display_name": "Python 3",
   "language": "python",
   "name": "python3"
  },
  "language_info": {
   "codemirror_mode": {
    "name": "ipython",
    "version": 2
   },
   "file_extension": ".py",
   "mimetype": "text/x-python",
   "name": "python",
   "nbconvert_exporter": "python",
   "pygments_lexer": "ipython2",
   "version": "2.7.6"
  }
 },
 "nbformat": 4,
 "nbformat_minor": 0
}