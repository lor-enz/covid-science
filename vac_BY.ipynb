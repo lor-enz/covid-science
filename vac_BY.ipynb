{
 "cells": [
  {
   "cell_type": "markdown",
   "metadata": {},
   "source": [
    "# We start off by reading the data"
   ]
  },
  {
   "cell_type": "code",
   "execution_count": null,
   "metadata": {
    "pycharm": {
     "name": "#%%\n"
    }
   },
   "outputs": [],
   "source": [
    "import pandas as pd\n",
    "import plotly.graph_objects as go\n",
    "\n",
    "import shared\n",
    "\n",
    "df = pd.read_pickle('data/df_vac_BY.pkl')\n",
    "pd.options.plotting.backend = \"plotly\"\n",
    "# colors\n",
    "import plotly.express as px\n",
    "from itertools import cycle\n",
    "palette = shared.get_palette()\n",
    "\n"
   ]
  },
  {
   "cell_type": "markdown",
   "metadata": {},
   "source": [
    "## Let's take a look"
   ]
  },
  {
   "cell_type": "code",
   "execution_count": null,
   "metadata": {
    "pycharm": {
     "name": "#%%\n"
    }
   },
   "outputs": [],
   "source": [
    "df.tail(5)"
   ]
  },
  {
   "cell_type": "code",
   "execution_count": null,
   "metadata": {
    "pycharm": {
     "name": "#%%\n"
    }
   },
   "outputs": [],
   "source": [
    "current_official_doses = df.tail(1)['dosen_kumulativ']\n",
    "#current_official_doses.values[0]\n",
    "current_official_doses\n"
   ]
  },
  {
   "cell_type": "code",
   "execution_count": null,
   "metadata": {
    "pycharm": {
     "name": "#%%\n"
    }
   },
   "outputs": [],
   "source": [
    "df.set_index('date')['shots_sum'].plot.line(width=1000, height=500, title='Impfungen Bayern').show()"
   ]
  },
  {
   "cell_type": "markdown",
   "metadata": {
    "pycharm": {
     "is_executing": true,
     "name": "#%% md\n"
    }
   },
   "source": [
    "### Average doses of the last days"
   ]
  },
  {
   "cell_type": "code",
   "execution_count": null,
   "metadata": {
    "pycharm": {
     "name": "#%%\n"
    }
   },
   "outputs": [],
   "source": [
    "def avg_doses_of_last_x_days(last_days):\n",
    "    data = []\n",
    "    for i in range(1, last_days):\n",
    "        data.append([i, int(df.tail(i)['shots_today'].sum() /i)])\n",
    "\n",
    "    a = pd.DataFrame(columns=[\"Last x days\", \"Average vacs\"], data=data)\n",
    "\n",
    "    fig = go.Figure(data=[\n",
    "        go.Bar(name='Three',x=a['Last x days'], y=a['Average vacs'])\n",
    "\n",
    "    ])\n",
    "    fig.update_layout(\n",
    "        width=1000,\n",
    "        height=350,\n",
    "        title='Average doses of the last x days'\n",
    "    )\n",
    "    fig.show()\n",
    "    return a\n"
   ]
  },
  {
   "cell_type": "code",
   "execution_count": null,
   "metadata": {
    "pycharm": {
     "name": "#%%\n"
    }
   },
   "outputs": [],
   "source": [
    "a = avg_doses_of_last_x_days(100)\n",
    "a.head(7)"
   ]
  },
  {
   "cell_type": "code",
   "execution_count": null,
   "metadata": {
    "pycharm": {
     "name": "#%%\n"
    }
   },
   "outputs": [],
   "source": [
    "a = avg_doses_of_last_x_days(365)\n",
    "\n"
   ]
  },
  {
   "cell_type": "code",
   "execution_count": null,
   "metadata": {
    "pycharm": {
     "name": "#%%\n"
    }
   },
   "outputs": [],
   "source": [
    "to_plot = df.set_index('date')\n",
    "\n",
    "fig = go.Figure()\n",
    "\n",
    "def add_rolling(fig1, df1, days):\n",
    "    fig1.add_trace(go.Scatter(x = to_plot.index,\n",
    "                         y=df1.shots_today.rolling(days).mean(),\n",
    "                         mode='lines',\n",
    "                         name=f'Smoothed (rolling {days} day window)',\n",
    "                         marker_color=next(palette),\n",
    "                         line=dict( width=4)))\n",
    "\n",
    "fig.add_trace(go.Scatter(x = to_plot.index,\n",
    "                         y=to_plot.shots_today,\n",
    "                         mode='markers',\n",
    "                         name='Real',\n",
    "                         line=dict(color='grey', width=1)))\n",
    "\n",
    "\n",
    "\n",
    "add_rolling(fig, to_plot, 7)\n",
    "add_rolling(fig, to_plot, 14)\n",
    "add_rolling(fig, to_plot, 21)\n",
    "add_rolling(fig, to_plot, 28)\n",
    "fig.update_layout(\n",
    "    width=1000,\n",
    "    height=500,\n",
    "    yaxis_range=[0,100_000],\n",
    "    title='Daily Vaccination speed change'\n",
    ")\n",
    "fig.show()"
   ]
  },
  {
   "cell_type": "markdown",
   "metadata": {},
   "source": [
    "## Vaccinations per weekday"
   ]
  },
  {
   "cell_type": "code",
   "execution_count": null,
   "metadata": {
    "pycharm": {
     "name": "#%%\n"
    }
   },
   "outputs": [],
   "source": [
    "\n",
    "to_plot_all = df.groupby([\"weekday_name\"])['shots_today'].mean().sort_values()\n",
    "to_plot_10 = df.tail(7*10).groupby([\"weekday_name\"])['shots_today'].mean().sort_values()\n",
    "to_plot_5 = df.tail(7*5).groupby([\"weekday_name\"])['shots_today'].mean().sort_values()\n",
    "to_plot_2 = df.tail(7*2).groupby([\"weekday_name\"])['shots_today'].mean().sort_values()\n",
    "\n",
    "\n",
    "fig = go.Figure(data=[\n",
    "    go.Bar(name='complete timeline', y=to_plot_all, x=to_plot_all.index),\n",
    "    go.Bar(name='10 weeks', y=to_plot_10, x=to_plot_all.index),\n",
    "    go.Bar(name='5 weeks', y=to_plot_5, x=to_plot_all.index),\n",
    "    go.Bar(name='2 weeks', y=to_plot_2, x=to_plot_all.index),\n",
    "])\n",
    "fig.update_layout(\n",
    "    width=1000,\n",
    "    height=500,\n",
    "    title='Average vaccinations per weekday'\n",
    ")\n",
    "fig.show()"
   ]
  },
  {
   "cell_type": "markdown",
   "metadata": {},
   "source": [
    "## Vaccinations per calendar week"
   ]
  },
  {
   "cell_type": "code",
   "execution_count": null,
   "metadata": {
    "pycharm": {
     "name": "#%%\n"
    }
   },
   "outputs": [],
   "source": [
    "# tail(length - 5) removes 53rd calendar week\n",
    "to_plot_sum = df.tail(len(df.index) - 9).groupby([\"calendar_week\"])['shots_today'].sum()\n",
    "to_plot_mean = df.tail(len(df.index) - 9).groupby([\"calendar_week\"])['shots_today'].mean()\n",
    "\n",
    "fig = go.Figure(data=[\n",
    "    go.Bar(name='Sum' ,y=to_plot_sum),\n",
    "    go.Bar(name='Mean per day', y=to_plot_mean),\n",
    "])\n",
    "fig.update_layout(\n",
    "    width=1000,\n",
    "    height=500,\n",
    "    title='Vaccinations per calendar week'\n",
    ")\n",
    "fig.show()\n",
    "\n"
   ]
  },
  {
   "cell_type": "markdown",
   "metadata": {},
   "source": [
    "## Guessing how many vac we'll have next\n",
    "\n",
    "We have to differentiate between weekend and week days"
   ]
  },
  {
   "cell_type": "code",
   "execution_count": null,
   "metadata": {
    "pycharm": {
     "name": "#%%\n"
    }
   },
   "outputs": [],
   "source": [
    "def is_next_day_weekend(df):\n",
    "    next_day = df.tail(1).date + pd.DateOffset(1)\n",
    "    if next_day.dt.dayofweek.values[0] > 4:\n",
    "        return True\n",
    "    else:\n",
    "        return False\n",
    "\n",
    "\n",
    "DAYS_TO_LOOK_BACK = 2\n",
    "\n",
    "import math\n",
    "\n",
    "def guess_next_days_vacs(df, is_weekend):\n",
    "    df_filtered = df[df['is_weekend']==is_weekend]\n",
    "    mean = df_filtered.tail(DAYS_TO_LOOK_BACK)['shots_today'].values.mean()\n",
    "    return math.ceil(mean)\n",
    "\n",
    "\n",
    "print(f\"Mean of weekdays: {guess_next_days_vacs(df, False)}\")\n",
    "print(f\"Mean of weekends: {guess_next_days_vacs(df, True)}\")\n",
    "\n",
    "\n"
   ]
  }
 ],
 "metadata": {
  "kernelspec": {
   "display_name": "Python 3",
   "language": "python",
   "name": "python3"
  },
  "language_info": {
   "codemirror_mode": {
    "name": "ipython",
    "version": 3
   },
   "file_extension": ".py",
   "mimetype": "text/x-python",
   "name": "python",
   "nbconvert_exporter": "python",
   "pygments_lexer": "ipython3",
   "version": "3.8.8"
  },
  "pycharm": {
   "stem_cell": {
    "cell_type": "raw",
    "source": [
     "\n"
    ],
    "metadata": {
     "collapsed": false
    }
   }
  }
 },
 "nbformat": 4,
 "nbformat_minor": 4
}