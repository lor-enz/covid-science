{
 "cells": [
  {
   "cell_type": "markdown",
   "source": [
    "# We start off by reading the data"
   ],
   "metadata": {
    "collapsed": false
   }
  },
  {
   "cell_type": "code",
   "execution_count": null,
   "outputs": [],
   "source": [
    "import pandas as pd\n",
    "import plotly.graph_objects as go\n",
    "df = pd.read_pickle('data/df_vac_BY.pkl')\n",
    "pd.options.plotting.backend = \"plotly\"\n",
    "# colors\n",
    "import plotly.express as px\n",
    "from itertools import cycle\n",
    "palette = cycle(px.colors.qualitative.Safe)\n",
    "#palette = cycle(['black', 'grey', 'red', 'blue'])\n",
    "#palette = cycle(px.colors.sequential.PuBu)\n"
   ],
   "metadata": {
    "collapsed": false,
    "pycharm": {
     "name": "#%%\n"
    }
   }
  },
  {
   "cell_type": "markdown",
   "source": [
    "## Let's take a look"
   ],
   "metadata": {
    "collapsed": false
   }
  },
  {
   "cell_type": "code",
   "execution_count": null,
   "outputs": [],
   "source": [
    "df.tail(5)"
   ],
   "metadata": {
    "collapsed": false,
    "pycharm": {
     "name": "#%%\n"
    }
   }
  },
  {
   "cell_type": "code",
   "execution_count": null,
   "outputs": [],
   "source": [
    "current_official_doses = df.tail(1)['dosen_kumulativ']\n",
    "#current_official_doses.values[0]\n",
    "current_official_doses\n"
   ],
   "metadata": {
    "collapsed": false,
    "pycharm": {
     "name": "#%%\n"
    }
   }
  },
  {
   "cell_type": "code",
   "execution_count": null,
   "outputs": [],
   "source": [
    "df.set_index('date')['dosen_kumulativ'].plot.line(width=1000, height=500, title='Impfungen Bayern').show()"
   ],
   "metadata": {
    "collapsed": false,
    "pycharm": {
     "name": "#%%\n"
    }
   }
  },
  {
   "cell_type": "markdown",
   "source": [
    "### Average doses of the last days"
   ],
   "metadata": {
    "collapsed": false,
    "pycharm": {
     "name": "#%% md\n",
     "is_executing": true
    }
   }
  },
  {
   "cell_type": "code",
   "execution_count": null,
   "outputs": [],
   "source": [
    "def avg_doses_of_last_x_days(last_days):\n",
    "    data = []\n",
    "    for i in range(1, last_days):\n",
    "        data.append([i, int(df.tail(i)['vortag_dosen_dif'].sum() /i)])\n",
    "\n",
    "    a = pd.DataFrame(columns=[\"Last x days\", \"Average vacs\"], data=data)\n",
    "\n",
    "    fig = go.Figure(data=[\n",
    "        go.Bar(name='Three',x=a['Last x days'], y=a['Average vacs'])\n",
    "\n",
    "    ])\n",
    "    fig.update_layout(\n",
    "        width=1000,\n",
    "        height=350,\n",
    "        title='Average doses of the last x days'\n",
    "    )\n",
    "    fig.show()\n",
    "    return a\n"
   ],
   "metadata": {
    "collapsed": false,
    "pycharm": {
     "name": "#%%\n"
    }
   }
  },
  {
   "cell_type": "code",
   "execution_count": null,
   "outputs": [],
   "source": [
    "a = avg_doses_of_last_x_days(100)\n",
    "a.head(7)"
   ],
   "metadata": {
    "collapsed": false,
    "pycharm": {
     "name": "#%%\n"
    }
   }
  },
  {
   "cell_type": "code",
   "execution_count": null,
   "outputs": [],
   "source": [
    "a = avg_doses_of_last_x_days(365)\n",
    "\n"
   ],
   "metadata": {
    "collapsed": false,
    "pycharm": {
     "name": "#%%\n"
    }
   }
  },
  {
   "cell_type": "code",
   "execution_count": null,
   "outputs": [],
   "source": [
    "to_plot = df.set_index('date')\n",
    "\n",
    "fig = go.Figure()\n",
    "\n",
    "def add_rolling(fig1, df1, days):\n",
    "    fig1.add_trace(go.Scatter(x = to_plot.index,\n",
    "                         y=df1.vortag_dosen_dif.rolling(days).mean(),\n",
    "                         mode='lines',\n",
    "                         name=f'Smoothed (rolling {days} day window)',\n",
    "                         marker_color=next(palette),\n",
    "                         line=dict( width=4)))\n",
    "\n",
    "fig.add_trace(go.Scatter(x = to_plot.index,\n",
    "                         y=to_plot.vortag_dosen_dif,\n",
    "                         mode='markers',\n",
    "                         name='Real',\n",
    "                         line=dict(color='grey', width=1)))\n",
    "\n",
    "\n",
    "add_rolling(fig, to_plot, 3)\n",
    "add_rolling(fig, to_plot, 5)\n",
    "add_rolling(fig, to_plot, 7)\n",
    "add_rolling(fig, to_plot, 14)\n",
    "add_rolling(fig, to_plot, 21)\n",
    "add_rolling(fig, to_plot, 28)\n",
    "fig.update_layout(\n",
    "    width=1000,\n",
    "    height=500,\n",
    "    yaxis_range=[0,50_000],\n",
    "    title='Daily Vaccination speed change'\n",
    ")\n",
    "fig.show()"
   ],
   "metadata": {
    "collapsed": false,
    "pycharm": {
     "name": "#%%\n"
    }
   }
  },
  {
   "cell_type": "markdown",
   "source": [
    "## Vaccinations per weekday"
   ],
   "metadata": {
    "collapsed": false
   }
  },
  {
   "cell_type": "code",
   "execution_count": null,
   "outputs": [],
   "source": [
    "\n",
    "to_plot_all = df.groupby([\"weekday_name\"])['vortag_dosen_dif'].mean().sort_values()\n",
    "to_plot_10 = df.tail(7*10).groupby([\"weekday_name\"])['vortag_dosen_dif'].mean().sort_values()\n",
    "to_plot_5 = df.tail(7*5).groupby([\"weekday_name\"])['vortag_dosen_dif'].mean().sort_values()\n",
    "to_plot_2 = df.tail(7*2).groupby([\"weekday_name\"])['vortag_dosen_dif'].mean().sort_values()\n",
    "\n",
    "\n",
    "fig = go.Figure(data=[\n",
    "    go.Bar(name='complete timeline', y=to_plot_all, x=to_plot_all.index),\n",
    "    go.Bar(name='10 weeks', y=to_plot_10, x=to_plot_all.index),\n",
    "    go.Bar(name='5 weeks', y=to_plot_5, x=to_plot_all.index),\n",
    "    go.Bar(name='2 weeks', y=to_plot_2, x=to_plot_all.index),\n",
    "])\n",
    "fig.update_layout(\n",
    "    width=1000,\n",
    "    height=500,\n",
    "    title='Average vaccinations per weekday'\n",
    ")\n",
    "fig.show()"
   ],
   "metadata": {
    "collapsed": false,
    "pycharm": {
     "name": "#%%\n"
    }
   }
  },
  {
   "cell_type": "markdown",
   "source": [
    "## Vaccinations per calendar week"
   ],
   "metadata": {
    "collapsed": false
   }
  },
  {
   "cell_type": "code",
   "execution_count": null,
   "outputs": [],
   "source": [
    "# tail(length - 5) removes 53rd calendar week\n",
    "to_plot_sum = df.tail(len(df.index) - 8).groupby([\"calendar_week\"])['vortag_dosen_dif'].sum()\n",
    "to_plot_mean = df.tail(len(df.index) - 8).groupby([\"calendar_week\"])['vortag_dosen_dif'].mean()\n",
    "\n",
    "fig = go.Figure(data=[\n",
    "    go.Bar(name='Sum', y=to_plot_sum),\n",
    "    go.Bar(name='Mean', y=to_plot_mean),\n",
    "])\n",
    "fig.update_layout(\n",
    "    width=1000,\n",
    "    height=500,\n",
    "    title='Vaccinations per calendar week'\n",
    ")\n",
    "fig.show()\n",
    "\n",
    "\n"
   ],
   "metadata": {
    "collapsed": false,
    "pycharm": {
     "name": "#%%\n"
    }
   }
  }
 ],
 "metadata": {
  "kernelspec": {
   "display_name": "Python 3 (system-wide)",
   "language": "python",
   "metadata": {
    "cocalc": {
     "description": "Python 3 programming language",
     "priority": 100,
     "url": "https://www.python.org/"
    }
   },
   "name": "python3",
   "resource_dir": "/ext/jupyter/kernels/python3"
  },
  "language_info": {
   "codemirror_mode": {
    "name": "ipython",
    "version": 3
   },
   "file_extension": ".py",
   "mimetype": "text/x-python",
   "name": "python",
   "nbconvert_exporter": "python",
   "pygments_lexer": "ipython3",
   "version": "3.8.5"
  },
  "pycharm": {
   "stem_cell": {
    "cell_type": "raw",
    "source": [
     "\n"
    ],
    "metadata": {
     "collapsed": false
    }
   }
  }
 },
 "nbformat": 4,
 "nbformat_minor": 4
}